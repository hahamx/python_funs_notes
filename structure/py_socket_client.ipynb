{
 "cells": [
  {
   "cell_type": "code",
   "execution_count": 1,
   "metadata": {},
   "outputs": [],
   "source": [
    "import pickle\n",
    "import logging\n",
    "import logging.handlers\n",
    "import socketserver\n",
    "import struct\n",
    "\n"
   ]
  },
  {
   "cell_type": "code",
   "execution_count": 2,
   "metadata": {},
   "outputs": [],
   "source": [
    "\n",
    "class LogRecordStreamHandler(socketserver.StreamRequestHandler):\n",
    "    \"\"\"Handler for a streaming logging request.\n",
    "\n",
    "    This basically logs the record using whatever logging policy is\n",
    "    configured locally.\n",
    "    \"\"\"\n",
    "\n",
    "    def handle(self):\n",
    "        \"\"\"\n",
    "        Handle multiple requests - each expected to be a 4-byte length,\n",
    "        followed by the LogRecord in pickle format. Logs the record\n",
    "        according to whatever policy is configured locally.\n",
    "        \"\"\"\n",
    "        while True:\n",
    "            chunk = self.connection.recv(4)\n",
    "            if len(chunk) < 4:\n",
    "                break\n",
    "            slen = struct.unpack('>L', chunk)[0]\n",
    "            chunk = self.connection.recv(slen)\n",
    "            while len(chunk) < slen:\n",
    "                chunk = chunk + self.connection.recv(slen - len(chunk))\n",
    "            obj = self.unPickle(chunk)\n",
    "            record = logging.makeLogRecord(obj)\n",
    "            self.handleLogRecord(record)\n",
    "\n",
    "    def unPickle(self, data):\n",
    "        return pickle.loads(data)\n",
    "\n",
    "    def handleLogRecord(self, record):\n",
    "        # if a name is specified, we use the named logger rather than the one\n",
    "        # implied by the record.\n",
    "        if self.server.logname is not None:\n",
    "            name = self.server.logname\n",
    "        else:\n",
    "            name = record.name\n",
    "        logger = logging.getLogger(name)\n",
    "        # N.B. EVERY record gets logged. This is because Logger.handle\n",
    "        # is normally called AFTER logger-level filtering. If you want\n",
    "        # to do filtering, do it at the client end to save wasting\n",
    "        # cycles and network bandwidth!\n",
    "        logger.handle(record)"
   ]
  },
  {
   "cell_type": "code",
   "execution_count": 3,
   "metadata": {},
   "outputs": [
    {
     "ename": "TypeError",
     "evalue": "__init__() missing 3 required positional arguments: 'request', 'client_address', and 'server'",
     "output_type": "error",
     "traceback": [
      "\u001b[0;31m---------------------------------------------------------------------------\u001b[0m",
      "\u001b[0;31mTypeError\u001b[0m                                 Traceback (most recent call last)",
      "\u001b[0;32m<ipython-input-3-b0ae4f274d73>\u001b[0m in \u001b[0;36m<module>\u001b[0;34m\u001b[0m\n\u001b[0;32m----> 1\u001b[0;31m \u001b[0mlog_hander\u001b[0m \u001b[0;34m=\u001b[0m \u001b[0mLogRecordStreamHandler\u001b[0m\u001b[0;34m(\u001b[0m\u001b[0;34m)\u001b[0m\u001b[0;34m\u001b[0m\u001b[0;34m\u001b[0m\u001b[0m\n\u001b[0m",
      "\u001b[0;31mTypeError\u001b[0m: __init__() missing 3 required positional arguments: 'request', 'client_address', and 'server'"
     ]
    }
   ],
   "source": [
    "log_hander = LogRecordStreamHandler()\n"
   ]
  },
  {
   "cell_type": "code",
   "execution_count": null,
   "metadata": {},
   "outputs": [],
   "source": []
  }
 ],
 "metadata": {
  "kernelspec": {
   "display_name": "Python 3",
   "language": "python",
   "name": "python3"
  },
  "language_info": {
   "codemirror_mode": {
    "name": "ipython",
    "version": 3
   },
   "file_extension": ".py",
   "mimetype": "text/x-python",
   "name": "python",
   "nbconvert_exporter": "python",
   "pygments_lexer": "ipython3",
   "version": "3.6.8"
  }
 },
 "nbformat": 4,
 "nbformat_minor": 2
}
