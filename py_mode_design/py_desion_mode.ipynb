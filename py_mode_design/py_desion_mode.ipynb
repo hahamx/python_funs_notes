{
 "cells": [
  {
   "cell_type": "code",
   "execution_count": 1,
   "metadata": {},
   "outputs": [],
   "source": [
    "# 一，单例的实现和普通类的状态共享"
   ]
  },
  {
   "cell_type": "code",
   "execution_count": 15,
   "metadata": {},
   "outputs": [],
   "source": [
    "# 普通类的状态共享\n",
    "class brogA(object):\n",
    "    \"\"\" 非单例类，可在类之间共享状态\"\"\"\n",
    "    __shared_state = {}\n",
    "    def __init__(self):\n",
    "        self.__dict__ = self.__shared_state\n",
    "\n"
   ]
  },
  {
   "cell_type": "code",
   "execution_count": 20,
   "metadata": {},
   "outputs": [],
   "source": [
    "class sign_brogA(brogA):\n",
    "    \n",
    "    def __init__(self):\n",
    "        brogA.__init__(self)   # 此步确保状态共享\n",
    "        self.sta = 'init'\n",
    "    def __str__(self):\n",
    "        return self.sta"
   ]
  },
  {
   "cell_type": "code",
   "execution_count": 21,
   "metadata": {},
   "outputs": [
    {
     "name": "stdout",
     "output_type": "stream",
     "text": [
      "abc\n",
      "abc\n"
     ]
    }
   ],
   "source": [
    "sa1 = sign_brogA()\n",
    "sa2 = sign_brogA()\n",
    "sa1.sta = 'abc'   # 给sa1的属性赋值,sa2 也会有\n",
    "print(sa1)\n",
    "print(sa2)"
   ]
  },
  {
   "cell_type": "code",
   "execution_count": 22,
   "metadata": {},
   "outputs": [
    {
     "name": "stdout",
     "output_type": "stream",
     "text": [
      "xx1\n",
      "xx1\n"
     ]
    }
   ],
   "source": [
    "sa1.x = 'xx1'   # 给sa1 添加新属性，sa2 实例也会有\n",
    "print(sa1.x)\n",
    "print(sa2.x)"
   ]
  },
  {
   "cell_type": "code",
   "execution_count": 23,
   "metadata": {},
   "outputs": [
    {
     "name": "stdout",
     "output_type": "stream",
     "text": [
      "True\n"
     ]
    }
   ],
   "source": [
    "# new单例，需要额外开销来维护子类的单例状态\n",
    "class singleton(object):\n",
    "    _instance = None\n",
    "    def __new__(cls):        # __new__实现单例\n",
    "        if cls._instance == None:     \n",
    "            cls._instance = object.__new__(cls)\n",
    "        return cls._instance\n",
    "\n",
    "# 测试 创建多个类实例，内存中始终只有一个\n",
    "def test_sing(cls):\n",
    "    s1 = singleton()\n",
    "    s2=singleton()\n",
    "    return s1==s2\n",
    "# 测试2:子类继承\n",
    "class singA(singleton):\n",
    "    pass\n",
    "\n",
    "print(test_sing(singA))"
   ]
  },
  {
   "cell_type": "code",
   "execution_count": 26,
   "metadata": {},
   "outputs": [
    {
     "name": "stdout",
     "output_type": "stream",
     "text": [
      "<class '__main__.SingletonM'> __init__ method called with args ('SingletonM', (), {'__module__': '__main__', '__qualname__': 'SingletonM'})\n"
     ]
    }
   ],
   "source": [
    "# 元类 type 单例\n",
    "class MetaSingleton(type):\n",
    "    \"\"\" A type for Singleton classes (overrides __call__) \"\"\"    \n",
    "\n",
    "    def __init__(cls, *args):\n",
    "        print(cls,\"__init__ method called with args\", args)\n",
    "        type.__init__(cls, *args)\n",
    "        cls.instance = None\n",
    "\n",
    "    def __call__(cls, *args, **kwargs):\n",
    "        if not cls.instance:\n",
    "            print(cls,\"creating instance\", args, kwargs)\n",
    "            cls.instance = type.__call__(cls, *args, **kwargs)\n",
    "        return cls.instance\n",
    "\n",
    "class Singleton(object):\n",
    "    \"\"\" Singleton in Python \"\"\"\n",
    "    \n",
    "    _instance = None\n",
    "    \n",
    "    def __new__(cls):\n",
    "        if cls._instance == None:\n",
    "            cls._instance = object.__new__(cls)\n",
    "        return cls._instance\n",
    "\n",
    "class SingletonA(Singleton):\n",
    "    pass\n",
    "\n",
    "class SingletonA1(SingletonA):\n",
    "    pass\n",
    "\n",
    "class SingletonB(Singleton):\n",
    "    pass\n",
    "\n",
    "class SingletonM(metaclass=MetaSingleton):\n",
    "    pass\n",
    "\n",
    "def test_single(cls):\n",
    "    \"\"\" Test if passed class is a singleton\n",
    "    测试方法\"\"\"\n",
    "    return cls() == cls()"
   ]
  },
  {
   "cell_type": "code",
   "execution_count": 27,
   "metadata": {},
   "outputs": [
    {
     "name": "stdout",
     "output_type": "stream",
     "text": [
      "a.x => 100\n",
      "a1.x => 100\n",
      "Error: 'SingletonB' object has no attribute 'x'\n",
      "True\n",
      "<class '__main__.SingletonM'> creating instance () {}\n",
      "True\n",
      "True\n",
      "True\n",
      "True\n"
     ]
    }
   ],
   "source": [
    "a = SingletonA()\n",
    "a1 = SingletonA1()\n",
    "b = SingletonB()\n",
    "\n",
    "a.x = 100\n",
    "print('a.x =>',a.x)\n",
    "print('a1.x =>',a1.x)\n",
    "# Will raise an exception\n",
    "try:\n",
    "    print('b.x =>',b.x)\n",
    "except AttributeError as e:\n",
    "    print('Error:',e)\n",
    "\n",
    "print(test_single(Singleton))\n",
    "print(test_single(SingletonM))\n",
    "print(test_single(SingletonA))\n",
    "print(test_single(SingletonB))\n",
    "print(test_single(SingletonA1))"
   ]
  },
  {
   "cell_type": "code",
   "execution_count": 29,
   "metadata": {},
   "outputs": [],
   "source": [
    "# 二，工厂模式类的实现\n",
    "from abc import ABCMeta, abstractmethod\n",
    "\n",
    "class Employee(metaclass=ABCMeta):\n",
    "    \"\"\" An Employee class \"\"\"\n",
    "\n",
    "    def __init__(self, name, age, gender):\n",
    "        self.name = name\n",
    "        self.age = age\n",
    "        self.gender = gender\n",
    "\n",
    "    @abstractmethod\n",
    "    def get_role(self):\n",
    "        pass\n",
    "    \n",
    "    def __str__(self):\n",
    "        return \"{} - {}, {} years old {}\".format(self.__class__.__name__,\n",
    "                                                 self.name,\n",
    "                                                 self.age,\n",
    "                                                 self.gender)\n",
    "class Engineer(Employee):\n",
    "    \"\"\" An Engineer Employee \"\"\"\n",
    "    \n",
    "    def get_role(self):\n",
    "        return \"engineering\"\n",
    "\n",
    "class Accountant(Employee):\n",
    "    \"\"\" An Accountant Employee \"\"\"\n",
    "    \n",
    "    def get_role(self):\n",
    "        return \"accountant\"    \n",
    "\n",
    "class Admin(Employee):\n",
    "    \"\"\" An Admin Employee \"\"\"\n",
    "\n",
    "    def get_role(self):\n",
    "        return \"administration\""
   ]
  },
  {
   "cell_type": "code",
   "execution_count": 36,
   "metadata": {},
   "outputs": [],
   "source": [
    "class EmployeeFactory(object):\n",
    "    \"\"\" An Employee factory class \n",
    "    工厂类，通过一个入口创建多个类\n",
    "    特征: 通常使用一个工厂类关联整个类家族，类及子类的层次结构\"\"\"\n",
    "\n",
    "    @classmethod\n",
    "    def create(cls, name, *args):\n",
    "        \"\"\" Factory method for creating an Employee instance \n",
    "       特征: 工厂类的方法通常为 classmethod声明，这样可以通过类的命名空间直接调用，可以不用创建实例\n",
    "       如EmployeeFactory.create('engineer', 'Sam', 25, 'M')\"\"\"\n",
    "\n",
    "        name = name.lower().strip()\n",
    "        \n",
    "        if name == 'engineer':\n",
    "            return Engineer(*args)\n",
    "        elif name == 'software engineer':\n",
    "            return SoftwareEngineer(*args)\n",
    "        elif name == 'admin':\n",
    "            return Admin(*args)\n",
    "        elif name == 'accountant':\n",
    "            return Accountant(*args)"
   ]
  },
  {
   "cell_type": "code",
   "execution_count": 40,
   "metadata": {},
   "outputs": [
    {
     "name": "stdout",
     "output_type": "stream",
     "text": [
      "Engineer - Sam, 25 years old M\n",
      "Accountant - Ham, 36 years old F\n"
     ]
    }
   ],
   "source": [
    "factory = EmployeeFactory()\n",
    "print(factory.create('engineer', 'Sam', 25, 'M'))\n",
    "print(factory.create('accountant', 'Ham', 36, 'F'))"
   ]
  },
  {
   "cell_type": "code",
   "execution_count": 38,
   "metadata": {},
   "outputs": [
    {
     "name": "stdout",
     "output_type": "stream",
     "text": [
      "Admin - Jam, 26 years old F\n"
     ]
    }
   ],
   "source": [
    "print(factory.create('admin', 'Jam', 26, 'F'))"
   ]
  },
  {
   "cell_type": "code",
   "execution_count": 42,
   "metadata": {},
   "outputs": [],
   "source": [
    "# 三，迭代器模式类的实现\n",
    "import itertools\n",
    "\n",
    "class Prime(object):\n",
    "    \"\"\" An iterator for prime numbers \n",
    "    无限迭代器，生成指定两个数之间的质数序列\"\"\"\n",
    "\n",
    "    def __init__(self, initial, final=0):\n",
    "        \"\"\" Initializer - accepts a number \"\"\"\n",
    "        # This may or may not be prime\n",
    "        self.current = initial\n",
    "        self.final = final\n",
    "        \n",
    "    def __iter__(self):\n",
    "        return self\n",
    "\n",
    "    def __next__(self):\n",
    "        \"\"\" Return next item in iterator \"\"\"\n",
    "        return self._compute()\n",
    "\n",
    "    def _compute(self):\n",
    "        \"\"\" Compute the next prime number \"\"\"\n",
    "\n",
    "        num = self.current\n",
    "        \n",
    "        while True:\n",
    "            is_prime = True\n",
    "            \n",
    "            # Check this number\n",
    "            for x in range(2, int(pow(self.current, 0.5)+1)):\n",
    "                if self.current%x==0:\n",
    "                    is_prime = False\n",
    "                    break\n",
    "\n",
    "\n",
    "            num = self.current\n",
    "            self.current += 1\n",
    "\n",
    "            if is_prime:\n",
    "                return num\n",
    "            \n",
    "            # If there is an end range, look for it\n",
    "            if self.final>0 and self.current>self.final:\n",
    "                raise StopIteration"
   ]
  },
  {
   "cell_type": "code",
   "execution_count": 44,
   "metadata": {},
   "outputs": [
    {
     "name": "stdout",
     "output_type": "stream",
     "text": [
      "[2, 3, 5, 7, 11, 13, 17, 19, 23, 29, 31, 37, 41, 43, 47]\n",
      "[2, 3, 5, 7, 11, 13, 17, 19, 23, 29, 31, 37, 41, 43, 47, 53, 59, 61, 67, 71, 73, 79, 83, 89, 97, 101, 103, 107, 109, 113, 127, 131, 137, 139, 149, 151, 157, 163, 167, 173, 179, 181, 191, 193, 197, 199, 211, 223, 227, 229, 233, 239, 241, 251, 257, 263, 269, 271, 277, 281, 283, 293, 307, 311, 313, 317, 331, 337, 347, 349, 353, 359, 367, 373, 379, 383, 389, 397, 401, 409, 419, 421, 431, 433, 439, 443, 449, 457, 461, 463, 467, 479, 487, 491, 499, 503, 509, 521, 523, 541]\n",
      "# 个位以1结尾的质数: [11, 31, 41, 61, 71, 101, 131, 151, 181, 191]\n",
      "前十个回文质数: [11, 101, 131, 151, 181, 191, 313, 353, 373, 383]\n"
     ]
    }
   ],
   "source": [
    "print('2-50之间的质数:',list(Prime(2,50)))\n",
    "# First 100 primes\n",
    "print('前100个质数:',list(itertools.islice(Prime(2), 100)))\n",
    "# First 10 primes ending with 1\n",
    "print('# 个位以1结尾的质数:',list(itertools.islice(itertools.filterfalse(lambda x: x % 10 != 1, Prime(2)), 10))) # 个位以1结尾的质数\n",
    "# First 10 palindromic primes\n",
    "print('前十个回文质数:',list(itertools.islice(itertools.filterfalse(lambda x: str(x)!=str(x)[-1::-1], Prime(10)), 10)))  # 前十个回文质数"
   ]
  },
  {
   "cell_type": "code",
   "execution_count": 45,
   "metadata": {},
   "outputs": [],
   "source": [
    "# 四，结构化-适配器模式类的实现\n",
    "\n",
    "import itertools\n",
    "\n",
    "class Polygon(object):\n",
    "    \"\"\" A polygon class \"\"\"\n",
    "    \n",
    "    def __init__(self, *sides):\n",
    "        \"\"\" Initializer - accepts length of sides \"\"\"\n",
    "        self.sides = sides\n",
    "        \n",
    "    def perimeter(self):\n",
    "        \"\"\" Return perimeter \"\"\"\n",
    "        \n",
    "        return sum(self.sides)\n",
    "    \n",
    "    def is_valid(self):\n",
    "        \"\"\" Is this a valid polygon \"\"\"\n",
    "        \n",
    "        # Do some complex stuff - not implemented in base class\n",
    "        raise NotImplementedError\n",
    "    \n",
    "    def is_regular(self):\n",
    "        \"\"\" Is a regular polygon ? \"\"\"\n",
    "        \n",
    "        # Yes: if all sides are equal\n",
    "        side = self.sides[0]\n",
    "        return all([x==side for x in self.sides[1:]])\n",
    "    \n",
    "    def area(self):\n",
    "        \"\"\" Calculate and return area \"\"\"\n",
    "        \n",
    "        # Not implemented in base class\n",
    "        raise NotImplementedError\n",
    "\n",
    "class InvalidPolygonError(Exception):\n",
    "    pass\n"
   ]
  },
  {
   "cell_type": "code",
   "execution_count": 46,
   "metadata": {},
   "outputs": [],
   "source": [
    "class Triangle(Polygon):\n",
    "    \"\"\" Triangle class from Polygon using class adapter \"\"\"\n",
    "    \n",
    "    def is_equilateral(self):\n",
    "        \"\"\" Is this an equilateral triangle ? \"\"\"\n",
    "        \n",
    "        if self.is_valid():\n",
    "            return super(Triangle, self).is_regular()\n",
    "    \n",
    "    def is_isosceles(self):\n",
    "        \"\"\" Is the triangle isosceles \"\"\"\n",
    "        \n",
    "        if self.is_valid():\n",
    "            # Check if any 2 sides are equal\n",
    "            for a,b in itertools.combinations(self.sides, 2):\n",
    "                if a == b:\n",
    "                    return True\n",
    "        return False\n",
    "    \n",
    "    def area(self):\n",
    "        \"\"\" Calculate area \"\"\"\n",
    "        \n",
    "        # Using Heron's formula\n",
    "        p = self.perimeter()/2.0\n",
    "        total = p\n",
    "        for side in self.sides:\n",
    "            total *= abs(p-side)\n",
    "            \n",
    "        return pow(total, 0.5)\n",
    "    \n",
    "    def is_valid(self):\n",
    "        \"\"\" Is the triangle valid \"\"\"\n",
    "        \n",
    "        # Sum of 2 sides should be > 3rd side\n",
    "        perimeter = self.perimeter()\n",
    "        for side in self.sides:\n",
    "            sum_two = perimeter - side\n",
    "            if sum_two <= side:\n",
    "                raise InvalidPolygonError(str(self.__class__) + \"is invalid!\")\n",
    "                \n",
    "        return True\n",
    "\n",
    "class Rectangle(Polygon):\n",
    "    \"\"\" Rectangle class from Polygon using class adapter \"\"\"\n",
    "\n",
    "    def is_square(self):\n",
    "        \"\"\" Return if I am a square \"\"\"\n",
    "\n",
    "        if self.is_valid():\n",
    "            # Defaults to is_regular\n",
    "            return self.is_regular()\n",
    "\n",
    "    def is_valid(self):\n",
    "        \"\"\" Is the rectangle valid \"\"\"\n",
    "\n",
    "        # Should have 4 sides\n",
    "        if len(self.sides) != 4:\n",
    "            return False\n",
    "\n",
    "        # Opposite sides should be same\n",
    "        for a,b in [(0,2),(1,3)]:\n",
    "            if self.sides[a] != self.sides[b]:\n",
    "                return False\n",
    "\n",
    "        return True\n",
    "\n",
    "    def area(self):\n",
    "        \"\"\" Return area of rectangle \"\"\"\n",
    "\n",
    "        # Length x breadth\n",
    "        if self.is_valid():\n",
    "            return self.sides[0]*self.sides[1]"
   ]
  },
  {
   "cell_type": "code",
   "execution_count": 49,
   "metadata": {},
   "outputs": [
    {
     "name": "stdout",
     "output_type": "stream",
     "text": [
      "True\n",
      "True\n",
      "False\n",
      "True\n"
     ]
    }
   ],
   "source": [
    "t1 = Triangle(2,2,2)\n",
    "print(t1.is_equilateral())\n",
    "print(t1.is_isosceles())\n",
    "\n",
    "t2 = Triangle(2,2,3)\n",
    "print(t2.is_equilateral())\n",
    "print(t2.is_isosceles())"
   ]
  },
  {
   "cell_type": "code",
   "execution_count": 54,
   "metadata": {},
   "outputs": [],
   "source": [
    "# 五，结构化-外观模式\n",
    "# 通过一些仪表盘和控件，工程师就能挑战控制系统背后复杂系统，保持系统运行，隐藏系统背后的复杂性\n",
    "# compiler 模块词法分析器，解析器，ast树生成器等的外观\n",
    "import time\n",
    "\n",
    "class Engine(object):\n",
    "    \"\"\" An Engine class\n",
    "    发动机\"\"\"\n",
    "    \n",
    "    def __init__(self, name, bhp, rpm, volume, cylinders=4, type='petrol'):\n",
    "        self.name = name\n",
    "        self.bhp = bhp\n",
    "        self.rpm = rpm\n",
    "        self.volume = volume\n",
    "        self.cylinders = cylinders\n",
    "        self.type = type\n",
    "\n",
    "    def start(self):\n",
    "        \"\"\" Start-up the engine \"\"\"\n",
    "        print('Engine started')\n",
    "\n",
    "    def stop(self):\n",
    "        \"\"\" Stop the engine \"\"\"\n",
    "        print('Engine stopped')"
   ]
  },
  {
   "cell_type": "code",
   "execution_count": 55,
   "metadata": {},
   "outputs": [],
   "source": [
    "class Transmission(object):\n",
    "    \"\"\" Transmission class \n",
    "    转动控制\"\"\"\n",
    "\n",
    "    def __init__(self, gears, torque):\n",
    "        self.gears = gears\n",
    "        self.torque = torque\n",
    "        # Start with neutral\n",
    "        self.gear_pos = 0\n",
    "\n",
    "    def shift_up(self):\n",
    "        \"\"\" Shift up gears \"\"\"\n",
    "\n",
    "        if self.gear_pos == self.gears:\n",
    "            print('Cant shift up anymore')\n",
    "        else:\n",
    "            self.gear_pos += 1\n",
    "            print('Shifted up to gear',self.gear_pos)\n",
    "\n",
    "    def shift_down(self):\n",
    "        \"\"\" Shift down gears \"\"\"\n",
    "\n",
    "        if self.gear_pos == -1:\n",
    "            print(\"In reverse, can't shift down\")\n",
    "        else:\n",
    "            self.gear_pos -= 1\n",
    "            print('Shifted down to gear',self.gear_pos)         \n",
    "\n",
    "    def shift_reverse(self):\n",
    "        \"\"\" Shift in reverse \"\"\"\n",
    "\n",
    "        print('Reverse shifting')\n",
    "        self.gear_pos = -1\n",
    "\n",
    "    def shift_to(self, gear):\n",
    "        \"\"\" Shift to a gear position \"\"\"\n",
    "\n",
    "        self.gear_pos = gear\n",
    "        print('Shifted to gear',self.gear_pos)      \n"
   ]
  },
  {
   "cell_type": "code",
   "execution_count": 56,
   "metadata": {},
   "outputs": [],
   "source": [
    "# 其他子系统，如刹车，泊车，轮子，悬架，框架等\n",
    "class Brake(object):\n",
    "    \"\"\" A brake class\n",
    "    刹车\"\"\"\n",
    "\n",
    "    def __init__(self, number, type='disc'):\n",
    "        self.type = type\n",
    "        self.number = number\n",
    "\n",
    "    def engage(self):\n",
    "        \"\"\" Engage the break \"\"\"\n",
    "\n",
    "        print('%s %d engaged' % (self.__class__.__name__,\n",
    "                                 self.number))\n",
    "\n",
    "    def release(self):\n",
    "        \"\"\" Release the break \"\"\"\n",
    "\n",
    "        print('%s %d released' % (self.__class__.__name__,\n",
    "                                  self.number))\n",
    "\n",
    "class ParkingBrake(Brake):\n",
    "    \"\"\" A parking brake class \"\"\"\n",
    "\n",
    "    def __init__(self, type='drum'):\n",
    "        super(ParkingBrake, self).__init__(type=type, number=1)\n",
    "        \n",
    "\n",
    "class Suspension(object):\n",
    "    \"\"\" A suspension class \"\"\"\n",
    "    \n",
    "    def __init__(self, load, type='mcpherson'):\n",
    "        self.type = type\n",
    "        self.load = load\n",
    "\n",
    "class Wheel(object):\n",
    "    \"\"\" A wheel class \"\"\"\n",
    "\n",
    "    def __init__(self, material, diameter, pitch):\n",
    "        self.material = material\n",
    "        self.diameter = diameter\n",
    "        self.pitch = pitch\n",
    "                 \n",
    "class WheelAssembly(object):\n",
    "    \"\"\" A wheel assembly class \"\"\"\n",
    "    \n",
    "    def __init__(self, brake, suspension):\n",
    "        self.brake = brake\n",
    "        self.suspension = suspension\n",
    "        self.wheels = Wheel('alloy', 'M12',1.25)\n",
    "\n",
    "    def apply_brakes(self):\n",
    "        \"\"\" Apply brakes \"\"\"\n",
    "\n",
    "        print('Applying brakes')\n",
    "        self.brake.engage()\n",
    "\n",
    "class Frame(object):\n",
    "    \"\"\" A frame class for an automobile \"\"\"\n",
    "    \n",
    "    def __init__(self, length, width):\n",
    "        self.length = length\n",
    "        self.width = width"
   ]
  },
  {
   "cell_type": "code",
   "execution_count": 57,
   "metadata": {},
   "outputs": [],
   "source": [
    "# Car 类 组合子系统并提供两个方法的外观，start 和 stop\n",
    "class Car(object):\n",
    "    \"\"\" A car class - Facade pattern \"\"\"\n",
    "\n",
    "    def __init__(self, model, manufacturer):\n",
    "        self.engine = Engine('Maruti K-series',85,5000, 1.3)\n",
    "        self.frame = Frame(385, 170)\n",
    "        self.wheel_assemblies = []\n",
    "        for i in range(4):\n",
    "            self.wheel_assemblies.append(WheelAssembly(Brake(i+1), Suspension(1000)))\n",
    "            \n",
    "        self.transmission = Transmission(5, 115)\n",
    "        self.model = model\n",
    "        self.manufacturer = manufacturer\n",
    "        self.park_brake = ParkingBrake()\n",
    "        # Ignition engaged\n",
    "        self.ignition = False\n",
    "\n",
    "    def start(self):\n",
    "        \"\"\" Start the car \"\"\"\n",
    "\n",
    "        print('Starting the car')\n",
    "        self.ignition = True\n",
    "        self.park_brake.release()\n",
    "        self.engine.start()\n",
    "        self.transmission.shift_up()\n",
    "        print('Car started.')\n",
    "\n",
    "    def stop(self):\n",
    "        \"\"\" Stop the car \"\"\"\n",
    "\n",
    "        print('Stopping the car')\n",
    "        # Apply brakes to reduce speed\n",
    "        for wheel_a in self.wheel_assemblies:\n",
    "            wheel_a.apply_brakes()\n",
    "\n",
    "        # Move to 2nd gear and then 1st\n",
    "        self.transmission.shift_to(2)\n",
    "        self.transmission.shift_to(1)\n",
    "        self.engine.stop()\n",
    "        # Shift to neutral\n",
    "        self.transmission.shift_to(0)\n",
    "        # Engage parking brake\n",
    "        self.park_brake.engage()\n",
    "        print('Car stopped.')"
   ]
  },
  {
   "cell_type": "code",
   "execution_count": 58,
   "metadata": {},
   "outputs": [
    {
     "name": "stdout",
     "output_type": "stream",
     "text": [
      "<__main__.Car object at 0x105d0a4a8>\n"
     ]
    }
   ],
   "source": [
    "car_jili = Car('Swift', 'Suzuki')\n",
    "print(car_jili)"
   ]
  },
  {
   "cell_type": "code",
   "execution_count": 59,
   "metadata": {},
   "outputs": [
    {
     "name": "stdout",
     "output_type": "stream",
     "text": [
      "Starting the car\n",
      "ParkingBrake 1 released\n",
      "Engine started\n",
      "Shifted up to gear 1\n",
      "Car started.\n",
      "Stopping the car\n",
      "Applying brakes\n",
      "Brake 1 engaged\n",
      "Applying brakes\n",
      "Brake 2 engaged\n",
      "Applying brakes\n",
      "Brake 3 engaged\n",
      "Applying brakes\n",
      "Brake 4 engaged\n",
      "Shifted to gear 2\n",
      "Shifted to gear 1\n",
      "Engine stopped\n",
      "Shifted to gear 0\n",
      "ParkingBrake 1 engaged\n",
      "Car stopped.\n"
     ]
    }
   ],
   "source": [
    "car_jili.start()  # 启动\n",
    "car_jili.stop()  # 停止"
   ]
  },
  {
   "cell_type": "code",
   "execution_count": 61,
   "metadata": {},
   "outputs": [],
   "source": [
    "# 六，代理模式\n",
    "# 目标: 代理总是实现代理对象的接口\n",
    "# 适用场景\n",
    "# \n",
    "# 1，需要一个更接近客户的虚拟资源，它可以替代另一个网络中的实际资源，如远程代理\n",
    "# 2，需要控制/监视对资源的访问时，如网络代理和实例计数代理\n",
    "# 3，需要保护资源或对象(保护代理), 因为直接访问资源会导致安全问题或危机资源，例如反向代理服务\n",
    "# 4，需要从开销大的计算或网络操作中优化对结果的访问，以便不必每次都指向计算，如缓存代理\n",
    "from abc import ABCMeta, abstractmethod\n",
    "\n",
    "class Employee(metaclass=ABCMeta):\n",
    "    \"\"\" An Employee class \"\"\"\n",
    "\n",
    "    def __init__(self, name, age, gender):\n",
    "        self.name = name\n",
    "        self.age = age\n",
    "        self.gender = gender\n",
    "\n",
    "    @abstractmethod\n",
    "    def get_role(self):\n",
    "        pass\n",
    "    \n",
    "    def __str__(self):\n",
    "        return \"{} - {}, {} years old {}\".format(self.__class__.__name__,\n",
    "                                                 self.name,\n",
    "                                                 self.age,\n",
    "                                                 self.gender)\n",
    "class Engineer(Employee):\n",
    "    \"\"\" An Engineer Employee \"\"\"\n",
    "    \n",
    "    def get_role(self):\n",
    "        return \"engineering\"\n",
    "\n",
    "class Admin(Employee):\n",
    "    \"\"\" An Admin Employee \"\"\"\n",
    "\n",
    "    def get_role(self):\n",
    "        return \"administration\"\n",
    "\n",
    "class Accountant(Employee):\n",
    "    \"\"\" An Accountant Employee \"\"\"\n",
    "\n",
    "    def get_role(self):\n",
    "        return \"accounting\"\n",
    "    "
   ]
  },
  {
   "cell_type": "code",
   "execution_count": 62,
   "metadata": {},
   "outputs": [],
   "source": [
    "class EmployeeProxy(object):\n",
    "    \"\"\" Counting proxy class for Employees \n",
    "    实现了一个组合或对象代理，包装目标对象\"\"\"\n",
    "\n",
    "    # Count of employees\n",
    "    count = 0\n",
    "\n",
    "    def __new__(cls, *args):\n",
    "        \"\"\" Overloaded __new__ \"\"\"\n",
    "        # To keep track of counts\n",
    "        instance = object.__new__(cls)\n",
    "        cls.incr_count()   # 实例计数\n",
    "        return instance\n",
    "        \n",
    "    def __init__(self, employee):\n",
    "        self.employee = employee\n",
    "\n",
    "    @classmethod\n",
    "    def incr_count(cls):\n",
    "        \"\"\" Increment employee count \"\"\"\n",
    "        cls.count += 1\n",
    "\n",
    "    @classmethod\n",
    "    def decr_count(cls):\n",
    "        \"\"\" Decrement employee count \"\"\"\n",
    "        cls.count -= 1\n",
    "\n",
    "    @classmethod\n",
    "    def get_count(cls):\n",
    "        \"\"\" Get employee count \"\"\"\n",
    "        print('代理计数,引用的是类计数')\n",
    "        return cls.count\n",
    "    \n",
    "    def __str__(self):\n",
    "        return str(self.employee)\n",
    "    \n",
    "    def __getattr__(self, name):\n",
    "        \"\"\" Redirect attributes to employee instance\n",
    "        重定向对象访问权\"\"\"\n",
    "\n",
    "        return getattr(self.employee, name)\n",
    "        \n",
    "    def __del__(self):\n",
    "        \"\"\" Overloaded __del__ method \"\"\"\n",
    "        # Decrement employee count\n",
    "        self.decr_count()     # 实例计数\n"
   ]
  },
  {
   "cell_type": "code",
   "execution_count": 63,
   "metadata": {},
   "outputs": [],
   "source": [
    "class EmployeeProxyFactory(object):\n",
    "    \"\"\" An Employee factory class returning proxy objects \"\"\"\n",
    "\n",
    "    @classmethod\n",
    "    def create(cls, name, *args):\n",
    "        \"\"\" Factory method for creating an Employee instance \"\"\"\n",
    "\n",
    "        name = name.lower().strip()\n",
    "        \n",
    "        if name == 'engineer':\n",
    "            return EmployeeProxy(Engineer(*args))\n",
    "        elif name == 'accountant':\n",
    "            return EmployeeProxy(Accountant(*args))\n",
    "        elif name == 'admin':\n",
    "            return EmployeeProxy(Admin(*args))"
   ]
  },
  {
   "cell_type": "code",
   "execution_count": 71,
   "metadata": {},
   "outputs": [
    {
     "name": "stdout",
     "output_type": "stream",
     "text": [
      "Engineer - Sam, 29 years old M\n"
     ]
    }
   ],
   "source": [
    "Factory = EmployeeProxyFactory()\n",
    "engineer = Factory.create('engineer', 'Sam','29', 'M')\n",
    "print(engineer)"
   ]
  },
  {
   "cell_type": "code",
   "execution_count": 73,
   "metadata": {},
   "outputs": [
    {
     "ename": "NameError",
     "evalue": "name 'engineer' is not defined",
     "output_type": "error",
     "traceback": [
      "\u001b[0;31m---------------------------------------------------------------------------\u001b[0m",
      "\u001b[0;31mNameError\u001b[0m                                 Traceback (most recent call last)",
      "\u001b[0;32m<ipython-input-73-fb4ee876f645>\u001b[0m in \u001b[0;36m<module>\u001b[0;34m\u001b[0m\n\u001b[0;32m----> 1\u001b[0;31m \u001b[0mprint\u001b[0m\u001b[0;34m(\u001b[0m\u001b[0mengineer\u001b[0m\u001b[0;34m.\u001b[0m\u001b[0mget_count\u001b[0m\u001b[0;34m(\u001b[0m\u001b[0;34m)\u001b[0m\u001b[0;34m)\u001b[0m  \u001b[0;31m#\u001b[0m\u001b[0;34m\u001b[0m\u001b[0;34m\u001b[0m\u001b[0m\n\u001b[0m\u001b[1;32m      2\u001b[0m \u001b[0mprint\u001b[0m\u001b[0;34m(\u001b[0m\u001b[0mEmployeeProxy\u001b[0m\u001b[0;34m.\u001b[0m\u001b[0mget_count\u001b[0m\u001b[0;34m(\u001b[0m\u001b[0;34m)\u001b[0m\u001b[0;34m)\u001b[0m  \u001b[0;31m#\u001b[0m\u001b[0;34m\u001b[0m\u001b[0;34m\u001b[0m\u001b[0m\n\u001b[1;32m      3\u001b[0m \u001b[0mprint\u001b[0m\u001b[0;34m(\u001b[0m\u001b[0mFactory\u001b[0m\u001b[0;34m.\u001b[0m\u001b[0mget_count\u001b[0m\u001b[0;34m(\u001b[0m\u001b[0;34m)\u001b[0m\u001b[0;34m)\u001b[0m\u001b[0;34m\u001b[0m\u001b[0;34m\u001b[0m\u001b[0m\n\u001b[1;32m      4\u001b[0m \u001b[0;32mdel\u001b[0m \u001b[0mengineer\u001b[0m\u001b[0;34m\u001b[0m\u001b[0;34m\u001b[0m\u001b[0m\n\u001b[1;32m      5\u001b[0m \u001b[0mprint\u001b[0m\u001b[0;34m(\u001b[0m\u001b[0mEmployeeProxy\u001b[0m\u001b[0;34m.\u001b[0m\u001b[0mget_count\u001b[0m\u001b[0;34m(\u001b[0m\u001b[0;34m)\u001b[0m\u001b[0;34m)\u001b[0m  \u001b[0;31m#\u001b[0m\u001b[0;34m\u001b[0m\u001b[0;34m\u001b[0m\u001b[0m\n",
      "\u001b[0;31mNameError\u001b[0m: name 'engineer' is not defined"
     ]
    }
   ],
   "source": [
    "print(engineer.get_count())  # \n",
    "print(EmployeeProxy.get_count())  # \n",
    "print(Factory.get_count())\n",
    "del engineer\n",
    "print(EmployeeProxy.get_count())  # \n",
    "print(engineer.get_count())  # "
   ]
  },
  {
   "cell_type": "code",
   "execution_count": 74,
   "metadata": {},
   "outputs": [],
   "source": [
    "a = ['world', [1,2,3,4]]\n",
    "b = a[:]"
   ]
  },
  {
   "cell_type": "code",
   "execution_count": 75,
   "metadata": {},
   "outputs": [
    {
     "name": "stdout",
     "output_type": "stream",
     "text": [
      "['world', [1, 2, 3, 4]]\n"
     ]
    }
   ],
   "source": [
    "print(b)"
   ]
  },
  {
   "cell_type": "code",
   "execution_count": 76,
   "metadata": {},
   "outputs": [
    {
     "name": "stdout",
     "output_type": "stream",
     "text": [
      "['hello', [1, 2, 3, 4, 5]]\n",
      "['world', [1, 2, 3, 4, 5]]\n"
     ]
    }
   ],
   "source": [
    "a[0] = 'hello'\n",
    "a[1].append(5)\n",
    "print(a)\n",
    "print(b)"
   ]
  },
  {
   "cell_type": "code",
   "execution_count": 77,
   "metadata": {},
   "outputs": [
    {
     "name": "stdout",
     "output_type": "stream",
     "text": [
      "['hello', [1, 2, 3, 4, 5]]\n"
     ]
    }
   ],
   "source": [
    "c = a.copy()\n",
    "print(c)"
   ]
  },
  {
   "cell_type": "code",
   "execution_count": 79,
   "metadata": {},
   "outputs": [
    {
     "name": "stdout",
     "output_type": "stream",
     "text": [
      "['hi', [1, 2, 3, 4]]\n",
      "['hello', [1, 2, 3, 4]]\n"
     ]
    }
   ],
   "source": [
    "a[0] = 'hi'\n",
    "a[1].pop(-1)\n",
    "print(a)\n",
    "print(c)"
   ]
  },
  {
   "cell_type": "code",
   "execution_count": 1,
   "metadata": {},
   "outputs": [
    {
     "ename": "SyntaxError",
     "evalue": "invalid syntax (<ipython-input-1-d6edcd18ca1c>, line 3)",
     "output_type": "error",
     "traceback": [
      "\u001b[0;36m  File \u001b[0;32m\"<ipython-input-1-d6edcd18ca1c>\"\u001b[0;36m, line \u001b[0;32m3\u001b[0m\n\u001b[0;31m    lambda(a*b, a:b)\u001b[0m\n\u001b[0m          ^\u001b[0m\n\u001b[0;31mSyntaxError\u001b[0m\u001b[0;31m:\u001b[0m invalid syntax\n"
     ]
    }
   ],
   "source": [
    "a=3\n",
    "b=2\n",
    "lambda(a*b, a:b)"
   ]
  },
  {
   "cell_type": "code",
   "execution_count": 32,
   "metadata": {},
   "outputs": [],
   "source": [
    "import copy\n",
    "\n",
    "\n",
    "def gen_list(lis):\n",
    "    rst_list = []\n",
    "    rst_list.append(lis)\n",
    "    for i in list(range(len(lis))):\n",
    "        other_lis = copy.deepcopy(lis)\n",
    "        if other_lis[i] > 0:\n",
    "            for j in list(range(other_lis[i])):\n",
    "                j_lis = copy.deepcopy(lis)\n",
    "                j_lis[i] = j\n",
    "                o_lis = [[j_lis[i], x] for x in list(range(other_lis[-1]))]  # 列表推导式\n",
    "\n",
    "                print('j_lis:{}'.format(j_lis))\n",
    "                if j_lis not in rst_list:\n",
    "                    rst_list.append(j_lis)\n",
    "                if o_lis not in rst_list:\n",
    "                    rst_list.extend(o_lis)\n",
    "\n",
    "                print('now rst_list:{}'.format(rst_list))\n",
    "        else:\n",
    "            rst_list.append(other_lis)\n",
    "    rsts_list = []\n",
    "    for ls in rst_list:\n",
    "        rsts_list.append(str(ls))\n",
    "    rst_list = set(rsts_list) # 去重\n",
    "    print('rst_list:{}'.format(rst_list))\n",
    "    # rsts_list = []\n",
    "    # for lss in rst_list:\n",
    "    #     rsts_list.append(list(lss[1:-1]))\n",
    "    # rst_list = rsts_list\n",
    "    print('rst_len:{}'.format(len(rst_list)))\n",
    "    return rst_list\n"
   ]
  },
  {
   "cell_type": "code",
   "execution_count": 33,
   "metadata": {},
   "outputs": [
    {
     "name": "stdout",
     "output_type": "stream",
     "text": [
      "j_lis:[0, 4]\n",
      "now rst_list:[[5, 4], [0, 4], [0, 0], [0, 1], [0, 2], [0, 3]]\n",
      "j_lis:[1, 4]\n",
      "now rst_list:[[5, 4], [0, 4], [0, 0], [0, 1], [0, 2], [0, 3], [1, 4], [1, 0], [1, 1], [1, 2], [1, 3]]\n",
      "j_lis:[2, 4]\n",
      "now rst_list:[[5, 4], [0, 4], [0, 0], [0, 1], [0, 2], [0, 3], [1, 4], [1, 0], [1, 1], [1, 2], [1, 3], [2, 4], [2, 0], [2, 1], [2, 2], [2, 3]]\n",
      "j_lis:[3, 4]\n",
      "now rst_list:[[5, 4], [0, 4], [0, 0], [0, 1], [0, 2], [0, 3], [1, 4], [1, 0], [1, 1], [1, 2], [1, 3], [2, 4], [2, 0], [2, 1], [2, 2], [2, 3], [3, 4], [3, 0], [3, 1], [3, 2], [3, 3]]\n",
      "j_lis:[4, 4]\n",
      "now rst_list:[[5, 4], [0, 4], [0, 0], [0, 1], [0, 2], [0, 3], [1, 4], [1, 0], [1, 1], [1, 2], [1, 3], [2, 4], [2, 0], [2, 1], [2, 2], [2, 3], [3, 4], [3, 0], [3, 1], [3, 2], [3, 3], [4, 4], [4, 0], [4, 1], [4, 2], [4, 3]]\n",
      "j_lis:[5, 0]\n",
      "now rst_list:[[5, 4], [0, 4], [0, 0], [0, 1], [0, 2], [0, 3], [1, 4], [1, 0], [1, 1], [1, 2], [1, 3], [2, 4], [2, 0], [2, 1], [2, 2], [2, 3], [3, 4], [3, 0], [3, 1], [3, 2], [3, 3], [4, 4], [4, 0], [4, 1], [4, 2], [4, 3], [5, 0], [0, 0], [0, 1], [0, 2], [0, 3]]\n",
      "j_lis:[5, 1]\n",
      "now rst_list:[[5, 4], [0, 4], [0, 0], [0, 1], [0, 2], [0, 3], [1, 4], [1, 0], [1, 1], [1, 2], [1, 3], [2, 4], [2, 0], [2, 1], [2, 2], [2, 3], [3, 4], [3, 0], [3, 1], [3, 2], [3, 3], [4, 4], [4, 0], [4, 1], [4, 2], [4, 3], [5, 0], [0, 0], [0, 1], [0, 2], [0, 3], [5, 1], [1, 0], [1, 1], [1, 2], [1, 3]]\n",
      "j_lis:[5, 2]\n",
      "now rst_list:[[5, 4], [0, 4], [0, 0], [0, 1], [0, 2], [0, 3], [1, 4], [1, 0], [1, 1], [1, 2], [1, 3], [2, 4], [2, 0], [2, 1], [2, 2], [2, 3], [3, 4], [3, 0], [3, 1], [3, 2], [3, 3], [4, 4], [4, 0], [4, 1], [4, 2], [4, 3], [5, 0], [0, 0], [0, 1], [0, 2], [0, 3], [5, 1], [1, 0], [1, 1], [1, 2], [1, 3], [5, 2], [2, 0], [2, 1], [2, 2], [2, 3]]\n",
      "j_lis:[5, 3]\n",
      "now rst_list:[[5, 4], [0, 4], [0, 0], [0, 1], [0, 2], [0, 3], [1, 4], [1, 0], [1, 1], [1, 2], [1, 3], [2, 4], [2, 0], [2, 1], [2, 2], [2, 3], [3, 4], [3, 0], [3, 1], [3, 2], [3, 3], [4, 4], [4, 0], [4, 1], [4, 2], [4, 3], [5, 0], [0, 0], [0, 1], [0, 2], [0, 3], [5, 1], [1, 0], [1, 1], [1, 2], [1, 3], [5, 2], [2, 0], [2, 1], [2, 2], [2, 3], [5, 3], [3, 0], [3, 1], [3, 2], [3, 3]]\n",
      "rst_list:{'[4, 2]', '[4, 1]', '[5, 1]', '[2, 4]', '[3, 4]', '[1, 0]', '[5, 2]', '[1, 2]', '[3, 0]', '[2, 1]', '[1, 4]', '[0, 4]', '[3, 3]', '[0, 0]', '[0, 1]', '[1, 3]', '[5, 0]', '[5, 3]', '[4, 3]', '[1, 1]', '[2, 3]', '[4, 0]', '[2, 2]', '[0, 3]', '[4, 4]', '[5, 4]', '[0, 2]', '[3, 1]', '[2, 0]', '[3, 2]'}\n",
      "rst_len:30\n",
      "{'[4, 2]', '[4, 1]', '[5, 1]', '[2, 4]', '[3, 4]', '[1, 0]', '[5, 2]', '[1, 2]', '[3, 0]', '[2, 1]', '[1, 4]', '[0, 4]', '[3, 3]', '[0, 0]', '[0, 1]', '[1, 3]', '[5, 0]', '[5, 3]', '[4, 3]', '[1, 1]', '[2, 3]', '[4, 0]', '[2, 2]', '[0, 3]', '[4, 4]', '[5, 4]', '[0, 2]', '[3, 1]', '[2, 0]', '[3, 2]'}\n"
     ]
    }
   ],
   "source": [
    "print(gen_list([5,4]))"
   ]
  },
  {
   "cell_type": "code",
   "execution_count": 26,
   "metadata": {},
   "outputs": [
    {
     "data": {
      "text/plain": [
       "[[0, 0],\n",
       " [0, 1],\n",
       " [0, 2],\n",
       " [0, 3],\n",
       " [0, 4],\n",
       " [0, 5],\n",
       " [0, 6],\n",
       " [0, 7],\n",
       " [0, 8],\n",
       " [0, 9]]"
      ]
     },
     "execution_count": 26,
     "metadata": {},
     "output_type": "execute_result"
    }
   ],
   "source": [
    "[[0, i]  for i in list(range(10))]"
   ]
  },
  {
   "cell_type": "code",
   "execution_count": 28,
   "metadata": {},
   "outputs": [
    {
     "ename": "TypeError",
     "evalue": "unhashable type: 'list'",
     "output_type": "error",
     "traceback": [
      "\u001b[0;31m---------------------------------------------------------------------------\u001b[0m",
      "\u001b[0;31mTypeError\u001b[0m                                 Traceback (most recent call last)",
      "\u001b[0;32m<ipython-input-28-56093e74bc3b>\u001b[0m in \u001b[0;36m<module>\u001b[0;34m\u001b[0m\n\u001b[0;32m----> 1\u001b[0;31m \u001b[0mset\u001b[0m\u001b[0;34m(\u001b[0m\u001b[0;34m[\u001b[0m\u001b[0;36m1\u001b[0m\u001b[0;34m,\u001b[0m\u001b[0;36m2\u001b[0m\u001b[0;34m,\u001b[0m\u001b[0;36m3\u001b[0m\u001b[0;34m,\u001b[0m\u001b[0;34m[\u001b[0m\u001b[0;36m1\u001b[0m\u001b[0;34m,\u001b[0m\u001b[0;36m2\u001b[0m\u001b[0;34m]\u001b[0m\u001b[0;34m]\u001b[0m\u001b[0;34m)\u001b[0m\u001b[0;34m\u001b[0m\u001b[0;34m\u001b[0m\u001b[0m\n\u001b[0m",
      "\u001b[0;31mTypeError\u001b[0m: unhashable type: 'list'"
     ]
    }
   ],
   "source": []
  },
  {
   "cell_type": "code",
   "execution_count": null,
   "metadata": {},
   "outputs": [],
   "source": []
  }
 ],
 "metadata": {
  "kernelspec": {
   "display_name": "Python 3",
   "language": "python",
   "name": "python3"
  },
  "language_info": {
   "codemirror_mode": {
    "name": "ipython",
    "version": 3
   },
   "file_extension": ".py",
   "mimetype": "text/x-python",
   "name": "python",
   "nbconvert_exporter": "python",
   "pygments_lexer": "ipython3",
   "version": "3.6.8"
  }
 },
 "nbformat": 4,
 "nbformat_minor": 2
}
