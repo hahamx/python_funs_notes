{
 "cells": [
  {
   "cell_type": "code",
   "execution_count": 1,
   "metadata": {},
   "outputs": [],
   "source": [
    "# 一，单例的实现和普通类的状态共享"
   ]
  },
  {
   "cell_type": "code",
   "execution_count": 15,
   "metadata": {},
   "outputs": [],
   "source": [
    "# 普通类的状态共享\n",
    "class brogA(object):\n",
    "    \"\"\" 非单例类，可在类之间共享状态\"\"\"\n",
    "    __shared_state = {}\n",
    "    def __init__(self):\n",
    "        self.__dict__ = self.__shared_state\n",
    "\n"
   ]
  },
  {
   "cell_type": "code",
   "execution_count": 20,
   "metadata": {},
   "outputs": [],
   "source": [
    "class sign_brogA(brogA):\n",
    "    \n",
    "    def __init__(self):\n",
    "        brogA.__init__(self)   # 此步确保状态共享\n",
    "        self.sta = 'init'\n",
    "    def __str__(self):\n",
    "        return self.sta"
   ]
  },
  {
   "cell_type": "code",
   "execution_count": 21,
   "metadata": {},
   "outputs": [
    {
     "name": "stdout",
     "output_type": "stream",
     "text": [
      "abc\n",
      "abc\n"
     ]
    }
   ],
   "source": [
    "sa1 = sign_brogA()\n",
    "sa2 = sign_brogA()\n",
    "sa1.sta = 'abc'   # 给sa1的属性赋值,sa2 也会有\n",
    "print(sa1)\n",
    "print(sa2)"
   ]
  },
  {
   "cell_type": "code",
   "execution_count": 22,
   "metadata": {},
   "outputs": [
    {
     "name": "stdout",
     "output_type": "stream",
     "text": [
      "xx1\n",
      "xx1\n"
     ]
    }
   ],
   "source": [
    "sa1.x = 'xx1'   # 给sa1 添加新属性，sa2 实例也会有\n",
    "print(sa1.x)\n",
    "print(sa2.x)"
   ]
  },
  {
   "cell_type": "code",
   "execution_count": 23,
   "metadata": {},
   "outputs": [
    {
     "name": "stdout",
     "output_type": "stream",
     "text": [
      "True\n"
     ]
    }
   ],
   "source": [
    "# new单例，需要额外开销来维护子类的单例状态\n",
    "class singleton(object):\n",
    "    _instance = None\n",
    "    def __new__(cls):        # __new__实现单例\n",
    "        if cls._instance == None:     \n",
    "            cls._instance = object.__new__(cls)\n",
    "        return cls._instance\n",
    "\n",
    "# 测试 创建多个类实例，内存中始终只有一个\n",
    "def test_sing(cls):\n",
    "    s1 = singleton()\n",
    "    s2=singleton()\n",
    "    return s1==s2\n",
    "# 测试2:子类继承\n",
    "class singA(singleton):\n",
    "    pass\n",
    "\n",
    "print(test_sing(singA))"
   ]
  },
  {
   "cell_type": "code",
   "execution_count": 26,
   "metadata": {},
   "outputs": [
    {
     "name": "stdout",
     "output_type": "stream",
     "text": [
      "<class '__main__.SingletonM'> __init__ method called with args ('SingletonM', (), {'__module__': '__main__', '__qualname__': 'SingletonM'})\n"
     ]
    }
   ],
   "source": [
    "# 元类 type 单例\n",
    "class MetaSingleton(type):\n",
    "    \"\"\" A type for Singleton classes (overrides __call__) \"\"\"    \n",
    "\n",
    "    def __init__(cls, *args):\n",
    "        print(cls,\"__init__ method called with args\", args)\n",
    "        type.__init__(cls, *args)\n",
    "        cls.instance = None\n",
    "\n",
    "    def __call__(cls, *args, **kwargs):\n",
    "        if not cls.instance:\n",
    "            print(cls,\"creating instance\", args, kwargs)\n",
    "            cls.instance = type.__call__(cls, *args, **kwargs)\n",
    "        return cls.instance\n",
    "\n",
    "class Singleton(object):\n",
    "    \"\"\" Singleton in Python \"\"\"\n",
    "    \n",
    "    _instance = None\n",
    "    \n",
    "    def __new__(cls):\n",
    "        if cls._instance == None:\n",
    "            cls._instance = object.__new__(cls)\n",
    "        return cls._instance\n",
    "\n",
    "class SingletonA(Singleton):\n",
    "    pass\n",
    "\n",
    "class SingletonA1(SingletonA):\n",
    "    pass\n",
    "\n",
    "class SingletonB(Singleton):\n",
    "    pass\n",
    "\n",
    "class SingletonM(metaclass=MetaSingleton):\n",
    "    pass\n",
    "\n",
    "def test_single(cls):\n",
    "    \"\"\" Test if passed class is a singleton\n",
    "    测试方法\"\"\"\n",
    "    return cls() == cls()"
   ]
  },
  {
   "cell_type": "code",
   "execution_count": 27,
   "metadata": {},
   "outputs": [
    {
     "name": "stdout",
     "output_type": "stream",
     "text": [
      "a.x => 100\n",
      "a1.x => 100\n",
      "Error: 'SingletonB' object has no attribute 'x'\n",
      "True\n",
      "<class '__main__.SingletonM'> creating instance () {}\n",
      "True\n",
      "True\n",
      "True\n",
      "True\n"
     ]
    }
   ],
   "source": [
    "a = SingletonA()\n",
    "a1 = SingletonA1()\n",
    "b = SingletonB()\n",
    "\n",
    "a.x = 100\n",
    "print('a.x =>',a.x)\n",
    "print('a1.x =>',a1.x)\n",
    "# Will raise an exception\n",
    "try:\n",
    "    print('b.x =>',b.x)\n",
    "except AttributeError as e:\n",
    "    print('Error:',e)\n",
    "\n",
    "print(test_single(Singleton))\n",
    "print(test_single(SingletonM))\n",
    "print(test_single(SingletonA))\n",
    "print(test_single(SingletonB))\n",
    "print(test_single(SingletonA1))"
   ]
  },
  {
   "cell_type": "code",
   "execution_count": 29,
   "metadata": {},
   "outputs": [],
   "source": [
    "# 二，工厂模式类的实现\n",
    "from abc import ABCMeta, abstractmethod\n",
    "\n",
    "class Employee(metaclass=ABCMeta):\n",
    "    \"\"\" An Employee class \"\"\"\n",
    "\n",
    "    def __init__(self, name, age, gender):\n",
    "        self.name = name\n",
    "        self.age = age\n",
    "        self.gender = gender\n",
    "\n",
    "    @abstractmethod\n",
    "    def get_role(self):\n",
    "        pass\n",
    "    \n",
    "    def __str__(self):\n",
    "        return \"{} - {}, {} years old {}\".format(self.__class__.__name__,\n",
    "                                                 self.name,\n",
    "                                                 self.age,\n",
    "                                                 self.gender)\n",
    "class Engineer(Employee):\n",
    "    \"\"\" An Engineer Employee \"\"\"\n",
    "    \n",
    "    def get_role(self):\n",
    "        return \"engineering\"\n",
    "\n",
    "class Accountant(Employee):\n",
    "    \"\"\" An Accountant Employee \"\"\"\n",
    "    \n",
    "    def get_role(self):\n",
    "        return \"accountant\"    \n",
    "\n",
    "class Admin(Employee):\n",
    "    \"\"\" An Admin Employee \"\"\"\n",
    "\n",
    "    def get_role(self):\n",
    "        return \"administration\""
   ]
  },
  {
   "cell_type": "code",
   "execution_count": 36,
   "metadata": {},
   "outputs": [],
   "source": [
    "class EmployeeFactory(object):\n",
    "    \"\"\" An Employee factory class \n",
    "    工厂类，通过一个入口创建多个类\n",
    "    特征: 通常使用一个工厂类关联整个类家族，类及子类的层次结构\"\"\"\n",
    "\n",
    "    @classmethod\n",
    "    def create(cls, name, *args):\n",
    "        \"\"\" Factory method for creating an Employee instance \n",
    "       特征: 工厂类的方法通常为 classmethod声明，这样可以通过类的命名空间直接调用，可以不用创建实例\n",
    "       如EmployeeFactory.create('engineer', 'Sam', 25, 'M')\"\"\"\n",
    "\n",
    "        name = name.lower().strip()\n",
    "        \n",
    "        if name == 'engineer':\n",
    "            return Engineer(*args)\n",
    "        elif name == 'software engineer':\n",
    "            return SoftwareEngineer(*args)\n",
    "        elif name == 'admin':\n",
    "            return Admin(*args)\n",
    "        elif name == 'accountant':\n",
    "            return Accountant(*args)"
   ]
  },
  {
   "cell_type": "code",
   "execution_count": 40,
   "metadata": {},
   "outputs": [
    {
     "name": "stdout",
     "output_type": "stream",
     "text": [
      "Engineer - Sam, 25 years old M\n",
      "Accountant - Ham, 36 years old F\n"
     ]
    }
   ],
   "source": [
    "factory = EmployeeFactory()\n",
    "print(factory.create('engineer', 'Sam', 25, 'M'))\n",
    "print(factory.create('accountant', 'Ham', 36, 'F'))"
   ]
  },
  {
   "cell_type": "code",
   "execution_count": 38,
   "metadata": {},
   "outputs": [
    {
     "name": "stdout",
     "output_type": "stream",
     "text": [
      "Admin - Jam, 26 years old F\n"
     ]
    }
   ],
   "source": [
    "print(factory.create('admin', 'Jam', 26, 'F'))"
   ]
  },
  {
   "cell_type": "code",
   "execution_count": 42,
   "metadata": {},
   "outputs": [],
   "source": [
    "# 三，迭代器模式类的实现\n",
    "import itertools\n",
    "\n",
    "class Prime(object):\n",
    "    \"\"\" An iterator for prime numbers \n",
    "    无限迭代器，生成指定两个数之间的质数序列\"\"\"\n",
    "\n",
    "    def __init__(self, initial, final=0):\n",
    "        \"\"\" Initializer - accepts a number \"\"\"\n",
    "        # This may or may not be prime\n",
    "        self.current = initial\n",
    "        self.final = final\n",
    "        \n",
    "    def __iter__(self):\n",
    "        return self\n",
    "\n",
    "    def __next__(self):\n",
    "        \"\"\" Return next item in iterator \"\"\"\n",
    "        return self._compute()\n",
    "\n",
    "    def _compute(self):\n",
    "        \"\"\" Compute the next prime number \"\"\"\n",
    "\n",
    "        num = self.current\n",
    "        \n",
    "        while True:\n",
    "            is_prime = True\n",
    "            \n",
    "            # Check this number\n",
    "            for x in range(2, int(pow(self.current, 0.5)+1)):\n",
    "                if self.current%x==0:\n",
    "                    is_prime = False\n",
    "                    break\n",
    "\n",
    "\n",
    "            num = self.current\n",
    "            self.current += 1\n",
    "\n",
    "            if is_prime:\n",
    "                return num\n",
    "            \n",
    "            # If there is an end range, look for it\n",
    "            if self.final>0 and self.current>self.final:\n",
    "                raise StopIteration"
   ]
  },
  {
   "cell_type": "code",
   "execution_count": 44,
   "metadata": {},
   "outputs": [
    {
     "name": "stdout",
     "output_type": "stream",
     "text": [
      "[2, 3, 5, 7, 11, 13, 17, 19, 23, 29, 31, 37, 41, 43, 47]\n",
      "[2, 3, 5, 7, 11, 13, 17, 19, 23, 29, 31, 37, 41, 43, 47, 53, 59, 61, 67, 71, 73, 79, 83, 89, 97, 101, 103, 107, 109, 113, 127, 131, 137, 139, 149, 151, 157, 163, 167, 173, 179, 181, 191, 193, 197, 199, 211, 223, 227, 229, 233, 239, 241, 251, 257, 263, 269, 271, 277, 281, 283, 293, 307, 311, 313, 317, 331, 337, 347, 349, 353, 359, 367, 373, 379, 383, 389, 397, 401, 409, 419, 421, 431, 433, 439, 443, 449, 457, 461, 463, 467, 479, 487, 491, 499, 503, 509, 521, 523, 541]\n",
      "# 个位以1结尾的质数: [11, 31, 41, 61, 71, 101, 131, 151, 181, 191]\n",
      "前十个回文质数: [11, 101, 131, 151, 181, 191, 313, 353, 373, 383]\n"
     ]
    }
   ],
   "source": [
    "print('2-50之间的质数:',list(Prime(2,50)))\n",
    "# First 100 primes\n",
    "print('前100个质数:',list(itertools.islice(Prime(2), 100)))\n",
    "# First 10 primes ending with 1\n",
    "print('# 个位以1结尾的质数:',list(itertools.islice(itertools.filterfalse(lambda x: x % 10 != 1, Prime(2)), 10))) # 个位以1结尾的质数\n",
    "# First 10 palindromic primes\n",
    "print('前十个回文质数:',list(itertools.islice(itertools.filterfalse(lambda x: str(x)!=str(x)[-1::-1], Prime(10)), 10)))  # 前十个回文质数"
   ]
  },
  {
   "cell_type": "code",
   "execution_count": 45,
   "metadata": {},
   "outputs": [],
   "source": [
    "# 四，结构化-适配器模式类的实现\n",
    "\n",
    "import itertools\n",
    "\n",
    "class Polygon(object):\n",
    "    \"\"\" A polygon class \"\"\"\n",
    "    \n",
    "    def __init__(self, *sides):\n",
    "        \"\"\" Initializer - accepts length of sides \"\"\"\n",
    "        self.sides = sides\n",
    "        \n",
    "    def perimeter(self):\n",
    "        \"\"\" Return perimeter \"\"\"\n",
    "        \n",
    "        return sum(self.sides)\n",
    "    \n",
    "    def is_valid(self):\n",
    "        \"\"\" Is this a valid polygon \"\"\"\n",
    "        \n",
    "        # Do some complex stuff - not implemented in base class\n",
    "        raise NotImplementedError\n",
    "    \n",
    "    def is_regular(self):\n",
    "        \"\"\" Is a regular polygon ? \"\"\"\n",
    "        \n",
    "        # Yes: if all sides are equal\n",
    "        side = self.sides[0]\n",
    "        return all([x==side for x in self.sides[1:]])\n",
    "    \n",
    "    def area(self):\n",
    "        \"\"\" Calculate and return area \"\"\"\n",
    "        \n",
    "        # Not implemented in base class\n",
    "        raise NotImplementedError\n",
    "\n",
    "class InvalidPolygonError(Exception):\n",
    "    pass\n"
   ]
  },
  {
   "cell_type": "code",
   "execution_count": 46,
   "metadata": {},
   "outputs": [],
   "source": [
    "class Triangle(Polygon):\n",
    "    \"\"\" Triangle class from Polygon using class adapter \"\"\"\n",
    "    \n",
    "    def is_equilateral(self):\n",
    "        \"\"\" Is this an equilateral triangle ? \"\"\"\n",
    "        \n",
    "        if self.is_valid():\n",
    "            return super(Triangle, self).is_regular()\n",
    "    \n",
    "    def is_isosceles(self):\n",
    "        \"\"\" Is the triangle isosceles \"\"\"\n",
    "        \n",
    "        if self.is_valid():\n",
    "            # Check if any 2 sides are equal\n",
    "            for a,b in itertools.combinations(self.sides, 2):\n",
    "                if a == b:\n",
    "                    return True\n",
    "        return False\n",
    "    \n",
    "    def area(self):\n",
    "        \"\"\" Calculate area \"\"\"\n",
    "        \n",
    "        # Using Heron's formula\n",
    "        p = self.perimeter()/2.0\n",
    "        total = p\n",
    "        for side in self.sides:\n",
    "            total *= abs(p-side)\n",
    "            \n",
    "        return pow(total, 0.5)\n",
    "    \n",
    "    def is_valid(self):\n",
    "        \"\"\" Is the triangle valid \"\"\"\n",
    "        \n",
    "        # Sum of 2 sides should be > 3rd side\n",
    "        perimeter = self.perimeter()\n",
    "        for side in self.sides:\n",
    "            sum_two = perimeter - side\n",
    "            if sum_two <= side:\n",
    "                raise InvalidPolygonError(str(self.__class__) + \"is invalid!\")\n",
    "                \n",
    "        return True\n",
    "\n",
    "class Rectangle(Polygon):\n",
    "    \"\"\" Rectangle class from Polygon using class adapter \"\"\"\n",
    "\n",
    "    def is_square(self):\n",
    "        \"\"\" Return if I am a square \"\"\"\n",
    "\n",
    "        if self.is_valid():\n",
    "            # Defaults to is_regular\n",
    "            return self.is_regular()\n",
    "\n",
    "    def is_valid(self):\n",
    "        \"\"\" Is the rectangle valid \"\"\"\n",
    "\n",
    "        # Should have 4 sides\n",
    "        if len(self.sides) != 4:\n",
    "            return False\n",
    "\n",
    "        # Opposite sides should be same\n",
    "        for a,b in [(0,2),(1,3)]:\n",
    "            if self.sides[a] != self.sides[b]:\n",
    "                return False\n",
    "\n",
    "        return True\n",
    "\n",
    "    def area(self):\n",
    "        \"\"\" Return area of rectangle \"\"\"\n",
    "\n",
    "        # Length x breadth\n",
    "        if self.is_valid():\n",
    "            return self.sides[0]*self.sides[1]"
   ]
  },
  {
   "cell_type": "code",
   "execution_count": 49,
   "metadata": {},
   "outputs": [
    {
     "name": "stdout",
     "output_type": "stream",
     "text": [
      "True\n",
      "True\n",
      "False\n",
      "True\n"
     ]
    }
   ],
   "source": [
    "t1 = Triangle(2,2,2)\n",
    "print(t1.is_equilateral())\n",
    "print(t1.is_isosceles())\n",
    "\n",
    "t2 = Triangle(2,2,3)\n",
    "print(t2.is_equilateral())\n",
    "print(t2.is_isosceles())"
   ]
  },
  {
   "cell_type": "code",
   "execution_count": 54,
   "metadata": {},
   "outputs": [],
   "source": [
    "# 五，结构化-外观模式\n",
    "# 通过一些仪表盘和控件，工程师就能挑战控制系统背后复杂系统，保持系统运行，隐藏系统背后的复杂性\n",
    "# compiler 模块词法分析器，解析器，ast树生成器等的外观\n",
    "import time\n",
    "\n",
    "class Engine(object):\n",
    "    \"\"\" An Engine class\n",
    "    发动机\"\"\"\n",
    "    \n",
    "    def __init__(self, name, bhp, rpm, volume, cylinders=4, type='petrol'):\n",
    "        self.name = name\n",
    "        self.bhp = bhp\n",
    "        self.rpm = rpm\n",
    "        self.volume = volume\n",
    "        self.cylinders = cylinders\n",
    "        self.type = type\n",
    "\n",
    "    def start(self):\n",
    "        \"\"\" Start-up the engine \"\"\"\n",
    "        print('Engine started')\n",
    "\n",
    "    def stop(self):\n",
    "        \"\"\" Stop the engine \"\"\"\n",
    "        print('Engine stopped')"
   ]
  },
  {
   "cell_type": "code",
   "execution_count": 55,
   "metadata": {},
   "outputs": [],
   "source": [
    "class Transmission(object):\n",
    "    \"\"\" Transmission class \n",
    "    转动控制\"\"\"\n",
    "\n",
    "    def __init__(self, gears, torque):\n",
    "        self.gears = gears\n",
    "        self.torque = torque\n",
    "        # Start with neutral\n",
    "        self.gear_pos = 0\n",
    "\n",
    "    def shift_up(self):\n",
    "        \"\"\" Shift up gears \"\"\"\n",
    "\n",
    "        if self.gear_pos == self.gears:\n",
    "            print('Cant shift up anymore')\n",
    "        else:\n",
    "            self.gear_pos += 1\n",
    "            print('Shifted up to gear',self.gear_pos)\n",
    "\n",
    "    def shift_down(self):\n",
    "        \"\"\" Shift down gears \"\"\"\n",
    "\n",
    "        if self.gear_pos == -1:\n",
    "            print(\"In reverse, can't shift down\")\n",
    "        else:\n",
    "            self.gear_pos -= 1\n",
    "            print('Shifted down to gear',self.gear_pos)         \n",
    "\n",
    "    def shift_reverse(self):\n",
    "        \"\"\" Shift in reverse \"\"\"\n",
    "\n",
    "        print('Reverse shifting')\n",
    "        self.gear_pos = -1\n",
    "\n",
    "    def shift_to(self, gear):\n",
    "        \"\"\" Shift to a gear position \"\"\"\n",
    "\n",
    "        self.gear_pos = gear\n",
    "        print('Shifted to gear',self.gear_pos)      \n"
   ]
  },
  {
   "cell_type": "code",
   "execution_count": 56,
   "metadata": {},
   "outputs": [],
   "source": [
    "# 其他子系统，如刹车，泊车，轮子，悬架，框架等\n",
    "class Brake(object):\n",
    "    \"\"\" A brake class\n",
    "    刹车\"\"\"\n",
    "\n",
    "    def __init__(self, number, type='disc'):\n",
    "        self.type = type\n",
    "        self.number = number\n",
    "\n",
    "    def engage(self):\n",
    "        \"\"\" Engage the break \"\"\"\n",
    "\n",
    "        print('%s %d engaged' % (self.__class__.__name__,\n",
    "                                 self.number))\n",
    "\n",
    "    def release(self):\n",
    "        \"\"\" Release the break \"\"\"\n",
    "\n",
    "        print('%s %d released' % (self.__class__.__name__,\n",
    "                                  self.number))\n",
    "\n",
    "class ParkingBrake(Brake):\n",
    "    \"\"\" A parking brake class \"\"\"\n",
    "\n",
    "    def __init__(self, type='drum'):\n",
    "        super(ParkingBrake, self).__init__(type=type, number=1)\n",
    "        \n",
    "\n",
    "class Suspension(object):\n",
    "    \"\"\" A suspension class \"\"\"\n",
    "    \n",
    "    def __init__(self, load, type='mcpherson'):\n",
    "        self.type = type\n",
    "        self.load = load\n",
    "\n",
    "class Wheel(object):\n",
    "    \"\"\" A wheel class \"\"\"\n",
    "\n",
    "    def __init__(self, material, diameter, pitch):\n",
    "        self.material = material\n",
    "        self.diameter = diameter\n",
    "        self.pitch = pitch\n",
    "                 \n",
    "class WheelAssembly(object):\n",
    "    \"\"\" A wheel assembly class \"\"\"\n",
    "    \n",
    "    def __init__(self, brake, suspension):\n",
    "        self.brake = brake\n",
    "        self.suspension = suspension\n",
    "        self.wheels = Wheel('alloy', 'M12',1.25)\n",
    "\n",
    "    def apply_brakes(self):\n",
    "        \"\"\" Apply brakes \"\"\"\n",
    "\n",
    "        print('Applying brakes')\n",
    "        self.brake.engage()\n",
    "\n",
    "class Frame(object):\n",
    "    \"\"\" A frame class for an automobile \"\"\"\n",
    "    \n",
    "    def __init__(self, length, width):\n",
    "        self.length = length\n",
    "        self.width = width"
   ]
  },
  {
   "cell_type": "code",
   "execution_count": 57,
   "metadata": {},
   "outputs": [],
   "source": [
    "# Car 类 组合子系统并提供两个方法的外观，start 和 stop\n",
    "class Car(object):\n",
    "    \"\"\" A car class - Facade pattern \"\"\"\n",
    "\n",
    "    def __init__(self, model, manufacturer):\n",
    "        self.engine = Engine('Maruti K-series',85,5000, 1.3)\n",
    "        self.frame = Frame(385, 170)\n",
    "        self.wheel_assemblies = []\n",
    "        for i in range(4):\n",
    "            self.wheel_assemblies.append(WheelAssembly(Brake(i+1), Suspension(1000)))\n",
    "            \n",
    "        self.transmission = Transmission(5, 115)\n",
    "        self.model = model\n",
    "        self.manufacturer = manufacturer\n",
    "        self.park_brake = ParkingBrake()\n",
    "        # Ignition engaged\n",
    "        self.ignition = False\n",
    "\n",
    "    def start(self):\n",
    "        \"\"\" Start the car \"\"\"\n",
    "\n",
    "        print('Starting the car')\n",
    "        self.ignition = True\n",
    "        self.park_brake.release()\n",
    "        self.engine.start()\n",
    "        self.transmission.shift_up()\n",
    "        print('Car started.')\n",
    "\n",
    "    def stop(self):\n",
    "        \"\"\" Stop the car \"\"\"\n",
    "\n",
    "        print('Stopping the car')\n",
    "        # Apply brakes to reduce speed\n",
    "        for wheel_a in self.wheel_assemblies:\n",
    "            wheel_a.apply_brakes()\n",
    "\n",
    "        # Move to 2nd gear and then 1st\n",
    "        self.transmission.shift_to(2)\n",
    "        self.transmission.shift_to(1)\n",
    "        self.engine.stop()\n",
    "        # Shift to neutral\n",
    "        self.transmission.shift_to(0)\n",
    "        # Engage parking brake\n",
    "        self.park_brake.engage()\n",
    "        print('Car stopped.')"
   ]
  },
  {
   "cell_type": "code",
   "execution_count": 58,
   "metadata": {},
   "outputs": [
    {
     "name": "stdout",
     "output_type": "stream",
     "text": [
      "<__main__.Car object at 0x105d0a4a8>\n"
     ]
    }
   ],
   "source": [
    "car_jili = Car('Swift', 'Suzuki')\n",
    "print(car_jili)"
   ]
  },
  {
   "cell_type": "code",
   "execution_count": 59,
   "metadata": {},
   "outputs": [
    {
     "name": "stdout",
     "output_type": "stream",
     "text": [
      "Starting the car\n",
      "ParkingBrake 1 released\n",
      "Engine started\n",
      "Shifted up to gear 1\n",
      "Car started.\n",
      "Stopping the car\n",
      "Applying brakes\n",
      "Brake 1 engaged\n",
      "Applying brakes\n",
      "Brake 2 engaged\n",
      "Applying brakes\n",
      "Brake 3 engaged\n",
      "Applying brakes\n",
      "Brake 4 engaged\n",
      "Shifted to gear 2\n",
      "Shifted to gear 1\n",
      "Engine stopped\n",
      "Shifted to gear 0\n",
      "ParkingBrake 1 engaged\n",
      "Car stopped.\n"
     ]
    }
   ],
   "source": [
    "car_jili.start()  # 启动\n",
    "car_jili.stop()  # 停止"
   ]
  },
  {
   "cell_type": "code",
   "execution_count": 61,
   "metadata": {},
   "outputs": [],
   "source": [
    "# 六，代理模式\n",
    "# 目标: 代理总是实现代理对象的接口\n",
    "# 适用场景\n",
    "# \n",
    "# 1，需要一个更接近客户的虚拟资源，它可以替代另一个网络中的实际资源，如远程代理\n",
    "# 2，需要控制/监视对资源的访问时，如网络代理和实例计数代理\n",
    "# 3，需要保护资源或对象(保护代理), 因为直接访问资源会导致安全问题或危机资源，例如反向代理服务\n",
    "# 4，需要从开销大的计算或网络操作中优化对结果的访问，以便不必每次都指向计算，如缓存代理\n",
    "from abc import ABCMeta, abstractmethod\n",
    "\n",
    "class Employee(metaclass=ABCMeta):\n",
    "    \"\"\" An Employee class \"\"\"\n",
    "\n",
    "    def __init__(self, name, age, gender):\n",
    "        self.name = name\n",
    "        self.age = age\n",
    "        self.gender = gender\n",
    "\n",
    "    @abstractmethod\n",
    "    def get_role(self):\n",
    "        pass\n",
    "    \n",
    "    def __str__(self):\n",
    "        return \"{} - {}, {} years old {}\".format(self.__class__.__name__,\n",
    "                                                 self.name,\n",
    "                                                 self.age,\n",
    "                                                 self.gender)\n",
    "class Engineer(Employee):\n",
    "    \"\"\" An Engineer Employee \"\"\"\n",
    "    \n",
    "    def get_role(self):\n",
    "        return \"engineering\"\n",
    "\n",
    "class Admin(Employee):\n",
    "    \"\"\" An Admin Employee \"\"\"\n",
    "\n",
    "    def get_role(self):\n",
    "        return \"administration\"\n",
    "\n",
    "class Accountant(Employee):\n",
    "    \"\"\" An Accountant Employee \"\"\"\n",
    "\n",
    "    def get_role(self):\n",
    "        return \"accounting\"\n",
    "    "
   ]
  },
  {
   "cell_type": "code",
   "execution_count": 62,
   "metadata": {},
   "outputs": [],
   "source": [
    "class EmployeeProxy(object):\n",
    "    \"\"\" Counting proxy class for Employees \n",
    "    实现了一个组合或对象代理，包装目标对象\"\"\"\n",
    "\n",
    "    # Count of employees\n",
    "    count = 0\n",
    "\n",
    "    def __new__(cls, *args):\n",
    "        \"\"\" Overloaded __new__ \"\"\"\n",
    "        # To keep track of counts\n",
    "        instance = object.__new__(cls)\n",
    "        cls.incr_count()   # 实例计数\n",
    "        return instance\n",
    "        \n",
    "    def __init__(self, employee):\n",
    "        self.employee = employee\n",
    "\n",
    "    @classmethod\n",
    "    def incr_count(cls):\n",
    "        \"\"\" Increment employee count \"\"\"\n",
    "        cls.count += 1\n",
    "\n",
    "    @classmethod\n",
    "    def decr_count(cls):\n",
    "        \"\"\" Decrement employee count \"\"\"\n",
    "        cls.count -= 1\n",
    "\n",
    "    @classmethod\n",
    "    def get_count(cls):\n",
    "        \"\"\" Get employee count \"\"\"\n",
    "        print('代理计数,引用的是类计数')\n",
    "        return cls.count\n",
    "    \n",
    "    def __str__(self):\n",
    "        return str(self.employee)\n",
    "    \n",
    "    def __getattr__(self, name):\n",
    "        \"\"\" Redirect attributes to employee instance\n",
    "        重定向对象访问权\"\"\"\n",
    "\n",
    "        return getattr(self.employee, name)\n",
    "        \n",
    "    def __del__(self):\n",
    "        \"\"\" Overloaded __del__ method \"\"\"\n",
    "        # Decrement employee count\n",
    "        self.decr_count()     # 实例计数\n"
   ]
  },
  {
   "cell_type": "code",
   "execution_count": 63,
   "metadata": {},
   "outputs": [],
   "source": [
    "class EmployeeProxyFactory(object):\n",
    "    \"\"\" An Employee factory class returning proxy objects \"\"\"\n",
    "\n",
    "    @classmethod\n",
    "    def create(cls, name, *args):\n",
    "        \"\"\" Factory method for creating an Employee instance \"\"\"\n",
    "\n",
    "        name = name.lower().strip()\n",
    "        \n",
    "        if name == 'engineer':\n",
    "            return EmployeeProxy(Engineer(*args))\n",
    "        elif name == 'accountant':\n",
    "            return EmployeeProxy(Accountant(*args))\n",
    "        elif name == 'admin':\n",
    "            return EmployeeProxy(Admin(*args))"
   ]
  },
  {
   "cell_type": "code",
   "execution_count": 71,
   "metadata": {},
   "outputs": [
    {
     "name": "stdout",
     "output_type": "stream",
     "text": [
      "Engineer - Sam, 29 years old M\n"
     ]
    }
   ],
   "source": [
    "Factory = EmployeeProxyFactory()\n",
    "engineer = Factory.create('engineer', 'Sam','29', 'M')\n",
    "print(engineer)"
   ]
  },
  {
   "cell_type": "code",
   "execution_count": 73,
   "metadata": {},
   "outputs": [
    {
     "ename": "NameError",
     "evalue": "name 'engineer' is not defined",
     "output_type": "error",
     "traceback": [
      "\u001b[0;31m---------------------------------------------------------------------------\u001b[0m",
      "\u001b[0;31mNameError\u001b[0m                                 Traceback (most recent call last)",
      "\u001b[0;32m<ipython-input-73-fb4ee876f645>\u001b[0m in \u001b[0;36m<module>\u001b[0;34m\u001b[0m\n\u001b[0;32m----> 1\u001b[0;31m \u001b[0mprint\u001b[0m\u001b[0;34m(\u001b[0m\u001b[0mengineer\u001b[0m\u001b[0;34m.\u001b[0m\u001b[0mget_count\u001b[0m\u001b[0;34m(\u001b[0m\u001b[0;34m)\u001b[0m\u001b[0;34m)\u001b[0m  \u001b[0;31m#\u001b[0m\u001b[0;34m\u001b[0m\u001b[0;34m\u001b[0m\u001b[0m\n\u001b[0m\u001b[1;32m      2\u001b[0m \u001b[0mprint\u001b[0m\u001b[0;34m(\u001b[0m\u001b[0mEmployeeProxy\u001b[0m\u001b[0;34m.\u001b[0m\u001b[0mget_count\u001b[0m\u001b[0;34m(\u001b[0m\u001b[0;34m)\u001b[0m\u001b[0;34m)\u001b[0m  \u001b[0;31m#\u001b[0m\u001b[0;34m\u001b[0m\u001b[0;34m\u001b[0m\u001b[0m\n\u001b[1;32m      3\u001b[0m \u001b[0mprint\u001b[0m\u001b[0;34m(\u001b[0m\u001b[0mFactory\u001b[0m\u001b[0;34m.\u001b[0m\u001b[0mget_count\u001b[0m\u001b[0;34m(\u001b[0m\u001b[0;34m)\u001b[0m\u001b[0;34m)\u001b[0m\u001b[0;34m\u001b[0m\u001b[0;34m\u001b[0m\u001b[0m\n\u001b[1;32m      4\u001b[0m \u001b[0;32mdel\u001b[0m \u001b[0mengineer\u001b[0m\u001b[0;34m\u001b[0m\u001b[0;34m\u001b[0m\u001b[0m\n\u001b[1;32m      5\u001b[0m \u001b[0mprint\u001b[0m\u001b[0;34m(\u001b[0m\u001b[0mEmployeeProxy\u001b[0m\u001b[0;34m.\u001b[0m\u001b[0mget_count\u001b[0m\u001b[0;34m(\u001b[0m\u001b[0;34m)\u001b[0m\u001b[0;34m)\u001b[0m  \u001b[0;31m#\u001b[0m\u001b[0;34m\u001b[0m\u001b[0;34m\u001b[0m\u001b[0m\n",
      "\u001b[0;31mNameError\u001b[0m: name 'engineer' is not defined"
     ]
    }
   ],
   "source": [
    "print(engineer.get_count())  # \n",
    "print(EmployeeProxy.get_count())  # \n",
    "print(Factory.get_count())\n",
    "del engineer\n",
    "print(EmployeeProxy.get_count())  # \n",
    "print(engineer.get_count())  # "
   ]
  },
  {
   "cell_type": "code",
   "execution_count": 74,
   "metadata": {},
   "outputs": [],
   "source": [
    "a = ['world', [1,2,3,4]]\n",
    "b = a[:]"
   ]
  },
  {
   "cell_type": "code",
   "execution_count": 75,
   "metadata": {},
   "outputs": [
    {
     "name": "stdout",
     "output_type": "stream",
     "text": [
      "['world', [1, 2, 3, 4]]\n"
     ]
    }
   ],
   "source": [
    "print(b)"
   ]
  },
  {
   "cell_type": "code",
   "execution_count": 76,
   "metadata": {},
   "outputs": [
    {
     "name": "stdout",
     "output_type": "stream",
     "text": [
      "['hello', [1, 2, 3, 4, 5]]\n",
      "['world', [1, 2, 3, 4, 5]]\n"
     ]
    }
   ],
   "source": [
    "a[0] = 'hello'\n",
    "a[1].append(5)\n",
    "print(a)\n",
    "print(b)"
   ]
  },
  {
   "cell_type": "code",
   "execution_count": 77,
   "metadata": {},
   "outputs": [
    {
     "name": "stdout",
     "output_type": "stream",
     "text": [
      "['hello', [1, 2, 3, 4, 5]]\n"
     ]
    }
   ],
   "source": [
    "c = a.copy()\n",
    "print(c)"
   ]
  },
  {
   "cell_type": "code",
   "execution_count": 79,
   "metadata": {},
   "outputs": [
    {
     "name": "stdout",
     "output_type": "stream",
     "text": [
      "['hi', [1, 2, 3, 4]]\n",
      "['hello', [1, 2, 3, 4]]\n"
     ]
    }
   ],
   "source": [
    "a[0] = 'hi'\n",
    "a[1].pop(-1)\n",
    "print(a)\n",
    "print(c)"
   ]
  },
  {
   "cell_type": "code",
   "execution_count": 1,
   "metadata": {},
   "outputs": [
    {
     "ename": "SyntaxError",
     "evalue": "invalid syntax (<ipython-input-1-d6edcd18ca1c>, line 3)",
     "output_type": "error",
     "traceback": [
      "\u001b[0;36m  File \u001b[0;32m\"<ipython-input-1-d6edcd18ca1c>\"\u001b[0;36m, line \u001b[0;32m3\u001b[0m\n\u001b[0;31m    lambda(a*b, a:b)\u001b[0m\n\u001b[0m          ^\u001b[0m\n\u001b[0;31mSyntaxError\u001b[0m\u001b[0;31m:\u001b[0m invalid syntax\n"
     ]
    }
   ],
   "source": [
    "a=3\n",
    "b=2\n",
    "lambda(a*b, a:b)"
   ]
  },
  {
   "cell_type": "code",
<<<<<<< HEAD
   "execution_count": 32,
   "metadata": {},
   "outputs": [],
   "source": []
  },
  {
   "cell_type": "code",
   "execution_count": 33,
=======
   "execution_count": 31,
   "metadata": {},
   "outputs": [],
   "source": [
    "import copy\n",
    "\n",
    "\n",
    "def gen_list(lis):\n",
    "    rst_list = []\n",
    "    rst_list.append(lis)\n",
    "    for i in list(range(len(lis))):\n",
    "        other_lis = copy.deepcopy(lis)\n",
    "        if other_lis[i] > 0:\n",
    "            for j in list(range(other_lis[i])):\n",
    "                j_lis = copy.deepcopy(lis)\n",
    "                j_lis[i] = j\n",
    "                o_lis = [[j_lis[i], x] for x in list(range(other_lis[-1]))]  # 列表推导式\n",
    "\n",
    "                print('j_lis:{}'.format(j_lis))\n",
    "                if j_lis not in rst_list:\n",
    "                    rst_list.append(j_lis)\n",
    "                if o_lis not in rst_list:\n",
    "                    rst_list.extend(o_lis)\n",
    "\n",
    "                print('now rst_list:{}'.format(rst_list))\n",
    "        else:\n",
    "            rst_list.append(other_lis)\n",
    "    rsts_list = []\n",
    "    for ls in rst_list:\n",
    "        rsts_list.append(str(ls))\n",
    "    rst_list = set(rsts_list) # 去重\n",
    "    print('rst_list:{}'.format(rst_list))\n",
    "    # rsts_list = []\n",
    "    # for lss in rst_list:\n",
    "    #     rsts_list.append(list(lss[1:-1]))\n",
    "    # rst_list = rsts_list\n",
    "    print('rst_len:{}'.format(len(rst_list)))\n",
    "    return rst_list\n"
   ]
  },
  {
   "cell_type": "code",
   "execution_count": 30,
>>>>>>> db44f48aa98ad4bc311c002b35c3585a02277c61
   "metadata": {},
   "outputs": [
    {
     "name": "stdout",
     "output_type": "stream",
     "text": [
      "j_lis:[0, 4]\n",
      "now rst_list:[[5, 4], [0, 4], [0, 0], [0, 1], [0, 2], [0, 3]]\n",
      "j_lis:[1, 4]\n",
      "now rst_list:[[5, 4], [0, 4], [0, 0], [0, 1], [0, 2], [0, 3], [1, 4], [1, 0], [1, 1], [1, 2], [1, 3]]\n",
      "j_lis:[2, 4]\n",
      "now rst_list:[[5, 4], [0, 4], [0, 0], [0, 1], [0, 2], [0, 3], [1, 4], [1, 0], [1, 1], [1, 2], [1, 3], [2, 4], [2, 0], [2, 1], [2, 2], [2, 3]]\n",
      "j_lis:[3, 4]\n",
      "now rst_list:[[5, 4], [0, 4], [0, 0], [0, 1], [0, 2], [0, 3], [1, 4], [1, 0], [1, 1], [1, 2], [1, 3], [2, 4], [2, 0], [2, 1], [2, 2], [2, 3], [3, 4], [3, 0], [3, 1], [3, 2], [3, 3]]\n",
      "j_lis:[4, 4]\n",
      "now rst_list:[[5, 4], [0, 4], [0, 0], [0, 1], [0, 2], [0, 3], [1, 4], [1, 0], [1, 1], [1, 2], [1, 3], [2, 4], [2, 0], [2, 1], [2, 2], [2, 3], [3, 4], [3, 0], [3, 1], [3, 2], [3, 3], [4, 4], [4, 0], [4, 1], [4, 2], [4, 3]]\n",
      "j_lis:[5, 0]\n",
      "now rst_list:[[5, 4], [0, 4], [0, 0], [0, 1], [0, 2], [0, 3], [1, 4], [1, 0], [1, 1], [1, 2], [1, 3], [2, 4], [2, 0], [2, 1], [2, 2], [2, 3], [3, 4], [3, 0], [3, 1], [3, 2], [3, 3], [4, 4], [4, 0], [4, 1], [4, 2], [4, 3], [5, 0], [0, 0], [0, 1], [0, 2], [0, 3]]\n",
      "j_lis:[5, 1]\n",
      "now rst_list:[[5, 4], [0, 4], [0, 0], [0, 1], [0, 2], [0, 3], [1, 4], [1, 0], [1, 1], [1, 2], [1, 3], [2, 4], [2, 0], [2, 1], [2, 2], [2, 3], [3, 4], [3, 0], [3, 1], [3, 2], [3, 3], [4, 4], [4, 0], [4, 1], [4, 2], [4, 3], [5, 0], [0, 0], [0, 1], [0, 2], [0, 3], [5, 1], [1, 0], [1, 1], [1, 2], [1, 3]]\n",
      "j_lis:[5, 2]\n",
      "now rst_list:[[5, 4], [0, 4], [0, 0], [0, 1], [0, 2], [0, 3], [1, 4], [1, 0], [1, 1], [1, 2], [1, 3], [2, 4], [2, 0], [2, 1], [2, 2], [2, 3], [3, 4], [3, 0], [3, 1], [3, 2], [3, 3], [4, 4], [4, 0], [4, 1], [4, 2], [4, 3], [5, 0], [0, 0], [0, 1], [0, 2], [0, 3], [5, 1], [1, 0], [1, 1], [1, 2], [1, 3], [5, 2], [2, 0], [2, 1], [2, 2], [2, 3]]\n",
      "j_lis:[5, 3]\n",
      "now rst_list:[[5, 4], [0, 4], [0, 0], [0, 1], [0, 2], [0, 3], [1, 4], [1, 0], [1, 1], [1, 2], [1, 3], [2, 4], [2, 0], [2, 1], [2, 2], [2, 3], [3, 4], [3, 0], [3, 1], [3, 2], [3, 3], [4, 4], [4, 0], [4, 1], [4, 2], [4, 3], [5, 0], [0, 0], [0, 1], [0, 2], [0, 3], [5, 1], [1, 0], [1, 1], [1, 2], [1, 3], [5, 2], [2, 0], [2, 1], [2, 2], [2, 3], [5, 3], [3, 0], [3, 1], [3, 2], [3, 3]]\n",
      "rst_list:{'[4, 2]', '[4, 1]', '[5, 1]', '[2, 4]', '[3, 4]', '[1, 0]', '[5, 2]', '[1, 2]', '[3, 0]', '[2, 1]', '[1, 4]', '[0, 4]', '[3, 3]', '[0, 0]', '[0, 1]', '[1, 3]', '[5, 0]', '[5, 3]', '[4, 3]', '[1, 1]', '[2, 3]', '[4, 0]', '[2, 2]', '[0, 3]', '[4, 4]', '[5, 4]', '[0, 2]', '[3, 1]', '[2, 0]', '[3, 2]'}\n",
<<<<<<< HEAD
      "rst_len:30\n",
=======
>>>>>>> db44f48aa98ad4bc311c002b35c3585a02277c61
      "{'[4, 2]', '[4, 1]', '[5, 1]', '[2, 4]', '[3, 4]', '[1, 0]', '[5, 2]', '[1, 2]', '[3, 0]', '[2, 1]', '[1, 4]', '[0, 4]', '[3, 3]', '[0, 0]', '[0, 1]', '[1, 3]', '[5, 0]', '[5, 3]', '[4, 3]', '[1, 1]', '[2, 3]', '[4, 0]', '[2, 2]', '[0, 3]', '[4, 4]', '[5, 4]', '[0, 2]', '[3, 1]', '[2, 0]', '[3, 2]'}\n"
     ]
    }
   ],
   "source": [
    "print(gen_list([5,4]))"
   ]
  },
  {
   "cell_type": "code",
   "execution_count": 26,
   "metadata": {},
   "outputs": [
    {
     "data": {
      "text/plain": [
       "[[0, 0],\n",
       " [0, 1],\n",
       " [0, 2],\n",
       " [0, 3],\n",
       " [0, 4],\n",
       " [0, 5],\n",
       " [0, 6],\n",
       " [0, 7],\n",
       " [0, 8],\n",
       " [0, 9]]"
      ]
     },
     "execution_count": 26,
     "metadata": {},
     "output_type": "execute_result"
    }
   ],
   "source": [
    "[[0, i]  for i in list(range(10))]"
   ]
  },
  {
   "cell_type": "code",
<<<<<<< HEAD
   "execution_count": 51,
   "metadata": {},
   "outputs": [
    {
     "name": "stdout",
     "output_type": "stream",
     "text": [
      "[5, 4, 6]\n",
      "[[0, 1, 2, 3, 4, 5], [0, 1, 2, 3, 4], [0, 1, 2, 3, 4, 5, 6]]\n"
     ]
    }
   ],
   "source": [
    "import copy\n",
    "def gen_item_lis(lis):\n",
    "    lis2 = copy.deepcopy(lis)\n",
    "    print(lis2)\n",
    "    item_lis = []\n",
    "    for i in lis2:\n",
    "        o_lis = [x for x in list(range(i+1))]\n",
    "        item_lis.append(o_lis)\n",
    "    return item_lis\n",
    "\n",
    "print(gen_item_lis([5,4,6]))"
   ]
  },
  {
   "cell_type": "code",
   "execution_count": 78,
   "metadata": {},
   "outputs": [],
   "source": [
    "\n",
    "def gen_list(lis, item_lis):\n",
    "    rst_list = []\n",
    "    rst_list.append(lis)\n",
    "    for i in list(range(len(lis))):\n",
    "        other_lis = copy.deepcopy(lis)\n",
    "        if i+1 >= len(lis):\n",
    "            break\n",
    "        if other_lis[i] > 0:\n",
    "            for j in list(item_lis[i]):\n",
    "                j_lis = copy.deepcopy(lis)\n",
    "                j_lis[i] = j\n",
    "                o_lis = [[j_lis[i], x] for x in item_lis[-1]]  # 列表推导式\n",
    "\n",
    "                print('j_lis:{}'.format(j_lis))\n",
    "\n",
    "                if o_lis not in rst_list:\n",
    "                    rst_list.extend(o_lis)\n",
    "\n",
    "                print('now rst_list:{}'.format(rst_list))\n",
    "        else:\n",
    "             rst_list.append(other_lis)\n",
    "    rsts_list = []\n",
    "    for ls in rst_list:\n",
    "        rsts_list.append(str(ls))\n",
    "    rst_list = set(rsts_list) # 去重\n",
    "    print('rst_list:{}'.format(rst_list))\n",
    "\n",
    "    print('rst_len:{}'.format(len(rst_list)))\n",
    "    return rst_list\n",
    "\n"
   ]
  },
  {
   "cell_type": "code",
   "execution_count": 79,
   "metadata": {},
   "outputs": [
    {
     "name": "stdout",
     "output_type": "stream",
     "text": [
      "[15, 4]\n",
      "gen_item_lis:[[0, 1, 2, 3, 4, 5, 6, 7, 8, 9, 10, 11, 12, 13, 14, 15], [0, 1, 2, 3, 4]]\n",
      "j_lis:[0, 4]\n",
      "now rst_list:[[15, 4], [0, 0], [0, 1], [0, 2], [0, 3], [0, 4]]\n",
      "j_lis:[1, 4]\n",
      "now rst_list:[[15, 4], [0, 0], [0, 1], [0, 2], [0, 3], [0, 4], [1, 0], [1, 1], [1, 2], [1, 3], [1, 4]]\n",
      "j_lis:[2, 4]\n",
      "now rst_list:[[15, 4], [0, 0], [0, 1], [0, 2], [0, 3], [0, 4], [1, 0], [1, 1], [1, 2], [1, 3], [1, 4], [2, 0], [2, 1], [2, 2], [2, 3], [2, 4]]\n",
      "j_lis:[3, 4]\n",
      "now rst_list:[[15, 4], [0, 0], [0, 1], [0, 2], [0, 3], [0, 4], [1, 0], [1, 1], [1, 2], [1, 3], [1, 4], [2, 0], [2, 1], [2, 2], [2, 3], [2, 4], [3, 0], [3, 1], [3, 2], [3, 3], [3, 4]]\n",
      "j_lis:[4, 4]\n",
      "now rst_list:[[15, 4], [0, 0], [0, 1], [0, 2], [0, 3], [0, 4], [1, 0], [1, 1], [1, 2], [1, 3], [1, 4], [2, 0], [2, 1], [2, 2], [2, 3], [2, 4], [3, 0], [3, 1], [3, 2], [3, 3], [3, 4], [4, 0], [4, 1], [4, 2], [4, 3], [4, 4]]\n",
      "j_lis:[5, 4]\n",
      "now rst_list:[[15, 4], [0, 0], [0, 1], [0, 2], [0, 3], [0, 4], [1, 0], [1, 1], [1, 2], [1, 3], [1, 4], [2, 0], [2, 1], [2, 2], [2, 3], [2, 4], [3, 0], [3, 1], [3, 2], [3, 3], [3, 4], [4, 0], [4, 1], [4, 2], [4, 3], [4, 4], [5, 0], [5, 1], [5, 2], [5, 3], [5, 4]]\n",
      "j_lis:[6, 4]\n",
      "now rst_list:[[15, 4], [0, 0], [0, 1], [0, 2], [0, 3], [0, 4], [1, 0], [1, 1], [1, 2], [1, 3], [1, 4], [2, 0], [2, 1], [2, 2], [2, 3], [2, 4], [3, 0], [3, 1], [3, 2], [3, 3], [3, 4], [4, 0], [4, 1], [4, 2], [4, 3], [4, 4], [5, 0], [5, 1], [5, 2], [5, 3], [5, 4], [6, 0], [6, 1], [6, 2], [6, 3], [6, 4]]\n",
      "j_lis:[7, 4]\n",
      "now rst_list:[[15, 4], [0, 0], [0, 1], [0, 2], [0, 3], [0, 4], [1, 0], [1, 1], [1, 2], [1, 3], [1, 4], [2, 0], [2, 1], [2, 2], [2, 3], [2, 4], [3, 0], [3, 1], [3, 2], [3, 3], [3, 4], [4, 0], [4, 1], [4, 2], [4, 3], [4, 4], [5, 0], [5, 1], [5, 2], [5, 3], [5, 4], [6, 0], [6, 1], [6, 2], [6, 3], [6, 4], [7, 0], [7, 1], [7, 2], [7, 3], [7, 4]]\n",
      "j_lis:[8, 4]\n",
      "now rst_list:[[15, 4], [0, 0], [0, 1], [0, 2], [0, 3], [0, 4], [1, 0], [1, 1], [1, 2], [1, 3], [1, 4], [2, 0], [2, 1], [2, 2], [2, 3], [2, 4], [3, 0], [3, 1], [3, 2], [3, 3], [3, 4], [4, 0], [4, 1], [4, 2], [4, 3], [4, 4], [5, 0], [5, 1], [5, 2], [5, 3], [5, 4], [6, 0], [6, 1], [6, 2], [6, 3], [6, 4], [7, 0], [7, 1], [7, 2], [7, 3], [7, 4], [8, 0], [8, 1], [8, 2], [8, 3], [8, 4]]\n",
      "j_lis:[9, 4]\n",
      "now rst_list:[[15, 4], [0, 0], [0, 1], [0, 2], [0, 3], [0, 4], [1, 0], [1, 1], [1, 2], [1, 3], [1, 4], [2, 0], [2, 1], [2, 2], [2, 3], [2, 4], [3, 0], [3, 1], [3, 2], [3, 3], [3, 4], [4, 0], [4, 1], [4, 2], [4, 3], [4, 4], [5, 0], [5, 1], [5, 2], [5, 3], [5, 4], [6, 0], [6, 1], [6, 2], [6, 3], [6, 4], [7, 0], [7, 1], [7, 2], [7, 3], [7, 4], [8, 0], [8, 1], [8, 2], [8, 3], [8, 4], [9, 0], [9, 1], [9, 2], [9, 3], [9, 4]]\n",
      "j_lis:[10, 4]\n",
      "now rst_list:[[15, 4], [0, 0], [0, 1], [0, 2], [0, 3], [0, 4], [1, 0], [1, 1], [1, 2], [1, 3], [1, 4], [2, 0], [2, 1], [2, 2], [2, 3], [2, 4], [3, 0], [3, 1], [3, 2], [3, 3], [3, 4], [4, 0], [4, 1], [4, 2], [4, 3], [4, 4], [5, 0], [5, 1], [5, 2], [5, 3], [5, 4], [6, 0], [6, 1], [6, 2], [6, 3], [6, 4], [7, 0], [7, 1], [7, 2], [7, 3], [7, 4], [8, 0], [8, 1], [8, 2], [8, 3], [8, 4], [9, 0], [9, 1], [9, 2], [9, 3], [9, 4], [10, 0], [10, 1], [10, 2], [10, 3], [10, 4]]\n",
      "j_lis:[11, 4]\n",
      "now rst_list:[[15, 4], [0, 0], [0, 1], [0, 2], [0, 3], [0, 4], [1, 0], [1, 1], [1, 2], [1, 3], [1, 4], [2, 0], [2, 1], [2, 2], [2, 3], [2, 4], [3, 0], [3, 1], [3, 2], [3, 3], [3, 4], [4, 0], [4, 1], [4, 2], [4, 3], [4, 4], [5, 0], [5, 1], [5, 2], [5, 3], [5, 4], [6, 0], [6, 1], [6, 2], [6, 3], [6, 4], [7, 0], [7, 1], [7, 2], [7, 3], [7, 4], [8, 0], [8, 1], [8, 2], [8, 3], [8, 4], [9, 0], [9, 1], [9, 2], [9, 3], [9, 4], [10, 0], [10, 1], [10, 2], [10, 3], [10, 4], [11, 0], [11, 1], [11, 2], [11, 3], [11, 4]]\n",
      "j_lis:[12, 4]\n",
      "now rst_list:[[15, 4], [0, 0], [0, 1], [0, 2], [0, 3], [0, 4], [1, 0], [1, 1], [1, 2], [1, 3], [1, 4], [2, 0], [2, 1], [2, 2], [2, 3], [2, 4], [3, 0], [3, 1], [3, 2], [3, 3], [3, 4], [4, 0], [4, 1], [4, 2], [4, 3], [4, 4], [5, 0], [5, 1], [5, 2], [5, 3], [5, 4], [6, 0], [6, 1], [6, 2], [6, 3], [6, 4], [7, 0], [7, 1], [7, 2], [7, 3], [7, 4], [8, 0], [8, 1], [8, 2], [8, 3], [8, 4], [9, 0], [9, 1], [9, 2], [9, 3], [9, 4], [10, 0], [10, 1], [10, 2], [10, 3], [10, 4], [11, 0], [11, 1], [11, 2], [11, 3], [11, 4], [12, 0], [12, 1], [12, 2], [12, 3], [12, 4]]\n",
      "j_lis:[13, 4]\n",
      "now rst_list:[[15, 4], [0, 0], [0, 1], [0, 2], [0, 3], [0, 4], [1, 0], [1, 1], [1, 2], [1, 3], [1, 4], [2, 0], [2, 1], [2, 2], [2, 3], [2, 4], [3, 0], [3, 1], [3, 2], [3, 3], [3, 4], [4, 0], [4, 1], [4, 2], [4, 3], [4, 4], [5, 0], [5, 1], [5, 2], [5, 3], [5, 4], [6, 0], [6, 1], [6, 2], [6, 3], [6, 4], [7, 0], [7, 1], [7, 2], [7, 3], [7, 4], [8, 0], [8, 1], [8, 2], [8, 3], [8, 4], [9, 0], [9, 1], [9, 2], [9, 3], [9, 4], [10, 0], [10, 1], [10, 2], [10, 3], [10, 4], [11, 0], [11, 1], [11, 2], [11, 3], [11, 4], [12, 0], [12, 1], [12, 2], [12, 3], [12, 4], [13, 0], [13, 1], [13, 2], [13, 3], [13, 4]]\n",
      "j_lis:[14, 4]\n",
      "now rst_list:[[15, 4], [0, 0], [0, 1], [0, 2], [0, 3], [0, 4], [1, 0], [1, 1], [1, 2], [1, 3], [1, 4], [2, 0], [2, 1], [2, 2], [2, 3], [2, 4], [3, 0], [3, 1], [3, 2], [3, 3], [3, 4], [4, 0], [4, 1], [4, 2], [4, 3], [4, 4], [5, 0], [5, 1], [5, 2], [5, 3], [5, 4], [6, 0], [6, 1], [6, 2], [6, 3], [6, 4], [7, 0], [7, 1], [7, 2], [7, 3], [7, 4], [8, 0], [8, 1], [8, 2], [8, 3], [8, 4], [9, 0], [9, 1], [9, 2], [9, 3], [9, 4], [10, 0], [10, 1], [10, 2], [10, 3], [10, 4], [11, 0], [11, 1], [11, 2], [11, 3], [11, 4], [12, 0], [12, 1], [12, 2], [12, 3], [12, 4], [13, 0], [13, 1], [13, 2], [13, 3], [13, 4], [14, 0], [14, 1], [14, 2], [14, 3], [14, 4]]\n",
      "j_lis:[15, 4]\n",
      "now rst_list:[[15, 4], [0, 0], [0, 1], [0, 2], [0, 3], [0, 4], [1, 0], [1, 1], [1, 2], [1, 3], [1, 4], [2, 0], [2, 1], [2, 2], [2, 3], [2, 4], [3, 0], [3, 1], [3, 2], [3, 3], [3, 4], [4, 0], [4, 1], [4, 2], [4, 3], [4, 4], [5, 0], [5, 1], [5, 2], [5, 3], [5, 4], [6, 0], [6, 1], [6, 2], [6, 3], [6, 4], [7, 0], [7, 1], [7, 2], [7, 3], [7, 4], [8, 0], [8, 1], [8, 2], [8, 3], [8, 4], [9, 0], [9, 1], [9, 2], [9, 3], [9, 4], [10, 0], [10, 1], [10, 2], [10, 3], [10, 4], [11, 0], [11, 1], [11, 2], [11, 3], [11, 4], [12, 0], [12, 1], [12, 2], [12, 3], [12, 4], [13, 0], [13, 1], [13, 2], [13, 3], [13, 4], [14, 0], [14, 1], [14, 2], [14, 3], [14, 4], [15, 0], [15, 1], [15, 2], [15, 3], [15, 4]]\n",
      "rst_list:{'[4, 2]', '[4, 1]', '[7, 3]', '[5, 1]', '[2, 4]', '[3, 4]', '[9, 1]', '[1, 0]', '[14, 1]', '[6, 4]', '[13, 0]', '[5, 2]', '[8, 1]', '[9, 2]', '[11, 0]', '[13, 2]', '[1, 2]', '[15, 2]', '[6, 1]', '[7, 2]', '[12, 4]', '[14, 4]', '[11, 4]', '[11, 3]', '[6, 2]', '[3, 0]', '[2, 1]', '[7, 0]', '[14, 3]', '[1, 4]', '[10, 4]', '[11, 2]', '[0, 4]', '[7, 4]', '[8, 4]', '[13, 1]', '[3, 3]', '[12, 2]', '[10, 3]', '[12, 1]', '[0, 0]', '[15, 4]', '[13, 3]', '[6, 0]', '[6, 3]', '[0, 1]', '[1, 3]', '[9, 0]', '[14, 0]', '[10, 0]', '[5, 0]', '[5, 3]', '[9, 3]', '[4, 3]', '[12, 3]', '[13, 4]', '[14, 2]', '[1, 1]', '[15, 0]', '[8, 2]', '[10, 2]', '[2, 3]', '[4, 0]', '[2, 2]', '[10, 1]', '[11, 1]', '[9, 4]', '[15, 1]', '[0, 3]', '[7, 1]', '[4, 4]', '[8, 3]', '[5, 4]', '[0, 2]', '[3, 1]', '[8, 0]', '[12, 0]', '[2, 0]', '[3, 2]', '[15, 3]'}\n",
      "rst_len:80\n"
     ]
    },
    {
     "data": {
      "text/plain": [
       "{'[0, 0]',\n",
       " '[0, 1]',\n",
       " '[0, 2]',\n",
       " '[0, 3]',\n",
       " '[0, 4]',\n",
       " '[1, 0]',\n",
       " '[1, 1]',\n",
       " '[1, 2]',\n",
       " '[1, 3]',\n",
       " '[1, 4]',\n",
       " '[10, 0]',\n",
       " '[10, 1]',\n",
       " '[10, 2]',\n",
       " '[10, 3]',\n",
       " '[10, 4]',\n",
       " '[11, 0]',\n",
       " '[11, 1]',\n",
       " '[11, 2]',\n",
       " '[11, 3]',\n",
       " '[11, 4]',\n",
       " '[12, 0]',\n",
       " '[12, 1]',\n",
       " '[12, 2]',\n",
       " '[12, 3]',\n",
       " '[12, 4]',\n",
       " '[13, 0]',\n",
       " '[13, 1]',\n",
       " '[13, 2]',\n",
       " '[13, 3]',\n",
       " '[13, 4]',\n",
       " '[14, 0]',\n",
       " '[14, 1]',\n",
       " '[14, 2]',\n",
       " '[14, 3]',\n",
       " '[14, 4]',\n",
       " '[15, 0]',\n",
       " '[15, 1]',\n",
       " '[15, 2]',\n",
       " '[15, 3]',\n",
       " '[15, 4]',\n",
       " '[2, 0]',\n",
       " '[2, 1]',\n",
       " '[2, 2]',\n",
       " '[2, 3]',\n",
       " '[2, 4]',\n",
       " '[3, 0]',\n",
       " '[3, 1]',\n",
       " '[3, 2]',\n",
       " '[3, 3]',\n",
       " '[3, 4]',\n",
       " '[4, 0]',\n",
       " '[4, 1]',\n",
       " '[4, 2]',\n",
       " '[4, 3]',\n",
       " '[4, 4]',\n",
       " '[5, 0]',\n",
       " '[5, 1]',\n",
       " '[5, 2]',\n",
       " '[5, 3]',\n",
       " '[5, 4]',\n",
       " '[6, 0]',\n",
       " '[6, 1]',\n",
       " '[6, 2]',\n",
       " '[6, 3]',\n",
       " '[6, 4]',\n",
       " '[7, 0]',\n",
       " '[7, 1]',\n",
       " '[7, 2]',\n",
       " '[7, 3]',\n",
       " '[7, 4]',\n",
       " '[8, 0]',\n",
       " '[8, 1]',\n",
       " '[8, 2]',\n",
       " '[8, 3]',\n",
       " '[8, 4]',\n",
       " '[9, 0]',\n",
       " '[9, 1]',\n",
       " '[9, 2]',\n",
       " '[9, 3]',\n",
       " '[9, 4]'}"
      ]
     },
     "execution_count": 79,
     "metadata": {},
     "output_type": "execute_result"
    }
   ],
   "source": [
    "lis = [15,4]\n",
    "item_lis = gen_item_lis(lis)\n",
    "print('gen_item_lis:{}'.format(item_lis))\n",
    "gen_list(lis, item_lis)"
   ]
  },
  {
   "cell_type": "code",
   "execution_count": 55,
   "metadata": {},
   "outputs": [
    {
     "name": "stdout",
     "output_type": "stream",
     "text": [
      "[5, 4, 3]\n",
      "gen_item_lis:[[0, 1, 2, 3, 4, 5], [0, 1, 2, 3, 4], [0, 1, 2, 3]]\n"
     ]
    }
   ],
   "source": [
    "lis = [5,4,3]\n",
    "item_lis = gen_item_lis(lis)\n",
    "print('gen_item_lis:{}'.format(item_lis))\n"
   ]
  },
  {
   "cell_type": "code",
   "execution_count": 69,
   "metadata": {},
   "outputs": [],
   "source": [
    "def get_length(tree_lis):\n",
    "    \"\"\"计算总数\"\"\"\n",
    "    length = 1\n",
    "    for lis in tree_lis:\n",
    "            length *= len(lis)\n",
    "            print('total length:{}'.format(length))\n",
    "    return length\n",
    "\n",
    "def fill_dic(testlis):\n",
    "    \"\"\"生成待遍历的列表对应的指针字典，字典key表示哪一个列表，字典value 表示有多少个待遍历\n",
    "    参数为 gen_item_lis 函数的返回值，即原列表元素对应的小于等于列表中元素的序列\"\"\"\n",
    "    dic_index = {}\n",
    "    for i in range(len(testlis)):\n",
    "        dic_index['lis_{}'.format(i)] = len(testlis[i])  # 有多少个元素待遍历\n",
    "        print('dic_index:{}'.format(dic_index))\n",
    "    return dic_index\n",
    "\n"
   ]
  },
  {
   "cell_type": "code",
   "execution_count": null,
   "metadata": {},
   "outputs": [],
   "source": [
    "def traversal_tree(tree_lis):\n",
    "    # 通用方法，待完成\n",
    "    if not isinstance(tree_lis, list):\n",
    "        raise TypeError(\"params type error :{}\".format(tree_lis))\n",
    "        \n",
    "    length = get_length(tree_lis)\n",
    "\n",
    "   \n",
    "    trave_lis = [[]] * length\n",
    "    # o_lis = [[j_lis[i], x] for x in list(range(other_lis[-1]))] \n",
    "    fill_d = fill_dic(tree_lis)\n",
    "    sort_key = sorted(fill_d.keys())\n",
    "    print(fill_d) \n",
    "    print(sort_key)\n",
    "    sum_index = {}\n",
    "    \"\"\"\n",
    "    max_ending_here = max_so_far = 0\n",
    "    for x in sequence:\n",
    "        max_ending_here = max(0, max_ending_here + x)\n",
    "        print('max_ending_here:{}'.format(max_ending_here))\n",
    "        max_so_far = max(max_so_far, max_ending_here)\n",
    "    \"\"\"\n",
    "    old_lis = new_lis = []\n",
    "    n=0\n",
    "    for xs in  trave_lis:\n",
    "        for  fill in fill_d:\n",
    "            xs = [tree_lis[]]"
   ]
  },
  {
   "cell_type": "code",
   "execution_count": 64,
   "metadata": {},
   "outputs": [
    {
     "name": "stdout",
     "output_type": "stream",
     "text": [
      "total length:6\n",
      "total length:30\n",
      "total length:120\n"
     ]
    }
   ],
   "source": [
    "traversal_tree(item_lis)"
   ]
  },
  {
   "cell_type": "code",
   "execution_count": 77,
   "metadata": {},
   "outputs": [
    {
     "name": "stdout",
     "output_type": "stream",
     "text": [
      "dic_index:{'lis_0': 2}\n",
      "dic_index:{'lis_0': 2, 'lis_1': 3}\n",
      "{'lis_0': 2, 'lis_1': 3}\n",
      "['lis_0', 'lis_1']\n"
     ]
    }
   ],
   "source": [
    "import numpy as np\n",
    "testlis = [[1,2],[2,3,4]]\n",
    "fill_d = fill_dic(testlis)\n",
    "print(fill_d) \n",
    "sort_key = sorted(fill_d.keys())\n",
    "print(sort_key)"
   ]
  },
  {
   "cell_type": "code",
   "execution_count": 67,
   "metadata": {},
   "outputs": [
    {
     "name": "stdout",
     "output_type": "stream",
     "text": [
      "dic_index:{'lis_0': 2}\n",
      "dic_index:{'lis_0': 2, 'lis_1': 3}\n",
      "{'lis_0': 2, 'lis_1': 3}\n"
     ]
    }
   ],
   "source": []
  },
  {
   "cell_type": "code",
   "execution_count": null,
   "metadata": {},
   "outputs": [],
   "source": [
    "def fb(n):  # 第几个fbnc数\n",
    "\t    if n <= 2:\n",
    "\t\t    return 1\n",
    "\t    else:\n",
    "\t\t    return fb(n-1) + fb(n-2)"
   ]
  },
  {
   "cell_type": "code",
   "execution_count": 106,
   "metadata": {},
   "outputs": [],
   "source": [
    "\n",
    "class format_data(object):\n",
    "    \"\"\"每个自变量类的参数 对应其他 自变量类的参数， 是一个6 * 6 的矩阵，可完整描述其对应关系\n",
    "  \n",
    "    类初始化时 根据传入列表的长度和列表最大值，对矩阵初始化为其个列表元素的子序列\n",
    "\n",
    "    \"\"\"\n",
    "    def __init__(self, array):\n",
    "        \"\"\"init matrix and  position pointer paramter\"\"\"\n",
    "        if not isinstance(array, list):\n",
    "            raise ValueError('inital array can not be None, :{}'.format(array))\n",
    "        else:\n",
    "            for a in array:\n",
    "                if not isinstance(a, int):\n",
    "                    raise ValueError('array {} item type need be int, not:{}'.format(array, a))\n",
    "        # self.relation_congruent = np.array([np.zeros(8)] * 6)     # 6 x 8 数组\n",
    "        self.tree_relation = []\n",
    "        self.array = array\n",
    "        self.mat_shape = None\n",
    "        self.position = [1, 1]\n",
    "        pass\n",
    "\n",
    "    @property\n",
    "    def ret_mat_shape(self):\n",
    "        # 根据数组列表产生矩阵形状，列表长度作为矩阵的行数，列表中最大元素作为矩阵的列数\n",
    "        self.mat_shape = [len(self.array), max(self.array)+1]    # 因为需要包括 0 和 序列整数自己，所以需要+1\n",
    "        return self.mat_shape\n",
    "\n",
    "    @property\n",
    "    def init_tree_relation(self):\n",
    "        # 根据数组列表 和 矩阵的形状，在每行生生成列表对应的子序列\n",
    "        mat_shape = self.ret_mat_shape\n",
    "        if not self.tree_relation: \n",
    "            for v in self.array:\n",
    "                mat_v = [x for x in range(v+1)]\n",
    "                if len(mat_v) < mat_shape[1]:\n",
    "                    mat_v.extend([0] * (mat_shape[1] - len(mat_v)))\n",
    "                self.tree_relation.append(mat_v)\n",
    "            return self.tree_relation\n",
    "        else:\n",
    "            return self.tree_relation\n",
    "    \n",
    "    @property\n",
    "    def init_matrix(self):\n",
    "        \"\"\"返回矩阵格式序列\"\"\"\n",
    "        return np.matrix(self.init_tree_relation)\n",
    "\n",
    "    @property\n",
    "    def ret_mat_position(self):\n",
    "        return self.position\n",
    "\n",
    "    # @\n",
    "    def ret_mat_position_value(self, position):\n",
    "        \"\"\"返回位置上的值\"\"\"\n",
    "        return float(\"{:.2f}\".format(self.tree_relation[position[0], position[1]]))\n",
    "\n",
    "    @ret_mat_position.setter\n",
    "    def ret_mat_position(self, position):\n",
    "        \"\"\":param position 矩阵元素位置描述列表如[3, 3]\n",
    "        \"\"\"\n",
    "        if not isinstance(position, list):\n",
    "            raise TypeError('matrix position format like [3,3], not be:{}'.format(position))\n",
    "        self.position = position\n",
    "\n",
    "    @init_tree_relation.setter\n",
    "    def init_tree_relation(self, value):\n",
    "        \"\"\"\n",
    "        :param value 要设置的值, 需要浮点类型\n",
    "        \"\"\"\n",
    "        if not isinstance(value, float):\n",
    "            raise ValueError('matrix value format like 1.0, not be:{}'.format(value))\n",
    "\n",
    "        self.tree_relation[self.position[0], self.position[1]] = value\n",
    "        if int(self.position[1]) in [0, 1]:\n",
    "            # update avg response time\n",
    "            self.tree_relation[self.position[0], 2] = float(\"{:.2f}\".format(self.ret_mat_position_value([self.position[0], 1]) / self.ret_mat_position_value([self.position[0], 0])))\n",
    "        if int(self.position[1]) in [3, 4]:\n",
    "            # update error ratio\n",
    "            self.tree_relation[self.position[0], 5] = float(\"{:.2f}\".format(\n",
    "                self.ret_mat_position_value([self.position[0], 4]) / (self.ret_mat_position_value([self.position[0], 4]) + self.ret_mat_position_value([self.position[0], 3]) ) ))\n"
   ]
  },
  {
   "cell_type": "code",
   "execution_count": 107,
   "metadata": {},
   "outputs": [
    {
     "name": "stdout",
     "output_type": "stream",
     "text": [
      "[2, 6]\n"
     ]
    }
   ],
   "source": [
    "mat1= format_data(array=[5,4])\n",
    "print(mat1.ret_mat_shape)"
   ]
  },
  {
   "cell_type": "code",
   "execution_count": 108,
   "metadata": {},
   "outputs": [
    {
     "name": "stdout",
     "output_type": "stream",
     "text": [
      "[[0, 1, 2, 3, 4, 5], [0, 1, 2, 3, 4, 0]]\n"
     ]
    }
   ],
   "source": [
    "print(mat1.init_tree_relation)"
   ]
  },
  {
   "cell_type": "code",
   "execution_count": 109,
   "metadata": {},
   "outputs": [
    {
     "name": "stdout",
     "output_type": "stream",
     "text": [
      "3 <class 'list'> [[0, 1, 2, 3, 4, 5, 0], [0, 1, 2, 3, 4, 0, 0], [0, 1, 2, 3, 4, 5, 6]]\n",
      "\n",
      "[array([0, 1, 2, 3, 4, 5, 0]), array([0, 1, 2, 3, 4, 0, 0]), array([0, 1, 2, 3, 4, 5, 6])]\n",
      "[0, 1, 2, 3, 4, 5, 0]\n",
      "[0, 1, 2, 3, 4, 0, 0]\n",
      "[0, 1, 2, 3, 4, 5, 6]\n"
     ]
    }
   ],
   "source": [
    "mat2 = format_data(array=[5,4,6])\n",
    "mat_tree = mat2.init_tree_relation\n",
    "print(len(mat_tree), type(mat_tree), mat_tree)\n",
    "print()\n",
    "print(list(np.array(mat_tree)))\n",
    "for mat in np.array(mat_tree):\n",
    "    print(list(mat))\n",
    "del mat2"
   ]
  },
  {
   "cell_type": "code",
   "execution_count": 30,
   "metadata": {},
   "outputs": [],
   "source": []
  },
  {
   "cell_type": "code",
   "execution_count": 164,
   "metadata": {},
   "outputs": [],
   "source": [
    "import copy\n",
    "from datetime import datetime\n",
    "import numpy as np\n",
    "\n"
   ]
  },
  {
   "cell_type": "code",
   "execution_count": 165,
   "metadata": {},
   "outputs": [],
   "source": [
    "class deal_array(object):\n",
    "\n",
    "    @staticmethod\n",
    "    def gen_list(lis, item_lis):\n",
    "        \"\"\"给定任意两个整数的序列，生成所有小于等于这两个整数的非负序列的组合，不考虑顺序，比如\n",
    "        [2,1], [2,1] 的无序子序列集合为: [[2,2],[2,1],[1,1]]  或 [[2,2], [1,2], [1,1]]\n",
    "        或者型如\n",
    "        [[0,1], [1,1]], [0,1] 的子序列为:\n",
    "        [[0,0,1], [0,1,1],  [1,1,1]]\n",
    "        或\n",
    "         [[0,0,1],  [1,0,1], [1,1,1]]\n",
    "        或\n",
    "         [[0,0,1], [1,1,0], [1,1,1]]\n",
    "        步骤: 1,生成有序序列，2,处理有序序列，把元素相同的剔除\n",
    "        :params lis, 如果有嵌套列表处理，请放到第一个列表\n",
    "        :params itemlis,  只能是嵌套列表\n",
    "        \"\"\"\n",
    "        # 处理序列，传入的序列必然是经过生序排序的\n",
    "        # 如果是矩阵的行，那么可能有 填充0，这里简单处理如下\n",
    "        #  兼容处理矩阵的填充 0\n",
    "        if isinstance(lis[0], int):\n",
    "            lis = lis[:max(lis) + 1]  # 保留序列中前段非0序列\n",
    "        item_lis = item_lis[:max(item_lis) + 1]\n",
    "\n",
    "        rst_list = []\n",
    "\n",
    "        for i in list(lis):  # i 是列表1数据元素\n",
    "            if isinstance(i, list):\n",
    "                o_lis = [[x] + i for x in item_lis]  # 如果是嵌套列表，添加新的子列表到嵌套列表, 解决树的递归时，列表长度变化的问题\n",
    "            else:\n",
    "                o_lis = [[i, x] for x in item_lis]  # 列表推导式, 每一个元素都与另一个列表的所有元素组成一个新的子列表序列\n",
    "\n",
    "            rst_list.extend(o_lis)\n",
    "        #             print('o_lis:{}'.format(o_lis))\n",
    "        #             print('now rst_list:{}'.format(rst_list))\n",
    "\n",
    "        return rst_list  # 返回有序列表\n",
    "\n",
    "    @staticmethod\n",
    "    def del_repead(lis):\n",
    "        \"\"\"列表去重\"\"\"\n",
    "        new_lis = []\n",
    "        for li in lis:\n",
    "            if not li in new_lis:\n",
    "                new_lis.append(li)\n",
    "            else:\n",
    "                continue\n",
    "        return new_lis\n",
    "\n",
    "    @staticmethod\n",
    "    def del_sorted_repead(lis):\n",
    "        \"\"\"嵌套列表元素 (不能多重嵌套) 转为 集合，并加入非重复的到新列表\"\"\"\n",
    "        new_lis = []\n",
    "        for ne in lis:\n",
    "            ne_set = sorted(ne)  # 排序以判断是否重复\n",
    "            if not ne_set in new_lis:\n",
    "                new_lis.append(ne_set)\n",
    "        print('after change, new_lis:{}'.format(new_lis))\n",
    "\n",
    "        return new_lis\n",
    "\n",
    "    @staticmethod\n",
    "    def fb_call(mat_tree):\n",
    "        \"\"\"将列表 两两传入函数处理\"\"\"\n",
    "        if not isinstance(mat_tree, list):\n",
    "            raise ValueError('mat_tree :{} type error:{}'.format(mat_tree, type(mat_tree)))\n",
    "        n = 0\n",
    "        #         print('recive mat_tree:{}'.format(mat_tree))\n",
    "        first_lis = mat_tree[0]\n",
    "        #         print('first_lis:{}'.format(first_lis))\n",
    "        while n < len(mat_tree) - 1:\n",
    "            senc_lis = mat_tree[n + 1]\n",
    "\n",
    "            ret_lis = deal_array.gen_list(first_lis, senc_lis)\n",
    "            first_lis = ret_lis\n",
    "            n += 1\n",
    "        print('生成的有序子列表个数:{}, 子列表为:{}'.format(len(ret_lis), ret_lis))\n",
    "        del_two_level_lis = deal_array.del_sorted_repead(ret_lis)\n",
    "        print('元素非重复的列表个数:{}, 子列表为:\\n {}'.format(len(del_two_level_lis), del_two_level_lis))\n",
    "        return first_lis, del_two_level_lis\n",
    "\n",
    "    @staticmethod\n",
    "    def deal_list(lists):\n",
    "        \"\"\"处理生成的嵌套列表，一般是矩阵\"\"\"\n",
    "        mat2 = format_data(array=lists)\n",
    "\n",
    "        mat_tree = mat2.init_tree_relation  # 生成嵌套列表\n",
    "        #         print('mat_tree:{}'.format(mat_tree))\n",
    "        ret_lis = deal_array.fb_call(mat_tree)\n",
    "        #         print('ret_lis:{}'.format(ret_lis))\n",
    "        del mat2\n",
    "        return ret_lis\n",
    "\n"
   ]
  },
  {
   "cell_type": "code",
   "execution_count": 166,
   "metadata": {
    "scrolled": true
   },
   "outputs": [
    {
     "name": "stdout",
     "output_type": "stream",
     "text": [
      "生成的有序子列表个数:120, 子列表为:[[0, 0, 0], [1, 0, 0], [2, 0, 0], [3, 0, 0], [0, 0, 1], [1, 0, 1], [2, 0, 1], [3, 0, 1], [0, 0, 2], [1, 0, 2], [2, 0, 2], [3, 0, 2], [0, 0, 3], [1, 0, 3], [2, 0, 3], [3, 0, 3], [0, 0, 4], [1, 0, 4], [2, 0, 4], [3, 0, 4], [0, 1, 0], [1, 1, 0], [2, 1, 0], [3, 1, 0], [0, 1, 1], [1, 1, 1], [2, 1, 1], [3, 1, 1], [0, 1, 2], [1, 1, 2], [2, 1, 2], [3, 1, 2], [0, 1, 3], [1, 1, 3], [2, 1, 3], [3, 1, 3], [0, 1, 4], [1, 1, 4], [2, 1, 4], [3, 1, 4], [0, 2, 0], [1, 2, 0], [2, 2, 0], [3, 2, 0], [0, 2, 1], [1, 2, 1], [2, 2, 1], [3, 2, 1], [0, 2, 2], [1, 2, 2], [2, 2, 2], [3, 2, 2], [0, 2, 3], [1, 2, 3], [2, 2, 3], [3, 2, 3], [0, 2, 4], [1, 2, 4], [2, 2, 4], [3, 2, 4], [0, 3, 0], [1, 3, 0], [2, 3, 0], [3, 3, 0], [0, 3, 1], [1, 3, 1], [2, 3, 1], [3, 3, 1], [0, 3, 2], [1, 3, 2], [2, 3, 2], [3, 3, 2], [0, 3, 3], [1, 3, 3], [2, 3, 3], [3, 3, 3], [0, 3, 4], [1, 3, 4], [2, 3, 4], [3, 3, 4], [0, 4, 0], [1, 4, 0], [2, 4, 0], [3, 4, 0], [0, 4, 1], [1, 4, 1], [2, 4, 1], [3, 4, 1], [0, 4, 2], [1, 4, 2], [2, 4, 2], [3, 4, 2], [0, 4, 3], [1, 4, 3], [2, 4, 3], [3, 4, 3], [0, 4, 4], [1, 4, 4], [2, 4, 4], [3, 4, 4], [0, 5, 0], [1, 5, 0], [2, 5, 0], [3, 5, 0], [0, 5, 1], [1, 5, 1], [2, 5, 1], [3, 5, 1], [0, 5, 2], [1, 5, 2], [2, 5, 2], [3, 5, 2], [0, 5, 3], [1, 5, 3], [2, 5, 3], [3, 5, 3], [0, 5, 4], [1, 5, 4], [2, 5, 4], [3, 5, 4]]\n",
      "after change, new_lis:[[0, 0, 0], [0, 0, 1], [0, 0, 2], [0, 0, 3], [0, 1, 1], [0, 1, 2], [0, 1, 3], [0, 2, 2], [0, 2, 3], [0, 3, 3], [0, 0, 4], [0, 1, 4], [0, 2, 4], [0, 3, 4], [1, 1, 1], [1, 1, 2], [1, 1, 3], [1, 2, 2], [1, 2, 3], [1, 3, 3], [1, 1, 4], [1, 2, 4], [1, 3, 4], [2, 2, 2], [2, 2, 3], [2, 3, 3], [2, 2, 4], [2, 3, 4], [3, 3, 3], [3, 3, 4], [0, 4, 4], [1, 4, 4], [2, 4, 4], [3, 4, 4], [0, 0, 5], [0, 1, 5], [0, 2, 5], [0, 3, 5], [1, 1, 5], [1, 2, 5], [1, 3, 5], [2, 2, 5], [2, 3, 5], [3, 3, 5], [0, 4, 5], [1, 4, 5], [2, 4, 5], [3, 4, 5]]\n",
      "元素非重复的列表个数:48, 子列表为:\n",
      " [[0, 0, 0], [0, 0, 1], [0, 0, 2], [0, 0, 3], [0, 1, 1], [0, 1, 2], [0, 1, 3], [0, 2, 2], [0, 2, 3], [0, 3, 3], [0, 0, 4], [0, 1, 4], [0, 2, 4], [0, 3, 4], [1, 1, 1], [1, 1, 2], [1, 1, 3], [1, 2, 2], [1, 2, 3], [1, 3, 3], [1, 1, 4], [1, 2, 4], [1, 3, 4], [2, 2, 2], [2, 2, 3], [2, 3, 3], [2, 2, 4], [2, 3, 4], [3, 3, 3], [3, 3, 4], [0, 4, 4], [1, 4, 4], [2, 4, 4], [3, 4, 4], [0, 0, 5], [0, 1, 5], [0, 2, 5], [0, 3, 5], [1, 1, 5], [1, 2, 5], [1, 3, 5], [2, 2, 5], [2, 3, 5], [3, 3, 5], [0, 4, 5], [1, 4, 5], [2, 4, 5], [3, 4, 5]]\n",
      "type: <class 'tuple'>, ret_lis:2 \n",
      " ([[0, 0, 0], [1, 0, 0], [2, 0, 0], [3, 0, 0], [0, 0, 1], [1, 0, 1], [2, 0, 1], [3, 0, 1], [0, 0, 2], [1, 0, 2], [2, 0, 2], [3, 0, 2], [0, 0, 3], [1, 0, 3], [2, 0, 3], [3, 0, 3], [0, 0, 4], [1, 0, 4], [2, 0, 4], [3, 0, 4], [0, 1, 0], [1, 1, 0], [2, 1, 0], [3, 1, 0], [0, 1, 1], [1, 1, 1], [2, 1, 1], [3, 1, 1], [0, 1, 2], [1, 1, 2], [2, 1, 2], [3, 1, 2], [0, 1, 3], [1, 1, 3], [2, 1, 3], [3, 1, 3], [0, 1, 4], [1, 1, 4], [2, 1, 4], [3, 1, 4], [0, 2, 0], [1, 2, 0], [2, 2, 0], [3, 2, 0], [0, 2, 1], [1, 2, 1], [2, 2, 1], [3, 2, 1], [0, 2, 2], [1, 2, 2], [2, 2, 2], [3, 2, 2], [0, 2, 3], [1, 2, 3], [2, 2, 3], [3, 2, 3], [0, 2, 4], [1, 2, 4], [2, 2, 4], [3, 2, 4], [0, 3, 0], [1, 3, 0], [2, 3, 0], [3, 3, 0], [0, 3, 1], [1, 3, 1], [2, 3, 1], [3, 3, 1], [0, 3, 2], [1, 3, 2], [2, 3, 2], [3, 3, 2], [0, 3, 3], [1, 3, 3], [2, 3, 3], [3, 3, 3], [0, 3, 4], [1, 3, 4], [2, 3, 4], [3, 3, 4], [0, 4, 0], [1, 4, 0], [2, 4, 0], [3, 4, 0], [0, 4, 1], [1, 4, 1], [2, 4, 1], [3, 4, 1], [0, 4, 2], [1, 4, 2], [2, 4, 2], [3, 4, 2], [0, 4, 3], [1, 4, 3], [2, 4, 3], [3, 4, 3], [0, 4, 4], [1, 4, 4], [2, 4, 4], [3, 4, 4], [0, 5, 0], [1, 5, 0], [2, 5, 0], [3, 5, 0], [0, 5, 1], [1, 5, 1], [2, 5, 1], [3, 5, 1], [0, 5, 2], [1, 5, 2], [2, 5, 2], [3, 5, 2], [0, 5, 3], [1, 5, 3], [2, 5, 3], [3, 5, 3], [0, 5, 4], [1, 5, 4], [2, 5, 4], [3, 5, 4]], [[0, 0, 0], [0, 0, 1], [0, 0, 2], [0, 0, 3], [0, 1, 1], [0, 1, 2], [0, 1, 3], [0, 2, 2], [0, 2, 3], [0, 3, 3], [0, 0, 4], [0, 1, 4], [0, 2, 4], [0, 3, 4], [1, 1, 1], [1, 1, 2], [1, 1, 3], [1, 2, 2], [1, 2, 3], [1, 3, 3], [1, 1, 4], [1, 2, 4], [1, 3, 4], [2, 2, 2], [2, 2, 3], [2, 3, 3], [2, 2, 4], [2, 3, 4], [3, 3, 3], [3, 3, 4], [0, 4, 4], [1, 4, 4], [2, 4, 4], [3, 4, 4], [0, 0, 5], [0, 1, 5], [0, 2, 5], [0, 3, 5], [1, 1, 5], [1, 2, 5], [1, 3, 5], [2, 2, 5], [2, 3, 5], [3, 3, 5], [0, 4, 5], [1, 4, 5], [2, 4, 5], [3, 4, 5]])\n"
     ]
    }
   ],
   "source": [
    "ret_lis = deal_array.deal_list([5,4, 3])\n",
    "print('type: {}, ret_lis:{} \\n {}'.format(type(ret_lis), len(ret_lis), ret_lis))"
   ]
  },
  {
   "cell_type": "code",
   "execution_count": null,
   "metadata": {},
   "outputs": [],
   "source": [
    "\n",
    "three_list = [[0,1,2,3], [0,1,2,3,4],[0,1,2,3,4,5,6]]\n",
    "demo_lis = deal_array.gen_list(three_list[0], three_list[1])\n",
    "print(len(demo_lis), demo_lis)\n",
    "print('rst_len:{}'.format(len(demo_lis)))\n",
    "rst_list = deal_array.del_repead(demo_lis)  # 避免\n",
    "print('after del repead rst_len:{}'.format(len(rst_list), rst_list))\n",
    "del_lis = del_sorted_repead(demo_lis)\n",
    "print('非重复的列表元素个数:{}, 列表:\\n {}'.format(len(del_lis), del_lis))"
   ]
  },
  {
   "cell_type": "code",
   "execution_count": 155,
   "metadata": {},
   "outputs": [
    {
     "name": "stdout",
     "output_type": "stream",
     "text": [
      "o_lis:[[0, 0, 0], [1, 0, 0], [2, 0, 0], [3, 0, 0], [4, 0, 0], [5, 0, 0], [6, 0, 0]]\n",
      "now rst_list:[[0, 0, 0], [1, 0, 0], [2, 0, 0], [3, 0, 0], [4, 0, 0], [5, 0, 0], [6, 0, 0]]\n",
      "o_lis:[[0, 0, 1], [1, 0, 1], [2, 0, 1], [3, 0, 1], [4, 0, 1], [5, 0, 1], [6, 0, 1]]\n",
      "now rst_list:[[0, 0, 0], [1, 0, 0], [2, 0, 0], [3, 0, 0], [4, 0, 0], [5, 0, 0], [6, 0, 0], [0, 0, 1], [1, 0, 1], [2, 0, 1], [3, 0, 1], [4, 0, 1], [5, 0, 1], [6, 0, 1]]\n",
      "o_lis:[[0, 0, 2], [1, 0, 2], [2, 0, 2], [3, 0, 2], [4, 0, 2], [5, 0, 2], [6, 0, 2]]\n",
      "now rst_list:[[0, 0, 0], [1, 0, 0], [2, 0, 0], [3, 0, 0], [4, 0, 0], [5, 0, 0], [6, 0, 0], [0, 0, 1], [1, 0, 1], [2, 0, 1], [3, 0, 1], [4, 0, 1], [5, 0, 1], [6, 0, 1], [0, 0, 2], [1, 0, 2], [2, 0, 2], [3, 0, 2], [4, 0, 2], [5, 0, 2], [6, 0, 2]]\n",
      "o_lis:[[0, 0, 3], [1, 0, 3], [2, 0, 3], [3, 0, 3], [4, 0, 3], [5, 0, 3], [6, 0, 3]]\n",
      "now rst_list:[[0, 0, 0], [1, 0, 0], [2, 0, 0], [3, 0, 0], [4, 0, 0], [5, 0, 0], [6, 0, 0], [0, 0, 1], [1, 0, 1], [2, 0, 1], [3, 0, 1], [4, 0, 1], [5, 0, 1], [6, 0, 1], [0, 0, 2], [1, 0, 2], [2, 0, 2], [3, 0, 2], [4, 0, 2], [5, 0, 2], [6, 0, 2], [0, 0, 3], [1, 0, 3], [2, 0, 3], [3, 0, 3], [4, 0, 3], [5, 0, 3], [6, 0, 3]]\n",
      "o_lis:[[0, 0, 4], [1, 0, 4], [2, 0, 4], [3, 0, 4], [4, 0, 4], [5, 0, 4], [6, 0, 4]]\n",
      "now rst_list:[[0, 0, 0], [1, 0, 0], [2, 0, 0], [3, 0, 0], [4, 0, 0], [5, 0, 0], [6, 0, 0], [0, 0, 1], [1, 0, 1], [2, 0, 1], [3, 0, 1], [4, 0, 1], [5, 0, 1], [6, 0, 1], [0, 0, 2], [1, 0, 2], [2, 0, 2], [3, 0, 2], [4, 0, 2], [5, 0, 2], [6, 0, 2], [0, 0, 3], [1, 0, 3], [2, 0, 3], [3, 0, 3], [4, 0, 3], [5, 0, 3], [6, 0, 3], [0, 0, 4], [1, 0, 4], [2, 0, 4], [3, 0, 4], [4, 0, 4], [5, 0, 4], [6, 0, 4]]\n",
      "o_lis:[[0, 1, 1], [1, 1, 1], [2, 1, 1], [3, 1, 1], [4, 1, 1], [5, 1, 1], [6, 1, 1]]\n",
      "now rst_list:[[0, 0, 0], [1, 0, 0], [2, 0, 0], [3, 0, 0], [4, 0, 0], [5, 0, 0], [6, 0, 0], [0, 0, 1], [1, 0, 1], [2, 0, 1], [3, 0, 1], [4, 0, 1], [5, 0, 1], [6, 0, 1], [0, 0, 2], [1, 0, 2], [2, 0, 2], [3, 0, 2], [4, 0, 2], [5, 0, 2], [6, 0, 2], [0, 0, 3], [1, 0, 3], [2, 0, 3], [3, 0, 3], [4, 0, 3], [5, 0, 3], [6, 0, 3], [0, 0, 4], [1, 0, 4], [2, 0, 4], [3, 0, 4], [4, 0, 4], [5, 0, 4], [6, 0, 4], [0, 1, 1], [1, 1, 1], [2, 1, 1], [3, 1, 1], [4, 1, 1], [5, 1, 1], [6, 1, 1]]\n",
      "o_lis:[[0, 1, 2], [1, 1, 2], [2, 1, 2], [3, 1, 2], [4, 1, 2], [5, 1, 2], [6, 1, 2]]\n",
      "now rst_list:[[0, 0, 0], [1, 0, 0], [2, 0, 0], [3, 0, 0], [4, 0, 0], [5, 0, 0], [6, 0, 0], [0, 0, 1], [1, 0, 1], [2, 0, 1], [3, 0, 1], [4, 0, 1], [5, 0, 1], [6, 0, 1], [0, 0, 2], [1, 0, 2], [2, 0, 2], [3, 0, 2], [4, 0, 2], [5, 0, 2], [6, 0, 2], [0, 0, 3], [1, 0, 3], [2, 0, 3], [3, 0, 3], [4, 0, 3], [5, 0, 3], [6, 0, 3], [0, 0, 4], [1, 0, 4], [2, 0, 4], [3, 0, 4], [4, 0, 4], [5, 0, 4], [6, 0, 4], [0, 1, 1], [1, 1, 1], [2, 1, 1], [3, 1, 1], [4, 1, 1], [5, 1, 1], [6, 1, 1], [0, 1, 2], [1, 1, 2], [2, 1, 2], [3, 1, 2], [4, 1, 2], [5, 1, 2], [6, 1, 2]]\n",
      "o_lis:[[0, 1, 3], [1, 1, 3], [2, 1, 3], [3, 1, 3], [4, 1, 3], [5, 1, 3], [6, 1, 3]]\n",
      "now rst_list:[[0, 0, 0], [1, 0, 0], [2, 0, 0], [3, 0, 0], [4, 0, 0], [5, 0, 0], [6, 0, 0], [0, 0, 1], [1, 0, 1], [2, 0, 1], [3, 0, 1], [4, 0, 1], [5, 0, 1], [6, 0, 1], [0, 0, 2], [1, 0, 2], [2, 0, 2], [3, 0, 2], [4, 0, 2], [5, 0, 2], [6, 0, 2], [0, 0, 3], [1, 0, 3], [2, 0, 3], [3, 0, 3], [4, 0, 3], [5, 0, 3], [6, 0, 3], [0, 0, 4], [1, 0, 4], [2, 0, 4], [3, 0, 4], [4, 0, 4], [5, 0, 4], [6, 0, 4], [0, 1, 1], [1, 1, 1], [2, 1, 1], [3, 1, 1], [4, 1, 1], [5, 1, 1], [6, 1, 1], [0, 1, 2], [1, 1, 2], [2, 1, 2], [3, 1, 2], [4, 1, 2], [5, 1, 2], [6, 1, 2], [0, 1, 3], [1, 1, 3], [2, 1, 3], [3, 1, 3], [4, 1, 3], [5, 1, 3], [6, 1, 3]]\n",
      "o_lis:[[0, 1, 4], [1, 1, 4], [2, 1, 4], [3, 1, 4], [4, 1, 4], [5, 1, 4], [6, 1, 4]]\n",
      "now rst_list:[[0, 0, 0], [1, 0, 0], [2, 0, 0], [3, 0, 0], [4, 0, 0], [5, 0, 0], [6, 0, 0], [0, 0, 1], [1, 0, 1], [2, 0, 1], [3, 0, 1], [4, 0, 1], [5, 0, 1], [6, 0, 1], [0, 0, 2], [1, 0, 2], [2, 0, 2], [3, 0, 2], [4, 0, 2], [5, 0, 2], [6, 0, 2], [0, 0, 3], [1, 0, 3], [2, 0, 3], [3, 0, 3], [4, 0, 3], [5, 0, 3], [6, 0, 3], [0, 0, 4], [1, 0, 4], [2, 0, 4], [3, 0, 4], [4, 0, 4], [5, 0, 4], [6, 0, 4], [0, 1, 1], [1, 1, 1], [2, 1, 1], [3, 1, 1], [4, 1, 1], [5, 1, 1], [6, 1, 1], [0, 1, 2], [1, 1, 2], [2, 1, 2], [3, 1, 2], [4, 1, 2], [5, 1, 2], [6, 1, 2], [0, 1, 3], [1, 1, 3], [2, 1, 3], [3, 1, 3], [4, 1, 3], [5, 1, 3], [6, 1, 3], [0, 1, 4], [1, 1, 4], [2, 1, 4], [3, 1, 4], [4, 1, 4], [5, 1, 4], [6, 1, 4]]\n",
      "o_lis:[[0, 2, 2], [1, 2, 2], [2, 2, 2], [3, 2, 2], [4, 2, 2], [5, 2, 2], [6, 2, 2]]\n",
      "now rst_list:[[0, 0, 0], [1, 0, 0], [2, 0, 0], [3, 0, 0], [4, 0, 0], [5, 0, 0], [6, 0, 0], [0, 0, 1], [1, 0, 1], [2, 0, 1], [3, 0, 1], [4, 0, 1], [5, 0, 1], [6, 0, 1], [0, 0, 2], [1, 0, 2], [2, 0, 2], [3, 0, 2], [4, 0, 2], [5, 0, 2], [6, 0, 2], [0, 0, 3], [1, 0, 3], [2, 0, 3], [3, 0, 3], [4, 0, 3], [5, 0, 3], [6, 0, 3], [0, 0, 4], [1, 0, 4], [2, 0, 4], [3, 0, 4], [4, 0, 4], [5, 0, 4], [6, 0, 4], [0, 1, 1], [1, 1, 1], [2, 1, 1], [3, 1, 1], [4, 1, 1], [5, 1, 1], [6, 1, 1], [0, 1, 2], [1, 1, 2], [2, 1, 2], [3, 1, 2], [4, 1, 2], [5, 1, 2], [6, 1, 2], [0, 1, 3], [1, 1, 3], [2, 1, 3], [3, 1, 3], [4, 1, 3], [5, 1, 3], [6, 1, 3], [0, 1, 4], [1, 1, 4], [2, 1, 4], [3, 1, 4], [4, 1, 4], [5, 1, 4], [6, 1, 4], [0, 2, 2], [1, 2, 2], [2, 2, 2], [3, 2, 2], [4, 2, 2], [5, 2, 2], [6, 2, 2]]\n",
      "o_lis:[[0, 2, 3], [1, 2, 3], [2, 2, 3], [3, 2, 3], [4, 2, 3], [5, 2, 3], [6, 2, 3]]\n",
      "now rst_list:[[0, 0, 0], [1, 0, 0], [2, 0, 0], [3, 0, 0], [4, 0, 0], [5, 0, 0], [6, 0, 0], [0, 0, 1], [1, 0, 1], [2, 0, 1], [3, 0, 1], [4, 0, 1], [5, 0, 1], [6, 0, 1], [0, 0, 2], [1, 0, 2], [2, 0, 2], [3, 0, 2], [4, 0, 2], [5, 0, 2], [6, 0, 2], [0, 0, 3], [1, 0, 3], [2, 0, 3], [3, 0, 3], [4, 0, 3], [5, 0, 3], [6, 0, 3], [0, 0, 4], [1, 0, 4], [2, 0, 4], [3, 0, 4], [4, 0, 4], [5, 0, 4], [6, 0, 4], [0, 1, 1], [1, 1, 1], [2, 1, 1], [3, 1, 1], [4, 1, 1], [5, 1, 1], [6, 1, 1], [0, 1, 2], [1, 1, 2], [2, 1, 2], [3, 1, 2], [4, 1, 2], [5, 1, 2], [6, 1, 2], [0, 1, 3], [1, 1, 3], [2, 1, 3], [3, 1, 3], [4, 1, 3], [5, 1, 3], [6, 1, 3], [0, 1, 4], [1, 1, 4], [2, 1, 4], [3, 1, 4], [4, 1, 4], [5, 1, 4], [6, 1, 4], [0, 2, 2], [1, 2, 2], [2, 2, 2], [3, 2, 2], [4, 2, 2], [5, 2, 2], [6, 2, 2], [0, 2, 3], [1, 2, 3], [2, 2, 3], [3, 2, 3], [4, 2, 3], [5, 2, 3], [6, 2, 3]]\n",
      "o_lis:[[0, 2, 4], [1, 2, 4], [2, 2, 4], [3, 2, 4], [4, 2, 4], [5, 2, 4], [6, 2, 4]]\n",
      "now rst_list:[[0, 0, 0], [1, 0, 0], [2, 0, 0], [3, 0, 0], [4, 0, 0], [5, 0, 0], [6, 0, 0], [0, 0, 1], [1, 0, 1], [2, 0, 1], [3, 0, 1], [4, 0, 1], [5, 0, 1], [6, 0, 1], [0, 0, 2], [1, 0, 2], [2, 0, 2], [3, 0, 2], [4, 0, 2], [5, 0, 2], [6, 0, 2], [0, 0, 3], [1, 0, 3], [2, 0, 3], [3, 0, 3], [4, 0, 3], [5, 0, 3], [6, 0, 3], [0, 0, 4], [1, 0, 4], [2, 0, 4], [3, 0, 4], [4, 0, 4], [5, 0, 4], [6, 0, 4], [0, 1, 1], [1, 1, 1], [2, 1, 1], [3, 1, 1], [4, 1, 1], [5, 1, 1], [6, 1, 1], [0, 1, 2], [1, 1, 2], [2, 1, 2], [3, 1, 2], [4, 1, 2], [5, 1, 2], [6, 1, 2], [0, 1, 3], [1, 1, 3], [2, 1, 3], [3, 1, 3], [4, 1, 3], [5, 1, 3], [6, 1, 3], [0, 1, 4], [1, 1, 4], [2, 1, 4], [3, 1, 4], [4, 1, 4], [5, 1, 4], [6, 1, 4], [0, 2, 2], [1, 2, 2], [2, 2, 2], [3, 2, 2], [4, 2, 2], [5, 2, 2], [6, 2, 2], [0, 2, 3], [1, 2, 3], [2, 2, 3], [3, 2, 3], [4, 2, 3], [5, 2, 3], [6, 2, 3], [0, 2, 4], [1, 2, 4], [2, 2, 4], [3, 2, 4], [4, 2, 4], [5, 2, 4], [6, 2, 4]]\n",
      "o_lis:[[0, 3, 3], [1, 3, 3], [2, 3, 3], [3, 3, 3], [4, 3, 3], [5, 3, 3], [6, 3, 3]]\n",
      "now rst_list:[[0, 0, 0], [1, 0, 0], [2, 0, 0], [3, 0, 0], [4, 0, 0], [5, 0, 0], [6, 0, 0], [0, 0, 1], [1, 0, 1], [2, 0, 1], [3, 0, 1], [4, 0, 1], [5, 0, 1], [6, 0, 1], [0, 0, 2], [1, 0, 2], [2, 0, 2], [3, 0, 2], [4, 0, 2], [5, 0, 2], [6, 0, 2], [0, 0, 3], [1, 0, 3], [2, 0, 3], [3, 0, 3], [4, 0, 3], [5, 0, 3], [6, 0, 3], [0, 0, 4], [1, 0, 4], [2, 0, 4], [3, 0, 4], [4, 0, 4], [5, 0, 4], [6, 0, 4], [0, 1, 1], [1, 1, 1], [2, 1, 1], [3, 1, 1], [4, 1, 1], [5, 1, 1], [6, 1, 1], [0, 1, 2], [1, 1, 2], [2, 1, 2], [3, 1, 2], [4, 1, 2], [5, 1, 2], [6, 1, 2], [0, 1, 3], [1, 1, 3], [2, 1, 3], [3, 1, 3], [4, 1, 3], [5, 1, 3], [6, 1, 3], [0, 1, 4], [1, 1, 4], [2, 1, 4], [3, 1, 4], [4, 1, 4], [5, 1, 4], [6, 1, 4], [0, 2, 2], [1, 2, 2], [2, 2, 2], [3, 2, 2], [4, 2, 2], [5, 2, 2], [6, 2, 2], [0, 2, 3], [1, 2, 3], [2, 2, 3], [3, 2, 3], [4, 2, 3], [5, 2, 3], [6, 2, 3], [0, 2, 4], [1, 2, 4], [2, 2, 4], [3, 2, 4], [4, 2, 4], [5, 2, 4], [6, 2, 4], [0, 3, 3], [1, 3, 3], [2, 3, 3], [3, 3, 3], [4, 3, 3], [5, 3, 3], [6, 3, 3]]\n",
      "o_lis:[[0, 3, 4], [1, 3, 4], [2, 3, 4], [3, 3, 4], [4, 3, 4], [5, 3, 4], [6, 3, 4]]\n",
      "now rst_list:[[0, 0, 0], [1, 0, 0], [2, 0, 0], [3, 0, 0], [4, 0, 0], [5, 0, 0], [6, 0, 0], [0, 0, 1], [1, 0, 1], [2, 0, 1], [3, 0, 1], [4, 0, 1], [5, 0, 1], [6, 0, 1], [0, 0, 2], [1, 0, 2], [2, 0, 2], [3, 0, 2], [4, 0, 2], [5, 0, 2], [6, 0, 2], [0, 0, 3], [1, 0, 3], [2, 0, 3], [3, 0, 3], [4, 0, 3], [5, 0, 3], [6, 0, 3], [0, 0, 4], [1, 0, 4], [2, 0, 4], [3, 0, 4], [4, 0, 4], [5, 0, 4], [6, 0, 4], [0, 1, 1], [1, 1, 1], [2, 1, 1], [3, 1, 1], [4, 1, 1], [5, 1, 1], [6, 1, 1], [0, 1, 2], [1, 1, 2], [2, 1, 2], [3, 1, 2], [4, 1, 2], [5, 1, 2], [6, 1, 2], [0, 1, 3], [1, 1, 3], [2, 1, 3], [3, 1, 3], [4, 1, 3], [5, 1, 3], [6, 1, 3], [0, 1, 4], [1, 1, 4], [2, 1, 4], [3, 1, 4], [4, 1, 4], [5, 1, 4], [6, 1, 4], [0, 2, 2], [1, 2, 2], [2, 2, 2], [3, 2, 2], [4, 2, 2], [5, 2, 2], [6, 2, 2], [0, 2, 3], [1, 2, 3], [2, 2, 3], [3, 2, 3], [4, 2, 3], [5, 2, 3], [6, 2, 3], [0, 2, 4], [1, 2, 4], [2, 2, 4], [3, 2, 4], [4, 2, 4], [5, 2, 4], [6, 2, 4], [0, 3, 3], [1, 3, 3], [2, 3, 3], [3, 3, 3], [4, 3, 3], [5, 3, 3], [6, 3, 3], [0, 3, 4], [1, 3, 4], [2, 3, 4], [3, 3, 4], [4, 3, 4], [5, 3, 4], [6, 3, 4]]\n",
      "98, two_level_lis:[[0, 0, 0], [1, 0, 0], [2, 0, 0], [3, 0, 0], [4, 0, 0], [5, 0, 0], [6, 0, 0], [0, 0, 1], [1, 0, 1], [2, 0, 1], [3, 0, 1], [4, 0, 1], [5, 0, 1], [6, 0, 1], [0, 0, 2], [1, 0, 2], [2, 0, 2], [3, 0, 2], [4, 0, 2], [5, 0, 2], [6, 0, 2], [0, 0, 3], [1, 0, 3], [2, 0, 3], [3, 0, 3], [4, 0, 3], [5, 0, 3], [6, 0, 3], [0, 0, 4], [1, 0, 4], [2, 0, 4], [3, 0, 4], [4, 0, 4], [5, 0, 4], [6, 0, 4], [0, 1, 1], [1, 1, 1], [2, 1, 1], [3, 1, 1], [4, 1, 1], [5, 1, 1], [6, 1, 1], [0, 1, 2], [1, 1, 2], [2, 1, 2], [3, 1, 2], [4, 1, 2], [5, 1, 2], [6, 1, 2], [0, 1, 3], [1, 1, 3], [2, 1, 3], [3, 1, 3], [4, 1, 3], [5, 1, 3], [6, 1, 3], [0, 1, 4], [1, 1, 4], [2, 1, 4], [3, 1, 4], [4, 1, 4], [5, 1, 4], [6, 1, 4], [0, 2, 2], [1, 2, 2], [2, 2, 2], [3, 2, 2], [4, 2, 2], [5, 2, 2], [6, 2, 2], [0, 2, 3], [1, 2, 3], [2, 2, 3], [3, 2, 3], [4, 2, 3], [5, 2, 3], [6, 2, 3], [0, 2, 4], [1, 2, 4], [2, 2, 4], [3, 2, 4], [4, 2, 4], [5, 2, 4], [6, 2, 4], [0, 3, 3], [1, 3, 3], [2, 3, 3], [3, 3, 3], [4, 3, 3], [5, 3, 3], [6, 3, 3], [0, 3, 4], [1, 3, 4], [2, 3, 4], [3, 3, 4], [4, 3, 4], [5, 3, 4], [6, 3, 4]]\n",
      "after change, new_lis:[[0, 0, 0], [0, 0, 1], [0, 0, 2], [0, 0, 3], [0, 0, 4], [0, 0, 5], [0, 0, 6], [0, 1, 1], [0, 1, 2], [0, 1, 3], [0, 1, 4], [0, 1, 5], [0, 1, 6], [0, 2, 2], [0, 2, 3], [0, 2, 4], [0, 2, 5], [0, 2, 6], [0, 3, 3], [0, 3, 4], [0, 3, 5], [0, 3, 6], [0, 4, 4], [0, 4, 5], [0, 4, 6], [1, 1, 1], [1, 1, 2], [1, 1, 3], [1, 1, 4], [1, 1, 5], [1, 1, 6], [1, 2, 2], [1, 2, 3], [1, 2, 4], [1, 2, 5], [1, 2, 6], [1, 3, 3], [1, 3, 4], [1, 3, 5], [1, 3, 6], [1, 4, 4], [1, 4, 5], [1, 4, 6], [2, 2, 2], [2, 2, 3], [2, 2, 4], [2, 2, 5], [2, 2, 6], [2, 3, 3], [2, 3, 4], [2, 3, 5], [2, 3, 6], [2, 4, 4], [2, 4, 5], [2, 4, 6], [3, 3, 3], [3, 3, 4], [3, 3, 5], [3, 3, 6], [3, 4, 4], [3, 4, 5], [3, 4, 6]]\n",
      "非重复的列表元素个数:62, 列表:\n",
      " [[0, 0, 0], [0, 0, 1], [0, 0, 2], [0, 0, 3], [0, 0, 4], [0, 0, 5], [0, 0, 6], [0, 1, 1], [0, 1, 2], [0, 1, 3], [0, 1, 4], [0, 1, 5], [0, 1, 6], [0, 2, 2], [0, 2, 3], [0, 2, 4], [0, 2, 5], [0, 2, 6], [0, 3, 3], [0, 3, 4], [0, 3, 5], [0, 3, 6], [0, 4, 4], [0, 4, 5], [0, 4, 6], [1, 1, 1], [1, 1, 2], [1, 1, 3], [1, 1, 4], [1, 1, 5], [1, 1, 6], [1, 2, 2], [1, 2, 3], [1, 2, 4], [1, 2, 5], [1, 2, 6], [1, 3, 3], [1, 3, 4], [1, 3, 5], [1, 3, 6], [1, 4, 4], [1, 4, 5], [1, 4, 6], [2, 2, 2], [2, 2, 3], [2, 2, 4], [2, 2, 5], [2, 2, 6], [2, 3, 3], [2, 3, 4], [2, 3, 5], [2, 3, 6], [2, 4, 4], [2, 4, 5], [2, 4, 6], [3, 3, 3], [3, 3, 4], [3, 3, 5], [3, 3, 6], [3, 4, 4], [3, 4, 5], [3, 4, 6]]\n"
     ]
    }
   ],
   "source": [
    "two_lis = [0,1,2,3,4,5,6]\n",
    "two_level_lis = gen_list(del_lis, two_lis)  # 把嵌套列表放在参数1位置del_lis\n",
    "print('{}, two_level_lis:{}'.format(len(two_level_lis), two_level_lis))\n",
    "del_two_level_lis = del_sorted_repead(two_level_lis)\n",
    "print('非重复的列表元素个数:{}, 列表:\\n {}'.format(len(del_two_level_lis), del_two_level_lis))"
   ]
  },
  {
   "cell_type": "code",
   "execution_count": 156,
   "metadata": {},
   "outputs": [
    {
     "name": "stdout",
     "output_type": "stream",
     "text": [
      "o_lis:[[0, 0, 0, 0], [1, 0, 0, 0]]\n",
      "now rst_list:[[0, 0, 0, 0], [1, 0, 0, 0]]\n",
      "o_lis:[[0, 0, 0, 1], [1, 0, 0, 1]]\n",
      "now rst_list:[[0, 0, 0, 0], [1, 0, 0, 0], [0, 0, 0, 1], [1, 0, 0, 1]]\n",
      "o_lis:[[0, 0, 0, 2], [1, 0, 0, 2]]\n",
      "now rst_list:[[0, 0, 0, 0], [1, 0, 0, 0], [0, 0, 0, 1], [1, 0, 0, 1], [0, 0, 0, 2], [1, 0, 0, 2]]\n",
      "o_lis:[[0, 0, 0, 3], [1, 0, 0, 3]]\n",
      "now rst_list:[[0, 0, 0, 0], [1, 0, 0, 0], [0, 0, 0, 1], [1, 0, 0, 1], [0, 0, 0, 2], [1, 0, 0, 2], [0, 0, 0, 3], [1, 0, 0, 3]]\n",
      "o_lis:[[0, 0, 0, 4], [1, 0, 0, 4]]\n",
      "now rst_list:[[0, 0, 0, 0], [1, 0, 0, 0], [0, 0, 0, 1], [1, 0, 0, 1], [0, 0, 0, 2], [1, 0, 0, 2], [0, 0, 0, 3], [1, 0, 0, 3], [0, 0, 0, 4], [1, 0, 0, 4]]\n",
      "o_lis:[[0, 0, 0, 5], [1, 0, 0, 5]]\n",
      "now rst_list:[[0, 0, 0, 0], [1, 0, 0, 0], [0, 0, 0, 1], [1, 0, 0, 1], [0, 0, 0, 2], [1, 0, 0, 2], [0, 0, 0, 3], [1, 0, 0, 3], [0, 0, 0, 4], [1, 0, 0, 4], [0, 0, 0, 5], [1, 0, 0, 5]]\n",
      "o_lis:[[0, 0, 0, 6], [1, 0, 0, 6]]\n",
      "now rst_list:[[0, 0, 0, 0], [1, 0, 0, 0], [0, 0, 0, 1], [1, 0, 0, 1], [0, 0, 0, 2], [1, 0, 0, 2], [0, 0, 0, 3], [1, 0, 0, 3], [0, 0, 0, 4], [1, 0, 0, 4], [0, 0, 0, 5], [1, 0, 0, 5], [0, 0, 0, 6], [1, 0, 0, 6]]\n",
      "o_lis:[[0, 0, 1, 1], [1, 0, 1, 1]]\n",
      "now rst_list:[[0, 0, 0, 0], [1, 0, 0, 0], [0, 0, 0, 1], [1, 0, 0, 1], [0, 0, 0, 2], [1, 0, 0, 2], [0, 0, 0, 3], [1, 0, 0, 3], [0, 0, 0, 4], [1, 0, 0, 4], [0, 0, 0, 5], [1, 0, 0, 5], [0, 0, 0, 6], [1, 0, 0, 6], [0, 0, 1, 1], [1, 0, 1, 1]]\n",
      "o_lis:[[0, 0, 1, 2], [1, 0, 1, 2]]\n",
      "now rst_list:[[0, 0, 0, 0], [1, 0, 0, 0], [0, 0, 0, 1], [1, 0, 0, 1], [0, 0, 0, 2], [1, 0, 0, 2], [0, 0, 0, 3], [1, 0, 0, 3], [0, 0, 0, 4], [1, 0, 0, 4], [0, 0, 0, 5], [1, 0, 0, 5], [0, 0, 0, 6], [1, 0, 0, 6], [0, 0, 1, 1], [1, 0, 1, 1], [0, 0, 1, 2], [1, 0, 1, 2]]\n",
      "o_lis:[[0, 0, 1, 3], [1, 0, 1, 3]]\n",
      "now rst_list:[[0, 0, 0, 0], [1, 0, 0, 0], [0, 0, 0, 1], [1, 0, 0, 1], [0, 0, 0, 2], [1, 0, 0, 2], [0, 0, 0, 3], [1, 0, 0, 3], [0, 0, 0, 4], [1, 0, 0, 4], [0, 0, 0, 5], [1, 0, 0, 5], [0, 0, 0, 6], [1, 0, 0, 6], [0, 0, 1, 1], [1, 0, 1, 1], [0, 0, 1, 2], [1, 0, 1, 2], [0, 0, 1, 3], [1, 0, 1, 3]]\n",
      "o_lis:[[0, 0, 1, 4], [1, 0, 1, 4]]\n",
      "now rst_list:[[0, 0, 0, 0], [1, 0, 0, 0], [0, 0, 0, 1], [1, 0, 0, 1], [0, 0, 0, 2], [1, 0, 0, 2], [0, 0, 0, 3], [1, 0, 0, 3], [0, 0, 0, 4], [1, 0, 0, 4], [0, 0, 0, 5], [1, 0, 0, 5], [0, 0, 0, 6], [1, 0, 0, 6], [0, 0, 1, 1], [1, 0, 1, 1], [0, 0, 1, 2], [1, 0, 1, 2], [0, 0, 1, 3], [1, 0, 1, 3], [0, 0, 1, 4], [1, 0, 1, 4]]\n",
      "o_lis:[[0, 0, 1, 5], [1, 0, 1, 5]]\n",
      "now rst_list:[[0, 0, 0, 0], [1, 0, 0, 0], [0, 0, 0, 1], [1, 0, 0, 1], [0, 0, 0, 2], [1, 0, 0, 2], [0, 0, 0, 3], [1, 0, 0, 3], [0, 0, 0, 4], [1, 0, 0, 4], [0, 0, 0, 5], [1, 0, 0, 5], [0, 0, 0, 6], [1, 0, 0, 6], [0, 0, 1, 1], [1, 0, 1, 1], [0, 0, 1, 2], [1, 0, 1, 2], [0, 0, 1, 3], [1, 0, 1, 3], [0, 0, 1, 4], [1, 0, 1, 4], [0, 0, 1, 5], [1, 0, 1, 5]]\n",
      "o_lis:[[0, 0, 1, 6], [1, 0, 1, 6]]\n",
      "now rst_list:[[0, 0, 0, 0], [1, 0, 0, 0], [0, 0, 0, 1], [1, 0, 0, 1], [0, 0, 0, 2], [1, 0, 0, 2], [0, 0, 0, 3], [1, 0, 0, 3], [0, 0, 0, 4], [1, 0, 0, 4], [0, 0, 0, 5], [1, 0, 0, 5], [0, 0, 0, 6], [1, 0, 0, 6], [0, 0, 1, 1], [1, 0, 1, 1], [0, 0, 1, 2], [1, 0, 1, 2], [0, 0, 1, 3], [1, 0, 1, 3], [0, 0, 1, 4], [1, 0, 1, 4], [0, 0, 1, 5], [1, 0, 1, 5], [0, 0, 1, 6], [1, 0, 1, 6]]\n",
      "o_lis:[[0, 0, 2, 2], [1, 0, 2, 2]]\n",
      "now rst_list:[[0, 0, 0, 0], [1, 0, 0, 0], [0, 0, 0, 1], [1, 0, 0, 1], [0, 0, 0, 2], [1, 0, 0, 2], [0, 0, 0, 3], [1, 0, 0, 3], [0, 0, 0, 4], [1, 0, 0, 4], [0, 0, 0, 5], [1, 0, 0, 5], [0, 0, 0, 6], [1, 0, 0, 6], [0, 0, 1, 1], [1, 0, 1, 1], [0, 0, 1, 2], [1, 0, 1, 2], [0, 0, 1, 3], [1, 0, 1, 3], [0, 0, 1, 4], [1, 0, 1, 4], [0, 0, 1, 5], [1, 0, 1, 5], [0, 0, 1, 6], [1, 0, 1, 6], [0, 0, 2, 2], [1, 0, 2, 2]]\n",
      "o_lis:[[0, 0, 2, 3], [1, 0, 2, 3]]\n",
      "now rst_list:[[0, 0, 0, 0], [1, 0, 0, 0], [0, 0, 0, 1], [1, 0, 0, 1], [0, 0, 0, 2], [1, 0, 0, 2], [0, 0, 0, 3], [1, 0, 0, 3], [0, 0, 0, 4], [1, 0, 0, 4], [0, 0, 0, 5], [1, 0, 0, 5], [0, 0, 0, 6], [1, 0, 0, 6], [0, 0, 1, 1], [1, 0, 1, 1], [0, 0, 1, 2], [1, 0, 1, 2], [0, 0, 1, 3], [1, 0, 1, 3], [0, 0, 1, 4], [1, 0, 1, 4], [0, 0, 1, 5], [1, 0, 1, 5], [0, 0, 1, 6], [1, 0, 1, 6], [0, 0, 2, 2], [1, 0, 2, 2], [0, 0, 2, 3], [1, 0, 2, 3]]\n",
      "o_lis:[[0, 0, 2, 4], [1, 0, 2, 4]]\n",
      "now rst_list:[[0, 0, 0, 0], [1, 0, 0, 0], [0, 0, 0, 1], [1, 0, 0, 1], [0, 0, 0, 2], [1, 0, 0, 2], [0, 0, 0, 3], [1, 0, 0, 3], [0, 0, 0, 4], [1, 0, 0, 4], [0, 0, 0, 5], [1, 0, 0, 5], [0, 0, 0, 6], [1, 0, 0, 6], [0, 0, 1, 1], [1, 0, 1, 1], [0, 0, 1, 2], [1, 0, 1, 2], [0, 0, 1, 3], [1, 0, 1, 3], [0, 0, 1, 4], [1, 0, 1, 4], [0, 0, 1, 5], [1, 0, 1, 5], [0, 0, 1, 6], [1, 0, 1, 6], [0, 0, 2, 2], [1, 0, 2, 2], [0, 0, 2, 3], [1, 0, 2, 3], [0, 0, 2, 4], [1, 0, 2, 4]]\n",
      "o_lis:[[0, 0, 2, 5], [1, 0, 2, 5]]\n",
      "now rst_list:[[0, 0, 0, 0], [1, 0, 0, 0], [0, 0, 0, 1], [1, 0, 0, 1], [0, 0, 0, 2], [1, 0, 0, 2], [0, 0, 0, 3], [1, 0, 0, 3], [0, 0, 0, 4], [1, 0, 0, 4], [0, 0, 0, 5], [1, 0, 0, 5], [0, 0, 0, 6], [1, 0, 0, 6], [0, 0, 1, 1], [1, 0, 1, 1], [0, 0, 1, 2], [1, 0, 1, 2], [0, 0, 1, 3], [1, 0, 1, 3], [0, 0, 1, 4], [1, 0, 1, 4], [0, 0, 1, 5], [1, 0, 1, 5], [0, 0, 1, 6], [1, 0, 1, 6], [0, 0, 2, 2], [1, 0, 2, 2], [0, 0, 2, 3], [1, 0, 2, 3], [0, 0, 2, 4], [1, 0, 2, 4], [0, 0, 2, 5], [1, 0, 2, 5]]\n",
      "o_lis:[[0, 0, 2, 6], [1, 0, 2, 6]]\n",
      "now rst_list:[[0, 0, 0, 0], [1, 0, 0, 0], [0, 0, 0, 1], [1, 0, 0, 1], [0, 0, 0, 2], [1, 0, 0, 2], [0, 0, 0, 3], [1, 0, 0, 3], [0, 0, 0, 4], [1, 0, 0, 4], [0, 0, 0, 5], [1, 0, 0, 5], [0, 0, 0, 6], [1, 0, 0, 6], [0, 0, 1, 1], [1, 0, 1, 1], [0, 0, 1, 2], [1, 0, 1, 2], [0, 0, 1, 3], [1, 0, 1, 3], [0, 0, 1, 4], [1, 0, 1, 4], [0, 0, 1, 5], [1, 0, 1, 5], [0, 0, 1, 6], [1, 0, 1, 6], [0, 0, 2, 2], [1, 0, 2, 2], [0, 0, 2, 3], [1, 0, 2, 3], [0, 0, 2, 4], [1, 0, 2, 4], [0, 0, 2, 5], [1, 0, 2, 5], [0, 0, 2, 6], [1, 0, 2, 6]]\n",
      "o_lis:[[0, 0, 3, 3], [1, 0, 3, 3]]\n",
      "now rst_list:[[0, 0, 0, 0], [1, 0, 0, 0], [0, 0, 0, 1], [1, 0, 0, 1], [0, 0, 0, 2], [1, 0, 0, 2], [0, 0, 0, 3], [1, 0, 0, 3], [0, 0, 0, 4], [1, 0, 0, 4], [0, 0, 0, 5], [1, 0, 0, 5], [0, 0, 0, 6], [1, 0, 0, 6], [0, 0, 1, 1], [1, 0, 1, 1], [0, 0, 1, 2], [1, 0, 1, 2], [0, 0, 1, 3], [1, 0, 1, 3], [0, 0, 1, 4], [1, 0, 1, 4], [0, 0, 1, 5], [1, 0, 1, 5], [0, 0, 1, 6], [1, 0, 1, 6], [0, 0, 2, 2], [1, 0, 2, 2], [0, 0, 2, 3], [1, 0, 2, 3], [0, 0, 2, 4], [1, 0, 2, 4], [0, 0, 2, 5], [1, 0, 2, 5], [0, 0, 2, 6], [1, 0, 2, 6], [0, 0, 3, 3], [1, 0, 3, 3]]\n",
      "o_lis:[[0, 0, 3, 4], [1, 0, 3, 4]]\n",
      "now rst_list:[[0, 0, 0, 0], [1, 0, 0, 0], [0, 0, 0, 1], [1, 0, 0, 1], [0, 0, 0, 2], [1, 0, 0, 2], [0, 0, 0, 3], [1, 0, 0, 3], [0, 0, 0, 4], [1, 0, 0, 4], [0, 0, 0, 5], [1, 0, 0, 5], [0, 0, 0, 6], [1, 0, 0, 6], [0, 0, 1, 1], [1, 0, 1, 1], [0, 0, 1, 2], [1, 0, 1, 2], [0, 0, 1, 3], [1, 0, 1, 3], [0, 0, 1, 4], [1, 0, 1, 4], [0, 0, 1, 5], [1, 0, 1, 5], [0, 0, 1, 6], [1, 0, 1, 6], [0, 0, 2, 2], [1, 0, 2, 2], [0, 0, 2, 3], [1, 0, 2, 3], [0, 0, 2, 4], [1, 0, 2, 4], [0, 0, 2, 5], [1, 0, 2, 5], [0, 0, 2, 6], [1, 0, 2, 6], [0, 0, 3, 3], [1, 0, 3, 3], [0, 0, 3, 4], [1, 0, 3, 4]]\n",
      "o_lis:[[0, 0, 3, 5], [1, 0, 3, 5]]\n",
      "now rst_list:[[0, 0, 0, 0], [1, 0, 0, 0], [0, 0, 0, 1], [1, 0, 0, 1], [0, 0, 0, 2], [1, 0, 0, 2], [0, 0, 0, 3], [1, 0, 0, 3], [0, 0, 0, 4], [1, 0, 0, 4], [0, 0, 0, 5], [1, 0, 0, 5], [0, 0, 0, 6], [1, 0, 0, 6], [0, 0, 1, 1], [1, 0, 1, 1], [0, 0, 1, 2], [1, 0, 1, 2], [0, 0, 1, 3], [1, 0, 1, 3], [0, 0, 1, 4], [1, 0, 1, 4], [0, 0, 1, 5], [1, 0, 1, 5], [0, 0, 1, 6], [1, 0, 1, 6], [0, 0, 2, 2], [1, 0, 2, 2], [0, 0, 2, 3], [1, 0, 2, 3], [0, 0, 2, 4], [1, 0, 2, 4], [0, 0, 2, 5], [1, 0, 2, 5], [0, 0, 2, 6], [1, 0, 2, 6], [0, 0, 3, 3], [1, 0, 3, 3], [0, 0, 3, 4], [1, 0, 3, 4], [0, 0, 3, 5], [1, 0, 3, 5]]\n",
      "o_lis:[[0, 0, 3, 6], [1, 0, 3, 6]]\n",
      "now rst_list:[[0, 0, 0, 0], [1, 0, 0, 0], [0, 0, 0, 1], [1, 0, 0, 1], [0, 0, 0, 2], [1, 0, 0, 2], [0, 0, 0, 3], [1, 0, 0, 3], [0, 0, 0, 4], [1, 0, 0, 4], [0, 0, 0, 5], [1, 0, 0, 5], [0, 0, 0, 6], [1, 0, 0, 6], [0, 0, 1, 1], [1, 0, 1, 1], [0, 0, 1, 2], [1, 0, 1, 2], [0, 0, 1, 3], [1, 0, 1, 3], [0, 0, 1, 4], [1, 0, 1, 4], [0, 0, 1, 5], [1, 0, 1, 5], [0, 0, 1, 6], [1, 0, 1, 6], [0, 0, 2, 2], [1, 0, 2, 2], [0, 0, 2, 3], [1, 0, 2, 3], [0, 0, 2, 4], [1, 0, 2, 4], [0, 0, 2, 5], [1, 0, 2, 5], [0, 0, 2, 6], [1, 0, 2, 6], [0, 0, 3, 3], [1, 0, 3, 3], [0, 0, 3, 4], [1, 0, 3, 4], [0, 0, 3, 5], [1, 0, 3, 5], [0, 0, 3, 6], [1, 0, 3, 6]]\n",
      "o_lis:[[0, 0, 4, 4], [1, 0, 4, 4]]\n",
      "now rst_list:[[0, 0, 0, 0], [1, 0, 0, 0], [0, 0, 0, 1], [1, 0, 0, 1], [0, 0, 0, 2], [1, 0, 0, 2], [0, 0, 0, 3], [1, 0, 0, 3], [0, 0, 0, 4], [1, 0, 0, 4], [0, 0, 0, 5], [1, 0, 0, 5], [0, 0, 0, 6], [1, 0, 0, 6], [0, 0, 1, 1], [1, 0, 1, 1], [0, 0, 1, 2], [1, 0, 1, 2], [0, 0, 1, 3], [1, 0, 1, 3], [0, 0, 1, 4], [1, 0, 1, 4], [0, 0, 1, 5], [1, 0, 1, 5], [0, 0, 1, 6], [1, 0, 1, 6], [0, 0, 2, 2], [1, 0, 2, 2], [0, 0, 2, 3], [1, 0, 2, 3], [0, 0, 2, 4], [1, 0, 2, 4], [0, 0, 2, 5], [1, 0, 2, 5], [0, 0, 2, 6], [1, 0, 2, 6], [0, 0, 3, 3], [1, 0, 3, 3], [0, 0, 3, 4], [1, 0, 3, 4], [0, 0, 3, 5], [1, 0, 3, 5], [0, 0, 3, 6], [1, 0, 3, 6], [0, 0, 4, 4], [1, 0, 4, 4]]\n",
      "o_lis:[[0, 0, 4, 5], [1, 0, 4, 5]]\n",
      "now rst_list:[[0, 0, 0, 0], [1, 0, 0, 0], [0, 0, 0, 1], [1, 0, 0, 1], [0, 0, 0, 2], [1, 0, 0, 2], [0, 0, 0, 3], [1, 0, 0, 3], [0, 0, 0, 4], [1, 0, 0, 4], [0, 0, 0, 5], [1, 0, 0, 5], [0, 0, 0, 6], [1, 0, 0, 6], [0, 0, 1, 1], [1, 0, 1, 1], [0, 0, 1, 2], [1, 0, 1, 2], [0, 0, 1, 3], [1, 0, 1, 3], [0, 0, 1, 4], [1, 0, 1, 4], [0, 0, 1, 5], [1, 0, 1, 5], [0, 0, 1, 6], [1, 0, 1, 6], [0, 0, 2, 2], [1, 0, 2, 2], [0, 0, 2, 3], [1, 0, 2, 3], [0, 0, 2, 4], [1, 0, 2, 4], [0, 0, 2, 5], [1, 0, 2, 5], [0, 0, 2, 6], [1, 0, 2, 6], [0, 0, 3, 3], [1, 0, 3, 3], [0, 0, 3, 4], [1, 0, 3, 4], [0, 0, 3, 5], [1, 0, 3, 5], [0, 0, 3, 6], [1, 0, 3, 6], [0, 0, 4, 4], [1, 0, 4, 4], [0, 0, 4, 5], [1, 0, 4, 5]]\n",
      "o_lis:[[0, 0, 4, 6], [1, 0, 4, 6]]\n",
      "now rst_list:[[0, 0, 0, 0], [1, 0, 0, 0], [0, 0, 0, 1], [1, 0, 0, 1], [0, 0, 0, 2], [1, 0, 0, 2], [0, 0, 0, 3], [1, 0, 0, 3], [0, 0, 0, 4], [1, 0, 0, 4], [0, 0, 0, 5], [1, 0, 0, 5], [0, 0, 0, 6], [1, 0, 0, 6], [0, 0, 1, 1], [1, 0, 1, 1], [0, 0, 1, 2], [1, 0, 1, 2], [0, 0, 1, 3], [1, 0, 1, 3], [0, 0, 1, 4], [1, 0, 1, 4], [0, 0, 1, 5], [1, 0, 1, 5], [0, 0, 1, 6], [1, 0, 1, 6], [0, 0, 2, 2], [1, 0, 2, 2], [0, 0, 2, 3], [1, 0, 2, 3], [0, 0, 2, 4], [1, 0, 2, 4], [0, 0, 2, 5], [1, 0, 2, 5], [0, 0, 2, 6], [1, 0, 2, 6], [0, 0, 3, 3], [1, 0, 3, 3], [0, 0, 3, 4], [1, 0, 3, 4], [0, 0, 3, 5], [1, 0, 3, 5], [0, 0, 3, 6], [1, 0, 3, 6], [0, 0, 4, 4], [1, 0, 4, 4], [0, 0, 4, 5], [1, 0, 4, 5], [0, 0, 4, 6], [1, 0, 4, 6]]\n",
      "o_lis:[[0, 1, 1, 1], [1, 1, 1, 1]]\n",
      "now rst_list:[[0, 0, 0, 0], [1, 0, 0, 0], [0, 0, 0, 1], [1, 0, 0, 1], [0, 0, 0, 2], [1, 0, 0, 2], [0, 0, 0, 3], [1, 0, 0, 3], [0, 0, 0, 4], [1, 0, 0, 4], [0, 0, 0, 5], [1, 0, 0, 5], [0, 0, 0, 6], [1, 0, 0, 6], [0, 0, 1, 1], [1, 0, 1, 1], [0, 0, 1, 2], [1, 0, 1, 2], [0, 0, 1, 3], [1, 0, 1, 3], [0, 0, 1, 4], [1, 0, 1, 4], [0, 0, 1, 5], [1, 0, 1, 5], [0, 0, 1, 6], [1, 0, 1, 6], [0, 0, 2, 2], [1, 0, 2, 2], [0, 0, 2, 3], [1, 0, 2, 3], [0, 0, 2, 4], [1, 0, 2, 4], [0, 0, 2, 5], [1, 0, 2, 5], [0, 0, 2, 6], [1, 0, 2, 6], [0, 0, 3, 3], [1, 0, 3, 3], [0, 0, 3, 4], [1, 0, 3, 4], [0, 0, 3, 5], [1, 0, 3, 5], [0, 0, 3, 6], [1, 0, 3, 6], [0, 0, 4, 4], [1, 0, 4, 4], [0, 0, 4, 5], [1, 0, 4, 5], [0, 0, 4, 6], [1, 0, 4, 6], [0, 1, 1, 1], [1, 1, 1, 1]]\n",
      "o_lis:[[0, 1, 1, 2], [1, 1, 1, 2]]\n",
      "now rst_list:[[0, 0, 0, 0], [1, 0, 0, 0], [0, 0, 0, 1], [1, 0, 0, 1], [0, 0, 0, 2], [1, 0, 0, 2], [0, 0, 0, 3], [1, 0, 0, 3], [0, 0, 0, 4], [1, 0, 0, 4], [0, 0, 0, 5], [1, 0, 0, 5], [0, 0, 0, 6], [1, 0, 0, 6], [0, 0, 1, 1], [1, 0, 1, 1], [0, 0, 1, 2], [1, 0, 1, 2], [0, 0, 1, 3], [1, 0, 1, 3], [0, 0, 1, 4], [1, 0, 1, 4], [0, 0, 1, 5], [1, 0, 1, 5], [0, 0, 1, 6], [1, 0, 1, 6], [0, 0, 2, 2], [1, 0, 2, 2], [0, 0, 2, 3], [1, 0, 2, 3], [0, 0, 2, 4], [1, 0, 2, 4], [0, 0, 2, 5], [1, 0, 2, 5], [0, 0, 2, 6], [1, 0, 2, 6], [0, 0, 3, 3], [1, 0, 3, 3], [0, 0, 3, 4], [1, 0, 3, 4], [0, 0, 3, 5], [1, 0, 3, 5], [0, 0, 3, 6], [1, 0, 3, 6], [0, 0, 4, 4], [1, 0, 4, 4], [0, 0, 4, 5], [1, 0, 4, 5], [0, 0, 4, 6], [1, 0, 4, 6], [0, 1, 1, 1], [1, 1, 1, 1], [0, 1, 1, 2], [1, 1, 1, 2]]\n",
      "o_lis:[[0, 1, 1, 3], [1, 1, 1, 3]]\n",
      "now rst_list:[[0, 0, 0, 0], [1, 0, 0, 0], [0, 0, 0, 1], [1, 0, 0, 1], [0, 0, 0, 2], [1, 0, 0, 2], [0, 0, 0, 3], [1, 0, 0, 3], [0, 0, 0, 4], [1, 0, 0, 4], [0, 0, 0, 5], [1, 0, 0, 5], [0, 0, 0, 6], [1, 0, 0, 6], [0, 0, 1, 1], [1, 0, 1, 1], [0, 0, 1, 2], [1, 0, 1, 2], [0, 0, 1, 3], [1, 0, 1, 3], [0, 0, 1, 4], [1, 0, 1, 4], [0, 0, 1, 5], [1, 0, 1, 5], [0, 0, 1, 6], [1, 0, 1, 6], [0, 0, 2, 2], [1, 0, 2, 2], [0, 0, 2, 3], [1, 0, 2, 3], [0, 0, 2, 4], [1, 0, 2, 4], [0, 0, 2, 5], [1, 0, 2, 5], [0, 0, 2, 6], [1, 0, 2, 6], [0, 0, 3, 3], [1, 0, 3, 3], [0, 0, 3, 4], [1, 0, 3, 4], [0, 0, 3, 5], [1, 0, 3, 5], [0, 0, 3, 6], [1, 0, 3, 6], [0, 0, 4, 4], [1, 0, 4, 4], [0, 0, 4, 5], [1, 0, 4, 5], [0, 0, 4, 6], [1, 0, 4, 6], [0, 1, 1, 1], [1, 1, 1, 1], [0, 1, 1, 2], [1, 1, 1, 2], [0, 1, 1, 3], [1, 1, 1, 3]]\n",
      "o_lis:[[0, 1, 1, 4], [1, 1, 1, 4]]\n",
      "now rst_list:[[0, 0, 0, 0], [1, 0, 0, 0], [0, 0, 0, 1], [1, 0, 0, 1], [0, 0, 0, 2], [1, 0, 0, 2], [0, 0, 0, 3], [1, 0, 0, 3], [0, 0, 0, 4], [1, 0, 0, 4], [0, 0, 0, 5], [1, 0, 0, 5], [0, 0, 0, 6], [1, 0, 0, 6], [0, 0, 1, 1], [1, 0, 1, 1], [0, 0, 1, 2], [1, 0, 1, 2], [0, 0, 1, 3], [1, 0, 1, 3], [0, 0, 1, 4], [1, 0, 1, 4], [0, 0, 1, 5], [1, 0, 1, 5], [0, 0, 1, 6], [1, 0, 1, 6], [0, 0, 2, 2], [1, 0, 2, 2], [0, 0, 2, 3], [1, 0, 2, 3], [0, 0, 2, 4], [1, 0, 2, 4], [0, 0, 2, 5], [1, 0, 2, 5], [0, 0, 2, 6], [1, 0, 2, 6], [0, 0, 3, 3], [1, 0, 3, 3], [0, 0, 3, 4], [1, 0, 3, 4], [0, 0, 3, 5], [1, 0, 3, 5], [0, 0, 3, 6], [1, 0, 3, 6], [0, 0, 4, 4], [1, 0, 4, 4], [0, 0, 4, 5], [1, 0, 4, 5], [0, 0, 4, 6], [1, 0, 4, 6], [0, 1, 1, 1], [1, 1, 1, 1], [0, 1, 1, 2], [1, 1, 1, 2], [0, 1, 1, 3], [1, 1, 1, 3], [0, 1, 1, 4], [1, 1, 1, 4]]\n",
      "o_lis:[[0, 1, 1, 5], [1, 1, 1, 5]]\n",
      "now rst_list:[[0, 0, 0, 0], [1, 0, 0, 0], [0, 0, 0, 1], [1, 0, 0, 1], [0, 0, 0, 2], [1, 0, 0, 2], [0, 0, 0, 3], [1, 0, 0, 3], [0, 0, 0, 4], [1, 0, 0, 4], [0, 0, 0, 5], [1, 0, 0, 5], [0, 0, 0, 6], [1, 0, 0, 6], [0, 0, 1, 1], [1, 0, 1, 1], [0, 0, 1, 2], [1, 0, 1, 2], [0, 0, 1, 3], [1, 0, 1, 3], [0, 0, 1, 4], [1, 0, 1, 4], [0, 0, 1, 5], [1, 0, 1, 5], [0, 0, 1, 6], [1, 0, 1, 6], [0, 0, 2, 2], [1, 0, 2, 2], [0, 0, 2, 3], [1, 0, 2, 3], [0, 0, 2, 4], [1, 0, 2, 4], [0, 0, 2, 5], [1, 0, 2, 5], [0, 0, 2, 6], [1, 0, 2, 6], [0, 0, 3, 3], [1, 0, 3, 3], [0, 0, 3, 4], [1, 0, 3, 4], [0, 0, 3, 5], [1, 0, 3, 5], [0, 0, 3, 6], [1, 0, 3, 6], [0, 0, 4, 4], [1, 0, 4, 4], [0, 0, 4, 5], [1, 0, 4, 5], [0, 0, 4, 6], [1, 0, 4, 6], [0, 1, 1, 1], [1, 1, 1, 1], [0, 1, 1, 2], [1, 1, 1, 2], [0, 1, 1, 3], [1, 1, 1, 3], [0, 1, 1, 4], [1, 1, 1, 4], [0, 1, 1, 5], [1, 1, 1, 5]]\n",
      "o_lis:[[0, 1, 1, 6], [1, 1, 1, 6]]\n",
      "now rst_list:[[0, 0, 0, 0], [1, 0, 0, 0], [0, 0, 0, 1], [1, 0, 0, 1], [0, 0, 0, 2], [1, 0, 0, 2], [0, 0, 0, 3], [1, 0, 0, 3], [0, 0, 0, 4], [1, 0, 0, 4], [0, 0, 0, 5], [1, 0, 0, 5], [0, 0, 0, 6], [1, 0, 0, 6], [0, 0, 1, 1], [1, 0, 1, 1], [0, 0, 1, 2], [1, 0, 1, 2], [0, 0, 1, 3], [1, 0, 1, 3], [0, 0, 1, 4], [1, 0, 1, 4], [0, 0, 1, 5], [1, 0, 1, 5], [0, 0, 1, 6], [1, 0, 1, 6], [0, 0, 2, 2], [1, 0, 2, 2], [0, 0, 2, 3], [1, 0, 2, 3], [0, 0, 2, 4], [1, 0, 2, 4], [0, 0, 2, 5], [1, 0, 2, 5], [0, 0, 2, 6], [1, 0, 2, 6], [0, 0, 3, 3], [1, 0, 3, 3], [0, 0, 3, 4], [1, 0, 3, 4], [0, 0, 3, 5], [1, 0, 3, 5], [0, 0, 3, 6], [1, 0, 3, 6], [0, 0, 4, 4], [1, 0, 4, 4], [0, 0, 4, 5], [1, 0, 4, 5], [0, 0, 4, 6], [1, 0, 4, 6], [0, 1, 1, 1], [1, 1, 1, 1], [0, 1, 1, 2], [1, 1, 1, 2], [0, 1, 1, 3], [1, 1, 1, 3], [0, 1, 1, 4], [1, 1, 1, 4], [0, 1, 1, 5], [1, 1, 1, 5], [0, 1, 1, 6], [1, 1, 1, 6]]\n",
      "o_lis:[[0, 1, 2, 2], [1, 1, 2, 2]]\n",
      "now rst_list:[[0, 0, 0, 0], [1, 0, 0, 0], [0, 0, 0, 1], [1, 0, 0, 1], [0, 0, 0, 2], [1, 0, 0, 2], [0, 0, 0, 3], [1, 0, 0, 3], [0, 0, 0, 4], [1, 0, 0, 4], [0, 0, 0, 5], [1, 0, 0, 5], [0, 0, 0, 6], [1, 0, 0, 6], [0, 0, 1, 1], [1, 0, 1, 1], [0, 0, 1, 2], [1, 0, 1, 2], [0, 0, 1, 3], [1, 0, 1, 3], [0, 0, 1, 4], [1, 0, 1, 4], [0, 0, 1, 5], [1, 0, 1, 5], [0, 0, 1, 6], [1, 0, 1, 6], [0, 0, 2, 2], [1, 0, 2, 2], [0, 0, 2, 3], [1, 0, 2, 3], [0, 0, 2, 4], [1, 0, 2, 4], [0, 0, 2, 5], [1, 0, 2, 5], [0, 0, 2, 6], [1, 0, 2, 6], [0, 0, 3, 3], [1, 0, 3, 3], [0, 0, 3, 4], [1, 0, 3, 4], [0, 0, 3, 5], [1, 0, 3, 5], [0, 0, 3, 6], [1, 0, 3, 6], [0, 0, 4, 4], [1, 0, 4, 4], [0, 0, 4, 5], [1, 0, 4, 5], [0, 0, 4, 6], [1, 0, 4, 6], [0, 1, 1, 1], [1, 1, 1, 1], [0, 1, 1, 2], [1, 1, 1, 2], [0, 1, 1, 3], [1, 1, 1, 3], [0, 1, 1, 4], [1, 1, 1, 4], [0, 1, 1, 5], [1, 1, 1, 5], [0, 1, 1, 6], [1, 1, 1, 6], [0, 1, 2, 2], [1, 1, 2, 2]]\n",
      "o_lis:[[0, 1, 2, 3], [1, 1, 2, 3]]\n",
      "now rst_list:[[0, 0, 0, 0], [1, 0, 0, 0], [0, 0, 0, 1], [1, 0, 0, 1], [0, 0, 0, 2], [1, 0, 0, 2], [0, 0, 0, 3], [1, 0, 0, 3], [0, 0, 0, 4], [1, 0, 0, 4], [0, 0, 0, 5], [1, 0, 0, 5], [0, 0, 0, 6], [1, 0, 0, 6], [0, 0, 1, 1], [1, 0, 1, 1], [0, 0, 1, 2], [1, 0, 1, 2], [0, 0, 1, 3], [1, 0, 1, 3], [0, 0, 1, 4], [1, 0, 1, 4], [0, 0, 1, 5], [1, 0, 1, 5], [0, 0, 1, 6], [1, 0, 1, 6], [0, 0, 2, 2], [1, 0, 2, 2], [0, 0, 2, 3], [1, 0, 2, 3], [0, 0, 2, 4], [1, 0, 2, 4], [0, 0, 2, 5], [1, 0, 2, 5], [0, 0, 2, 6], [1, 0, 2, 6], [0, 0, 3, 3], [1, 0, 3, 3], [0, 0, 3, 4], [1, 0, 3, 4], [0, 0, 3, 5], [1, 0, 3, 5], [0, 0, 3, 6], [1, 0, 3, 6], [0, 0, 4, 4], [1, 0, 4, 4], [0, 0, 4, 5], [1, 0, 4, 5], [0, 0, 4, 6], [1, 0, 4, 6], [0, 1, 1, 1], [1, 1, 1, 1], [0, 1, 1, 2], [1, 1, 1, 2], [0, 1, 1, 3], [1, 1, 1, 3], [0, 1, 1, 4], [1, 1, 1, 4], [0, 1, 1, 5], [1, 1, 1, 5], [0, 1, 1, 6], [1, 1, 1, 6], [0, 1, 2, 2], [1, 1, 2, 2], [0, 1, 2, 3], [1, 1, 2, 3]]\n",
      "o_lis:[[0, 1, 2, 4], [1, 1, 2, 4]]\n",
      "now rst_list:[[0, 0, 0, 0], [1, 0, 0, 0], [0, 0, 0, 1], [1, 0, 0, 1], [0, 0, 0, 2], [1, 0, 0, 2], [0, 0, 0, 3], [1, 0, 0, 3], [0, 0, 0, 4], [1, 0, 0, 4], [0, 0, 0, 5], [1, 0, 0, 5], [0, 0, 0, 6], [1, 0, 0, 6], [0, 0, 1, 1], [1, 0, 1, 1], [0, 0, 1, 2], [1, 0, 1, 2], [0, 0, 1, 3], [1, 0, 1, 3], [0, 0, 1, 4], [1, 0, 1, 4], [0, 0, 1, 5], [1, 0, 1, 5], [0, 0, 1, 6], [1, 0, 1, 6], [0, 0, 2, 2], [1, 0, 2, 2], [0, 0, 2, 3], [1, 0, 2, 3], [0, 0, 2, 4], [1, 0, 2, 4], [0, 0, 2, 5], [1, 0, 2, 5], [0, 0, 2, 6], [1, 0, 2, 6], [0, 0, 3, 3], [1, 0, 3, 3], [0, 0, 3, 4], [1, 0, 3, 4], [0, 0, 3, 5], [1, 0, 3, 5], [0, 0, 3, 6], [1, 0, 3, 6], [0, 0, 4, 4], [1, 0, 4, 4], [0, 0, 4, 5], [1, 0, 4, 5], [0, 0, 4, 6], [1, 0, 4, 6], [0, 1, 1, 1], [1, 1, 1, 1], [0, 1, 1, 2], [1, 1, 1, 2], [0, 1, 1, 3], [1, 1, 1, 3], [0, 1, 1, 4], [1, 1, 1, 4], [0, 1, 1, 5], [1, 1, 1, 5], [0, 1, 1, 6], [1, 1, 1, 6], [0, 1, 2, 2], [1, 1, 2, 2], [0, 1, 2, 3], [1, 1, 2, 3], [0, 1, 2, 4], [1, 1, 2, 4]]\n",
      "o_lis:[[0, 1, 2, 5], [1, 1, 2, 5]]\n",
      "now rst_list:[[0, 0, 0, 0], [1, 0, 0, 0], [0, 0, 0, 1], [1, 0, 0, 1], [0, 0, 0, 2], [1, 0, 0, 2], [0, 0, 0, 3], [1, 0, 0, 3], [0, 0, 0, 4], [1, 0, 0, 4], [0, 0, 0, 5], [1, 0, 0, 5], [0, 0, 0, 6], [1, 0, 0, 6], [0, 0, 1, 1], [1, 0, 1, 1], [0, 0, 1, 2], [1, 0, 1, 2], [0, 0, 1, 3], [1, 0, 1, 3], [0, 0, 1, 4], [1, 0, 1, 4], [0, 0, 1, 5], [1, 0, 1, 5], [0, 0, 1, 6], [1, 0, 1, 6], [0, 0, 2, 2], [1, 0, 2, 2], [0, 0, 2, 3], [1, 0, 2, 3], [0, 0, 2, 4], [1, 0, 2, 4], [0, 0, 2, 5], [1, 0, 2, 5], [0, 0, 2, 6], [1, 0, 2, 6], [0, 0, 3, 3], [1, 0, 3, 3], [0, 0, 3, 4], [1, 0, 3, 4], [0, 0, 3, 5], [1, 0, 3, 5], [0, 0, 3, 6], [1, 0, 3, 6], [0, 0, 4, 4], [1, 0, 4, 4], [0, 0, 4, 5], [1, 0, 4, 5], [0, 0, 4, 6], [1, 0, 4, 6], [0, 1, 1, 1], [1, 1, 1, 1], [0, 1, 1, 2], [1, 1, 1, 2], [0, 1, 1, 3], [1, 1, 1, 3], [0, 1, 1, 4], [1, 1, 1, 4], [0, 1, 1, 5], [1, 1, 1, 5], [0, 1, 1, 6], [1, 1, 1, 6], [0, 1, 2, 2], [1, 1, 2, 2], [0, 1, 2, 3], [1, 1, 2, 3], [0, 1, 2, 4], [1, 1, 2, 4], [0, 1, 2, 5], [1, 1, 2, 5]]\n",
      "o_lis:[[0, 1, 2, 6], [1, 1, 2, 6]]\n",
      "now rst_list:[[0, 0, 0, 0], [1, 0, 0, 0], [0, 0, 0, 1], [1, 0, 0, 1], [0, 0, 0, 2], [1, 0, 0, 2], [0, 0, 0, 3], [1, 0, 0, 3], [0, 0, 0, 4], [1, 0, 0, 4], [0, 0, 0, 5], [1, 0, 0, 5], [0, 0, 0, 6], [1, 0, 0, 6], [0, 0, 1, 1], [1, 0, 1, 1], [0, 0, 1, 2], [1, 0, 1, 2], [0, 0, 1, 3], [1, 0, 1, 3], [0, 0, 1, 4], [1, 0, 1, 4], [0, 0, 1, 5], [1, 0, 1, 5], [0, 0, 1, 6], [1, 0, 1, 6], [0, 0, 2, 2], [1, 0, 2, 2], [0, 0, 2, 3], [1, 0, 2, 3], [0, 0, 2, 4], [1, 0, 2, 4], [0, 0, 2, 5], [1, 0, 2, 5], [0, 0, 2, 6], [1, 0, 2, 6], [0, 0, 3, 3], [1, 0, 3, 3], [0, 0, 3, 4], [1, 0, 3, 4], [0, 0, 3, 5], [1, 0, 3, 5], [0, 0, 3, 6], [1, 0, 3, 6], [0, 0, 4, 4], [1, 0, 4, 4], [0, 0, 4, 5], [1, 0, 4, 5], [0, 0, 4, 6], [1, 0, 4, 6], [0, 1, 1, 1], [1, 1, 1, 1], [0, 1, 1, 2], [1, 1, 1, 2], [0, 1, 1, 3], [1, 1, 1, 3], [0, 1, 1, 4], [1, 1, 1, 4], [0, 1, 1, 5], [1, 1, 1, 5], [0, 1, 1, 6], [1, 1, 1, 6], [0, 1, 2, 2], [1, 1, 2, 2], [0, 1, 2, 3], [1, 1, 2, 3], [0, 1, 2, 4], [1, 1, 2, 4], [0, 1, 2, 5], [1, 1, 2, 5], [0, 1, 2, 6], [1, 1, 2, 6]]\n",
      "o_lis:[[0, 1, 3, 3], [1, 1, 3, 3]]\n",
      "now rst_list:[[0, 0, 0, 0], [1, 0, 0, 0], [0, 0, 0, 1], [1, 0, 0, 1], [0, 0, 0, 2], [1, 0, 0, 2], [0, 0, 0, 3], [1, 0, 0, 3], [0, 0, 0, 4], [1, 0, 0, 4], [0, 0, 0, 5], [1, 0, 0, 5], [0, 0, 0, 6], [1, 0, 0, 6], [0, 0, 1, 1], [1, 0, 1, 1], [0, 0, 1, 2], [1, 0, 1, 2], [0, 0, 1, 3], [1, 0, 1, 3], [0, 0, 1, 4], [1, 0, 1, 4], [0, 0, 1, 5], [1, 0, 1, 5], [0, 0, 1, 6], [1, 0, 1, 6], [0, 0, 2, 2], [1, 0, 2, 2], [0, 0, 2, 3], [1, 0, 2, 3], [0, 0, 2, 4], [1, 0, 2, 4], [0, 0, 2, 5], [1, 0, 2, 5], [0, 0, 2, 6], [1, 0, 2, 6], [0, 0, 3, 3], [1, 0, 3, 3], [0, 0, 3, 4], [1, 0, 3, 4], [0, 0, 3, 5], [1, 0, 3, 5], [0, 0, 3, 6], [1, 0, 3, 6], [0, 0, 4, 4], [1, 0, 4, 4], [0, 0, 4, 5], [1, 0, 4, 5], [0, 0, 4, 6], [1, 0, 4, 6], [0, 1, 1, 1], [1, 1, 1, 1], [0, 1, 1, 2], [1, 1, 1, 2], [0, 1, 1, 3], [1, 1, 1, 3], [0, 1, 1, 4], [1, 1, 1, 4], [0, 1, 1, 5], [1, 1, 1, 5], [0, 1, 1, 6], [1, 1, 1, 6], [0, 1, 2, 2], [1, 1, 2, 2], [0, 1, 2, 3], [1, 1, 2, 3], [0, 1, 2, 4], [1, 1, 2, 4], [0, 1, 2, 5], [1, 1, 2, 5], [0, 1, 2, 6], [1, 1, 2, 6], [0, 1, 3, 3], [1, 1, 3, 3]]\n",
      "o_lis:[[0, 1, 3, 4], [1, 1, 3, 4]]\n",
      "now rst_list:[[0, 0, 0, 0], [1, 0, 0, 0], [0, 0, 0, 1], [1, 0, 0, 1], [0, 0, 0, 2], [1, 0, 0, 2], [0, 0, 0, 3], [1, 0, 0, 3], [0, 0, 0, 4], [1, 0, 0, 4], [0, 0, 0, 5], [1, 0, 0, 5], [0, 0, 0, 6], [1, 0, 0, 6], [0, 0, 1, 1], [1, 0, 1, 1], [0, 0, 1, 2], [1, 0, 1, 2], [0, 0, 1, 3], [1, 0, 1, 3], [0, 0, 1, 4], [1, 0, 1, 4], [0, 0, 1, 5], [1, 0, 1, 5], [0, 0, 1, 6], [1, 0, 1, 6], [0, 0, 2, 2], [1, 0, 2, 2], [0, 0, 2, 3], [1, 0, 2, 3], [0, 0, 2, 4], [1, 0, 2, 4], [0, 0, 2, 5], [1, 0, 2, 5], [0, 0, 2, 6], [1, 0, 2, 6], [0, 0, 3, 3], [1, 0, 3, 3], [0, 0, 3, 4], [1, 0, 3, 4], [0, 0, 3, 5], [1, 0, 3, 5], [0, 0, 3, 6], [1, 0, 3, 6], [0, 0, 4, 4], [1, 0, 4, 4], [0, 0, 4, 5], [1, 0, 4, 5], [0, 0, 4, 6], [1, 0, 4, 6], [0, 1, 1, 1], [1, 1, 1, 1], [0, 1, 1, 2], [1, 1, 1, 2], [0, 1, 1, 3], [1, 1, 1, 3], [0, 1, 1, 4], [1, 1, 1, 4], [0, 1, 1, 5], [1, 1, 1, 5], [0, 1, 1, 6], [1, 1, 1, 6], [0, 1, 2, 2], [1, 1, 2, 2], [0, 1, 2, 3], [1, 1, 2, 3], [0, 1, 2, 4], [1, 1, 2, 4], [0, 1, 2, 5], [1, 1, 2, 5], [0, 1, 2, 6], [1, 1, 2, 6], [0, 1, 3, 3], [1, 1, 3, 3], [0, 1, 3, 4], [1, 1, 3, 4]]\n",
      "o_lis:[[0, 1, 3, 5], [1, 1, 3, 5]]\n",
      "now rst_list:[[0, 0, 0, 0], [1, 0, 0, 0], [0, 0, 0, 1], [1, 0, 0, 1], [0, 0, 0, 2], [1, 0, 0, 2], [0, 0, 0, 3], [1, 0, 0, 3], [0, 0, 0, 4], [1, 0, 0, 4], [0, 0, 0, 5], [1, 0, 0, 5], [0, 0, 0, 6], [1, 0, 0, 6], [0, 0, 1, 1], [1, 0, 1, 1], [0, 0, 1, 2], [1, 0, 1, 2], [0, 0, 1, 3], [1, 0, 1, 3], [0, 0, 1, 4], [1, 0, 1, 4], [0, 0, 1, 5], [1, 0, 1, 5], [0, 0, 1, 6], [1, 0, 1, 6], [0, 0, 2, 2], [1, 0, 2, 2], [0, 0, 2, 3], [1, 0, 2, 3], [0, 0, 2, 4], [1, 0, 2, 4], [0, 0, 2, 5], [1, 0, 2, 5], [0, 0, 2, 6], [1, 0, 2, 6], [0, 0, 3, 3], [1, 0, 3, 3], [0, 0, 3, 4], [1, 0, 3, 4], [0, 0, 3, 5], [1, 0, 3, 5], [0, 0, 3, 6], [1, 0, 3, 6], [0, 0, 4, 4], [1, 0, 4, 4], [0, 0, 4, 5], [1, 0, 4, 5], [0, 0, 4, 6], [1, 0, 4, 6], [0, 1, 1, 1], [1, 1, 1, 1], [0, 1, 1, 2], [1, 1, 1, 2], [0, 1, 1, 3], [1, 1, 1, 3], [0, 1, 1, 4], [1, 1, 1, 4], [0, 1, 1, 5], [1, 1, 1, 5], [0, 1, 1, 6], [1, 1, 1, 6], [0, 1, 2, 2], [1, 1, 2, 2], [0, 1, 2, 3], [1, 1, 2, 3], [0, 1, 2, 4], [1, 1, 2, 4], [0, 1, 2, 5], [1, 1, 2, 5], [0, 1, 2, 6], [1, 1, 2, 6], [0, 1, 3, 3], [1, 1, 3, 3], [0, 1, 3, 4], [1, 1, 3, 4], [0, 1, 3, 5], [1, 1, 3, 5]]\n",
      "o_lis:[[0, 1, 3, 6], [1, 1, 3, 6]]\n",
      "now rst_list:[[0, 0, 0, 0], [1, 0, 0, 0], [0, 0, 0, 1], [1, 0, 0, 1], [0, 0, 0, 2], [1, 0, 0, 2], [0, 0, 0, 3], [1, 0, 0, 3], [0, 0, 0, 4], [1, 0, 0, 4], [0, 0, 0, 5], [1, 0, 0, 5], [0, 0, 0, 6], [1, 0, 0, 6], [0, 0, 1, 1], [1, 0, 1, 1], [0, 0, 1, 2], [1, 0, 1, 2], [0, 0, 1, 3], [1, 0, 1, 3], [0, 0, 1, 4], [1, 0, 1, 4], [0, 0, 1, 5], [1, 0, 1, 5], [0, 0, 1, 6], [1, 0, 1, 6], [0, 0, 2, 2], [1, 0, 2, 2], [0, 0, 2, 3], [1, 0, 2, 3], [0, 0, 2, 4], [1, 0, 2, 4], [0, 0, 2, 5], [1, 0, 2, 5], [0, 0, 2, 6], [1, 0, 2, 6], [0, 0, 3, 3], [1, 0, 3, 3], [0, 0, 3, 4], [1, 0, 3, 4], [0, 0, 3, 5], [1, 0, 3, 5], [0, 0, 3, 6], [1, 0, 3, 6], [0, 0, 4, 4], [1, 0, 4, 4], [0, 0, 4, 5], [1, 0, 4, 5], [0, 0, 4, 6], [1, 0, 4, 6], [0, 1, 1, 1], [1, 1, 1, 1], [0, 1, 1, 2], [1, 1, 1, 2], [0, 1, 1, 3], [1, 1, 1, 3], [0, 1, 1, 4], [1, 1, 1, 4], [0, 1, 1, 5], [1, 1, 1, 5], [0, 1, 1, 6], [1, 1, 1, 6], [0, 1, 2, 2], [1, 1, 2, 2], [0, 1, 2, 3], [1, 1, 2, 3], [0, 1, 2, 4], [1, 1, 2, 4], [0, 1, 2, 5], [1, 1, 2, 5], [0, 1, 2, 6], [1, 1, 2, 6], [0, 1, 3, 3], [1, 1, 3, 3], [0, 1, 3, 4], [1, 1, 3, 4], [0, 1, 3, 5], [1, 1, 3, 5], [0, 1, 3, 6], [1, 1, 3, 6]]\n",
      "o_lis:[[0, 1, 4, 4], [1, 1, 4, 4]]\n",
      "now rst_list:[[0, 0, 0, 0], [1, 0, 0, 0], [0, 0, 0, 1], [1, 0, 0, 1], [0, 0, 0, 2], [1, 0, 0, 2], [0, 0, 0, 3], [1, 0, 0, 3], [0, 0, 0, 4], [1, 0, 0, 4], [0, 0, 0, 5], [1, 0, 0, 5], [0, 0, 0, 6], [1, 0, 0, 6], [0, 0, 1, 1], [1, 0, 1, 1], [0, 0, 1, 2], [1, 0, 1, 2], [0, 0, 1, 3], [1, 0, 1, 3], [0, 0, 1, 4], [1, 0, 1, 4], [0, 0, 1, 5], [1, 0, 1, 5], [0, 0, 1, 6], [1, 0, 1, 6], [0, 0, 2, 2], [1, 0, 2, 2], [0, 0, 2, 3], [1, 0, 2, 3], [0, 0, 2, 4], [1, 0, 2, 4], [0, 0, 2, 5], [1, 0, 2, 5], [0, 0, 2, 6], [1, 0, 2, 6], [0, 0, 3, 3], [1, 0, 3, 3], [0, 0, 3, 4], [1, 0, 3, 4], [0, 0, 3, 5], [1, 0, 3, 5], [0, 0, 3, 6], [1, 0, 3, 6], [0, 0, 4, 4], [1, 0, 4, 4], [0, 0, 4, 5], [1, 0, 4, 5], [0, 0, 4, 6], [1, 0, 4, 6], [0, 1, 1, 1], [1, 1, 1, 1], [0, 1, 1, 2], [1, 1, 1, 2], [0, 1, 1, 3], [1, 1, 1, 3], [0, 1, 1, 4], [1, 1, 1, 4], [0, 1, 1, 5], [1, 1, 1, 5], [0, 1, 1, 6], [1, 1, 1, 6], [0, 1, 2, 2], [1, 1, 2, 2], [0, 1, 2, 3], [1, 1, 2, 3], [0, 1, 2, 4], [1, 1, 2, 4], [0, 1, 2, 5], [1, 1, 2, 5], [0, 1, 2, 6], [1, 1, 2, 6], [0, 1, 3, 3], [1, 1, 3, 3], [0, 1, 3, 4], [1, 1, 3, 4], [0, 1, 3, 5], [1, 1, 3, 5], [0, 1, 3, 6], [1, 1, 3, 6], [0, 1, 4, 4], [1, 1, 4, 4]]\n",
      "o_lis:[[0, 1, 4, 5], [1, 1, 4, 5]]\n",
      "now rst_list:[[0, 0, 0, 0], [1, 0, 0, 0], [0, 0, 0, 1], [1, 0, 0, 1], [0, 0, 0, 2], [1, 0, 0, 2], [0, 0, 0, 3], [1, 0, 0, 3], [0, 0, 0, 4], [1, 0, 0, 4], [0, 0, 0, 5], [1, 0, 0, 5], [0, 0, 0, 6], [1, 0, 0, 6], [0, 0, 1, 1], [1, 0, 1, 1], [0, 0, 1, 2], [1, 0, 1, 2], [0, 0, 1, 3], [1, 0, 1, 3], [0, 0, 1, 4], [1, 0, 1, 4], [0, 0, 1, 5], [1, 0, 1, 5], [0, 0, 1, 6], [1, 0, 1, 6], [0, 0, 2, 2], [1, 0, 2, 2], [0, 0, 2, 3], [1, 0, 2, 3], [0, 0, 2, 4], [1, 0, 2, 4], [0, 0, 2, 5], [1, 0, 2, 5], [0, 0, 2, 6], [1, 0, 2, 6], [0, 0, 3, 3], [1, 0, 3, 3], [0, 0, 3, 4], [1, 0, 3, 4], [0, 0, 3, 5], [1, 0, 3, 5], [0, 0, 3, 6], [1, 0, 3, 6], [0, 0, 4, 4], [1, 0, 4, 4], [0, 0, 4, 5], [1, 0, 4, 5], [0, 0, 4, 6], [1, 0, 4, 6], [0, 1, 1, 1], [1, 1, 1, 1], [0, 1, 1, 2], [1, 1, 1, 2], [0, 1, 1, 3], [1, 1, 1, 3], [0, 1, 1, 4], [1, 1, 1, 4], [0, 1, 1, 5], [1, 1, 1, 5], [0, 1, 1, 6], [1, 1, 1, 6], [0, 1, 2, 2], [1, 1, 2, 2], [0, 1, 2, 3], [1, 1, 2, 3], [0, 1, 2, 4], [1, 1, 2, 4], [0, 1, 2, 5], [1, 1, 2, 5], [0, 1, 2, 6], [1, 1, 2, 6], [0, 1, 3, 3], [1, 1, 3, 3], [0, 1, 3, 4], [1, 1, 3, 4], [0, 1, 3, 5], [1, 1, 3, 5], [0, 1, 3, 6], [1, 1, 3, 6], [0, 1, 4, 4], [1, 1, 4, 4], [0, 1, 4, 5], [1, 1, 4, 5]]\n",
      "o_lis:[[0, 1, 4, 6], [1, 1, 4, 6]]\n",
      "now rst_list:[[0, 0, 0, 0], [1, 0, 0, 0], [0, 0, 0, 1], [1, 0, 0, 1], [0, 0, 0, 2], [1, 0, 0, 2], [0, 0, 0, 3], [1, 0, 0, 3], [0, 0, 0, 4], [1, 0, 0, 4], [0, 0, 0, 5], [1, 0, 0, 5], [0, 0, 0, 6], [1, 0, 0, 6], [0, 0, 1, 1], [1, 0, 1, 1], [0, 0, 1, 2], [1, 0, 1, 2], [0, 0, 1, 3], [1, 0, 1, 3], [0, 0, 1, 4], [1, 0, 1, 4], [0, 0, 1, 5], [1, 0, 1, 5], [0, 0, 1, 6], [1, 0, 1, 6], [0, 0, 2, 2], [1, 0, 2, 2], [0, 0, 2, 3], [1, 0, 2, 3], [0, 0, 2, 4], [1, 0, 2, 4], [0, 0, 2, 5], [1, 0, 2, 5], [0, 0, 2, 6], [1, 0, 2, 6], [0, 0, 3, 3], [1, 0, 3, 3], [0, 0, 3, 4], [1, 0, 3, 4], [0, 0, 3, 5], [1, 0, 3, 5], [0, 0, 3, 6], [1, 0, 3, 6], [0, 0, 4, 4], [1, 0, 4, 4], [0, 0, 4, 5], [1, 0, 4, 5], [0, 0, 4, 6], [1, 0, 4, 6], [0, 1, 1, 1], [1, 1, 1, 1], [0, 1, 1, 2], [1, 1, 1, 2], [0, 1, 1, 3], [1, 1, 1, 3], [0, 1, 1, 4], [1, 1, 1, 4], [0, 1, 1, 5], [1, 1, 1, 5], [0, 1, 1, 6], [1, 1, 1, 6], [0, 1, 2, 2], [1, 1, 2, 2], [0, 1, 2, 3], [1, 1, 2, 3], [0, 1, 2, 4], [1, 1, 2, 4], [0, 1, 2, 5], [1, 1, 2, 5], [0, 1, 2, 6], [1, 1, 2, 6], [0, 1, 3, 3], [1, 1, 3, 3], [0, 1, 3, 4], [1, 1, 3, 4], [0, 1, 3, 5], [1, 1, 3, 5], [0, 1, 3, 6], [1, 1, 3, 6], [0, 1, 4, 4], [1, 1, 4, 4], [0, 1, 4, 5], [1, 1, 4, 5], [0, 1, 4, 6], [1, 1, 4, 6]]\n",
      "o_lis:[[0, 2, 2, 2], [1, 2, 2, 2]]\n",
      "now rst_list:[[0, 0, 0, 0], [1, 0, 0, 0], [0, 0, 0, 1], [1, 0, 0, 1], [0, 0, 0, 2], [1, 0, 0, 2], [0, 0, 0, 3], [1, 0, 0, 3], [0, 0, 0, 4], [1, 0, 0, 4], [0, 0, 0, 5], [1, 0, 0, 5], [0, 0, 0, 6], [1, 0, 0, 6], [0, 0, 1, 1], [1, 0, 1, 1], [0, 0, 1, 2], [1, 0, 1, 2], [0, 0, 1, 3], [1, 0, 1, 3], [0, 0, 1, 4], [1, 0, 1, 4], [0, 0, 1, 5], [1, 0, 1, 5], [0, 0, 1, 6], [1, 0, 1, 6], [0, 0, 2, 2], [1, 0, 2, 2], [0, 0, 2, 3], [1, 0, 2, 3], [0, 0, 2, 4], [1, 0, 2, 4], [0, 0, 2, 5], [1, 0, 2, 5], [0, 0, 2, 6], [1, 0, 2, 6], [0, 0, 3, 3], [1, 0, 3, 3], [0, 0, 3, 4], [1, 0, 3, 4], [0, 0, 3, 5], [1, 0, 3, 5], [0, 0, 3, 6], [1, 0, 3, 6], [0, 0, 4, 4], [1, 0, 4, 4], [0, 0, 4, 5], [1, 0, 4, 5], [0, 0, 4, 6], [1, 0, 4, 6], [0, 1, 1, 1], [1, 1, 1, 1], [0, 1, 1, 2], [1, 1, 1, 2], [0, 1, 1, 3], [1, 1, 1, 3], [0, 1, 1, 4], [1, 1, 1, 4], [0, 1, 1, 5], [1, 1, 1, 5], [0, 1, 1, 6], [1, 1, 1, 6], [0, 1, 2, 2], [1, 1, 2, 2], [0, 1, 2, 3], [1, 1, 2, 3], [0, 1, 2, 4], [1, 1, 2, 4], [0, 1, 2, 5], [1, 1, 2, 5], [0, 1, 2, 6], [1, 1, 2, 6], [0, 1, 3, 3], [1, 1, 3, 3], [0, 1, 3, 4], [1, 1, 3, 4], [0, 1, 3, 5], [1, 1, 3, 5], [0, 1, 3, 6], [1, 1, 3, 6], [0, 1, 4, 4], [1, 1, 4, 4], [0, 1, 4, 5], [1, 1, 4, 5], [0, 1, 4, 6], [1, 1, 4, 6], [0, 2, 2, 2], [1, 2, 2, 2]]\n",
      "o_lis:[[0, 2, 2, 3], [1, 2, 2, 3]]\n",
      "now rst_list:[[0, 0, 0, 0], [1, 0, 0, 0], [0, 0, 0, 1], [1, 0, 0, 1], [0, 0, 0, 2], [1, 0, 0, 2], [0, 0, 0, 3], [1, 0, 0, 3], [0, 0, 0, 4], [1, 0, 0, 4], [0, 0, 0, 5], [1, 0, 0, 5], [0, 0, 0, 6], [1, 0, 0, 6], [0, 0, 1, 1], [1, 0, 1, 1], [0, 0, 1, 2], [1, 0, 1, 2], [0, 0, 1, 3], [1, 0, 1, 3], [0, 0, 1, 4], [1, 0, 1, 4], [0, 0, 1, 5], [1, 0, 1, 5], [0, 0, 1, 6], [1, 0, 1, 6], [0, 0, 2, 2], [1, 0, 2, 2], [0, 0, 2, 3], [1, 0, 2, 3], [0, 0, 2, 4], [1, 0, 2, 4], [0, 0, 2, 5], [1, 0, 2, 5], [0, 0, 2, 6], [1, 0, 2, 6], [0, 0, 3, 3], [1, 0, 3, 3], [0, 0, 3, 4], [1, 0, 3, 4], [0, 0, 3, 5], [1, 0, 3, 5], [0, 0, 3, 6], [1, 0, 3, 6], [0, 0, 4, 4], [1, 0, 4, 4], [0, 0, 4, 5], [1, 0, 4, 5], [0, 0, 4, 6], [1, 0, 4, 6], [0, 1, 1, 1], [1, 1, 1, 1], [0, 1, 1, 2], [1, 1, 1, 2], [0, 1, 1, 3], [1, 1, 1, 3], [0, 1, 1, 4], [1, 1, 1, 4], [0, 1, 1, 5], [1, 1, 1, 5], [0, 1, 1, 6], [1, 1, 1, 6], [0, 1, 2, 2], [1, 1, 2, 2], [0, 1, 2, 3], [1, 1, 2, 3], [0, 1, 2, 4], [1, 1, 2, 4], [0, 1, 2, 5], [1, 1, 2, 5], [0, 1, 2, 6], [1, 1, 2, 6], [0, 1, 3, 3], [1, 1, 3, 3], [0, 1, 3, 4], [1, 1, 3, 4], [0, 1, 3, 5], [1, 1, 3, 5], [0, 1, 3, 6], [1, 1, 3, 6], [0, 1, 4, 4], [1, 1, 4, 4], [0, 1, 4, 5], [1, 1, 4, 5], [0, 1, 4, 6], [1, 1, 4, 6], [0, 2, 2, 2], [1, 2, 2, 2], [0, 2, 2, 3], [1, 2, 2, 3]]\n",
      "o_lis:[[0, 2, 2, 4], [1, 2, 2, 4]]\n",
      "now rst_list:[[0, 0, 0, 0], [1, 0, 0, 0], [0, 0, 0, 1], [1, 0, 0, 1], [0, 0, 0, 2], [1, 0, 0, 2], [0, 0, 0, 3], [1, 0, 0, 3], [0, 0, 0, 4], [1, 0, 0, 4], [0, 0, 0, 5], [1, 0, 0, 5], [0, 0, 0, 6], [1, 0, 0, 6], [0, 0, 1, 1], [1, 0, 1, 1], [0, 0, 1, 2], [1, 0, 1, 2], [0, 0, 1, 3], [1, 0, 1, 3], [0, 0, 1, 4], [1, 0, 1, 4], [0, 0, 1, 5], [1, 0, 1, 5], [0, 0, 1, 6], [1, 0, 1, 6], [0, 0, 2, 2], [1, 0, 2, 2], [0, 0, 2, 3], [1, 0, 2, 3], [0, 0, 2, 4], [1, 0, 2, 4], [0, 0, 2, 5], [1, 0, 2, 5], [0, 0, 2, 6], [1, 0, 2, 6], [0, 0, 3, 3], [1, 0, 3, 3], [0, 0, 3, 4], [1, 0, 3, 4], [0, 0, 3, 5], [1, 0, 3, 5], [0, 0, 3, 6], [1, 0, 3, 6], [0, 0, 4, 4], [1, 0, 4, 4], [0, 0, 4, 5], [1, 0, 4, 5], [0, 0, 4, 6], [1, 0, 4, 6], [0, 1, 1, 1], [1, 1, 1, 1], [0, 1, 1, 2], [1, 1, 1, 2], [0, 1, 1, 3], [1, 1, 1, 3], [0, 1, 1, 4], [1, 1, 1, 4], [0, 1, 1, 5], [1, 1, 1, 5], [0, 1, 1, 6], [1, 1, 1, 6], [0, 1, 2, 2], [1, 1, 2, 2], [0, 1, 2, 3], [1, 1, 2, 3], [0, 1, 2, 4], [1, 1, 2, 4], [0, 1, 2, 5], [1, 1, 2, 5], [0, 1, 2, 6], [1, 1, 2, 6], [0, 1, 3, 3], [1, 1, 3, 3], [0, 1, 3, 4], [1, 1, 3, 4], [0, 1, 3, 5], [1, 1, 3, 5], [0, 1, 3, 6], [1, 1, 3, 6], [0, 1, 4, 4], [1, 1, 4, 4], [0, 1, 4, 5], [1, 1, 4, 5], [0, 1, 4, 6], [1, 1, 4, 6], [0, 2, 2, 2], [1, 2, 2, 2], [0, 2, 2, 3], [1, 2, 2, 3], [0, 2, 2, 4], [1, 2, 2, 4]]\n",
      "o_lis:[[0, 2, 2, 5], [1, 2, 2, 5]]\n",
      "now rst_list:[[0, 0, 0, 0], [1, 0, 0, 0], [0, 0, 0, 1], [1, 0, 0, 1], [0, 0, 0, 2], [1, 0, 0, 2], [0, 0, 0, 3], [1, 0, 0, 3], [0, 0, 0, 4], [1, 0, 0, 4], [0, 0, 0, 5], [1, 0, 0, 5], [0, 0, 0, 6], [1, 0, 0, 6], [0, 0, 1, 1], [1, 0, 1, 1], [0, 0, 1, 2], [1, 0, 1, 2], [0, 0, 1, 3], [1, 0, 1, 3], [0, 0, 1, 4], [1, 0, 1, 4], [0, 0, 1, 5], [1, 0, 1, 5], [0, 0, 1, 6], [1, 0, 1, 6], [0, 0, 2, 2], [1, 0, 2, 2], [0, 0, 2, 3], [1, 0, 2, 3], [0, 0, 2, 4], [1, 0, 2, 4], [0, 0, 2, 5], [1, 0, 2, 5], [0, 0, 2, 6], [1, 0, 2, 6], [0, 0, 3, 3], [1, 0, 3, 3], [0, 0, 3, 4], [1, 0, 3, 4], [0, 0, 3, 5], [1, 0, 3, 5], [0, 0, 3, 6], [1, 0, 3, 6], [0, 0, 4, 4], [1, 0, 4, 4], [0, 0, 4, 5], [1, 0, 4, 5], [0, 0, 4, 6], [1, 0, 4, 6], [0, 1, 1, 1], [1, 1, 1, 1], [0, 1, 1, 2], [1, 1, 1, 2], [0, 1, 1, 3], [1, 1, 1, 3], [0, 1, 1, 4], [1, 1, 1, 4], [0, 1, 1, 5], [1, 1, 1, 5], [0, 1, 1, 6], [1, 1, 1, 6], [0, 1, 2, 2], [1, 1, 2, 2], [0, 1, 2, 3], [1, 1, 2, 3], [0, 1, 2, 4], [1, 1, 2, 4], [0, 1, 2, 5], [1, 1, 2, 5], [0, 1, 2, 6], [1, 1, 2, 6], [0, 1, 3, 3], [1, 1, 3, 3], [0, 1, 3, 4], [1, 1, 3, 4], [0, 1, 3, 5], [1, 1, 3, 5], [0, 1, 3, 6], [1, 1, 3, 6], [0, 1, 4, 4], [1, 1, 4, 4], [0, 1, 4, 5], [1, 1, 4, 5], [0, 1, 4, 6], [1, 1, 4, 6], [0, 2, 2, 2], [1, 2, 2, 2], [0, 2, 2, 3], [1, 2, 2, 3], [0, 2, 2, 4], [1, 2, 2, 4], [0, 2, 2, 5], [1, 2, 2, 5]]\n",
      "o_lis:[[0, 2, 2, 6], [1, 2, 2, 6]]\n",
      "now rst_list:[[0, 0, 0, 0], [1, 0, 0, 0], [0, 0, 0, 1], [1, 0, 0, 1], [0, 0, 0, 2], [1, 0, 0, 2], [0, 0, 0, 3], [1, 0, 0, 3], [0, 0, 0, 4], [1, 0, 0, 4], [0, 0, 0, 5], [1, 0, 0, 5], [0, 0, 0, 6], [1, 0, 0, 6], [0, 0, 1, 1], [1, 0, 1, 1], [0, 0, 1, 2], [1, 0, 1, 2], [0, 0, 1, 3], [1, 0, 1, 3], [0, 0, 1, 4], [1, 0, 1, 4], [0, 0, 1, 5], [1, 0, 1, 5], [0, 0, 1, 6], [1, 0, 1, 6], [0, 0, 2, 2], [1, 0, 2, 2], [0, 0, 2, 3], [1, 0, 2, 3], [0, 0, 2, 4], [1, 0, 2, 4], [0, 0, 2, 5], [1, 0, 2, 5], [0, 0, 2, 6], [1, 0, 2, 6], [0, 0, 3, 3], [1, 0, 3, 3], [0, 0, 3, 4], [1, 0, 3, 4], [0, 0, 3, 5], [1, 0, 3, 5], [0, 0, 3, 6], [1, 0, 3, 6], [0, 0, 4, 4], [1, 0, 4, 4], [0, 0, 4, 5], [1, 0, 4, 5], [0, 0, 4, 6], [1, 0, 4, 6], [0, 1, 1, 1], [1, 1, 1, 1], [0, 1, 1, 2], [1, 1, 1, 2], [0, 1, 1, 3], [1, 1, 1, 3], [0, 1, 1, 4], [1, 1, 1, 4], [0, 1, 1, 5], [1, 1, 1, 5], [0, 1, 1, 6], [1, 1, 1, 6], [0, 1, 2, 2], [1, 1, 2, 2], [0, 1, 2, 3], [1, 1, 2, 3], [0, 1, 2, 4], [1, 1, 2, 4], [0, 1, 2, 5], [1, 1, 2, 5], [0, 1, 2, 6], [1, 1, 2, 6], [0, 1, 3, 3], [1, 1, 3, 3], [0, 1, 3, 4], [1, 1, 3, 4], [0, 1, 3, 5], [1, 1, 3, 5], [0, 1, 3, 6], [1, 1, 3, 6], [0, 1, 4, 4], [1, 1, 4, 4], [0, 1, 4, 5], [1, 1, 4, 5], [0, 1, 4, 6], [1, 1, 4, 6], [0, 2, 2, 2], [1, 2, 2, 2], [0, 2, 2, 3], [1, 2, 2, 3], [0, 2, 2, 4], [1, 2, 2, 4], [0, 2, 2, 5], [1, 2, 2, 5], [0, 2, 2, 6], [1, 2, 2, 6]]\n",
      "o_lis:[[0, 2, 3, 3], [1, 2, 3, 3]]\n",
      "now rst_list:[[0, 0, 0, 0], [1, 0, 0, 0], [0, 0, 0, 1], [1, 0, 0, 1], [0, 0, 0, 2], [1, 0, 0, 2], [0, 0, 0, 3], [1, 0, 0, 3], [0, 0, 0, 4], [1, 0, 0, 4], [0, 0, 0, 5], [1, 0, 0, 5], [0, 0, 0, 6], [1, 0, 0, 6], [0, 0, 1, 1], [1, 0, 1, 1], [0, 0, 1, 2], [1, 0, 1, 2], [0, 0, 1, 3], [1, 0, 1, 3], [0, 0, 1, 4], [1, 0, 1, 4], [0, 0, 1, 5], [1, 0, 1, 5], [0, 0, 1, 6], [1, 0, 1, 6], [0, 0, 2, 2], [1, 0, 2, 2], [0, 0, 2, 3], [1, 0, 2, 3], [0, 0, 2, 4], [1, 0, 2, 4], [0, 0, 2, 5], [1, 0, 2, 5], [0, 0, 2, 6], [1, 0, 2, 6], [0, 0, 3, 3], [1, 0, 3, 3], [0, 0, 3, 4], [1, 0, 3, 4], [0, 0, 3, 5], [1, 0, 3, 5], [0, 0, 3, 6], [1, 0, 3, 6], [0, 0, 4, 4], [1, 0, 4, 4], [0, 0, 4, 5], [1, 0, 4, 5], [0, 0, 4, 6], [1, 0, 4, 6], [0, 1, 1, 1], [1, 1, 1, 1], [0, 1, 1, 2], [1, 1, 1, 2], [0, 1, 1, 3], [1, 1, 1, 3], [0, 1, 1, 4], [1, 1, 1, 4], [0, 1, 1, 5], [1, 1, 1, 5], [0, 1, 1, 6], [1, 1, 1, 6], [0, 1, 2, 2], [1, 1, 2, 2], [0, 1, 2, 3], [1, 1, 2, 3], [0, 1, 2, 4], [1, 1, 2, 4], [0, 1, 2, 5], [1, 1, 2, 5], [0, 1, 2, 6], [1, 1, 2, 6], [0, 1, 3, 3], [1, 1, 3, 3], [0, 1, 3, 4], [1, 1, 3, 4], [0, 1, 3, 5], [1, 1, 3, 5], [0, 1, 3, 6], [1, 1, 3, 6], [0, 1, 4, 4], [1, 1, 4, 4], [0, 1, 4, 5], [1, 1, 4, 5], [0, 1, 4, 6], [1, 1, 4, 6], [0, 2, 2, 2], [1, 2, 2, 2], [0, 2, 2, 3], [1, 2, 2, 3], [0, 2, 2, 4], [1, 2, 2, 4], [0, 2, 2, 5], [1, 2, 2, 5], [0, 2, 2, 6], [1, 2, 2, 6], [0, 2, 3, 3], [1, 2, 3, 3]]\n",
      "o_lis:[[0, 2, 3, 4], [1, 2, 3, 4]]\n",
      "now rst_list:[[0, 0, 0, 0], [1, 0, 0, 0], [0, 0, 0, 1], [1, 0, 0, 1], [0, 0, 0, 2], [1, 0, 0, 2], [0, 0, 0, 3], [1, 0, 0, 3], [0, 0, 0, 4], [1, 0, 0, 4], [0, 0, 0, 5], [1, 0, 0, 5], [0, 0, 0, 6], [1, 0, 0, 6], [0, 0, 1, 1], [1, 0, 1, 1], [0, 0, 1, 2], [1, 0, 1, 2], [0, 0, 1, 3], [1, 0, 1, 3], [0, 0, 1, 4], [1, 0, 1, 4], [0, 0, 1, 5], [1, 0, 1, 5], [0, 0, 1, 6], [1, 0, 1, 6], [0, 0, 2, 2], [1, 0, 2, 2], [0, 0, 2, 3], [1, 0, 2, 3], [0, 0, 2, 4], [1, 0, 2, 4], [0, 0, 2, 5], [1, 0, 2, 5], [0, 0, 2, 6], [1, 0, 2, 6], [0, 0, 3, 3], [1, 0, 3, 3], [0, 0, 3, 4], [1, 0, 3, 4], [0, 0, 3, 5], [1, 0, 3, 5], [0, 0, 3, 6], [1, 0, 3, 6], [0, 0, 4, 4], [1, 0, 4, 4], [0, 0, 4, 5], [1, 0, 4, 5], [0, 0, 4, 6], [1, 0, 4, 6], [0, 1, 1, 1], [1, 1, 1, 1], [0, 1, 1, 2], [1, 1, 1, 2], [0, 1, 1, 3], [1, 1, 1, 3], [0, 1, 1, 4], [1, 1, 1, 4], [0, 1, 1, 5], [1, 1, 1, 5], [0, 1, 1, 6], [1, 1, 1, 6], [0, 1, 2, 2], [1, 1, 2, 2], [0, 1, 2, 3], [1, 1, 2, 3], [0, 1, 2, 4], [1, 1, 2, 4], [0, 1, 2, 5], [1, 1, 2, 5], [0, 1, 2, 6], [1, 1, 2, 6], [0, 1, 3, 3], [1, 1, 3, 3], [0, 1, 3, 4], [1, 1, 3, 4], [0, 1, 3, 5], [1, 1, 3, 5], [0, 1, 3, 6], [1, 1, 3, 6], [0, 1, 4, 4], [1, 1, 4, 4], [0, 1, 4, 5], [1, 1, 4, 5], [0, 1, 4, 6], [1, 1, 4, 6], [0, 2, 2, 2], [1, 2, 2, 2], [0, 2, 2, 3], [1, 2, 2, 3], [0, 2, 2, 4], [1, 2, 2, 4], [0, 2, 2, 5], [1, 2, 2, 5], [0, 2, 2, 6], [1, 2, 2, 6], [0, 2, 3, 3], [1, 2, 3, 3], [0, 2, 3, 4], [1, 2, 3, 4]]\n",
      "o_lis:[[0, 2, 3, 5], [1, 2, 3, 5]]\n",
      "now rst_list:[[0, 0, 0, 0], [1, 0, 0, 0], [0, 0, 0, 1], [1, 0, 0, 1], [0, 0, 0, 2], [1, 0, 0, 2], [0, 0, 0, 3], [1, 0, 0, 3], [0, 0, 0, 4], [1, 0, 0, 4], [0, 0, 0, 5], [1, 0, 0, 5], [0, 0, 0, 6], [1, 0, 0, 6], [0, 0, 1, 1], [1, 0, 1, 1], [0, 0, 1, 2], [1, 0, 1, 2], [0, 0, 1, 3], [1, 0, 1, 3], [0, 0, 1, 4], [1, 0, 1, 4], [0, 0, 1, 5], [1, 0, 1, 5], [0, 0, 1, 6], [1, 0, 1, 6], [0, 0, 2, 2], [1, 0, 2, 2], [0, 0, 2, 3], [1, 0, 2, 3], [0, 0, 2, 4], [1, 0, 2, 4], [0, 0, 2, 5], [1, 0, 2, 5], [0, 0, 2, 6], [1, 0, 2, 6], [0, 0, 3, 3], [1, 0, 3, 3], [0, 0, 3, 4], [1, 0, 3, 4], [0, 0, 3, 5], [1, 0, 3, 5], [0, 0, 3, 6], [1, 0, 3, 6], [0, 0, 4, 4], [1, 0, 4, 4], [0, 0, 4, 5], [1, 0, 4, 5], [0, 0, 4, 6], [1, 0, 4, 6], [0, 1, 1, 1], [1, 1, 1, 1], [0, 1, 1, 2], [1, 1, 1, 2], [0, 1, 1, 3], [1, 1, 1, 3], [0, 1, 1, 4], [1, 1, 1, 4], [0, 1, 1, 5], [1, 1, 1, 5], [0, 1, 1, 6], [1, 1, 1, 6], [0, 1, 2, 2], [1, 1, 2, 2], [0, 1, 2, 3], [1, 1, 2, 3], [0, 1, 2, 4], [1, 1, 2, 4], [0, 1, 2, 5], [1, 1, 2, 5], [0, 1, 2, 6], [1, 1, 2, 6], [0, 1, 3, 3], [1, 1, 3, 3], [0, 1, 3, 4], [1, 1, 3, 4], [0, 1, 3, 5], [1, 1, 3, 5], [0, 1, 3, 6], [1, 1, 3, 6], [0, 1, 4, 4], [1, 1, 4, 4], [0, 1, 4, 5], [1, 1, 4, 5], [0, 1, 4, 6], [1, 1, 4, 6], [0, 2, 2, 2], [1, 2, 2, 2], [0, 2, 2, 3], [1, 2, 2, 3], [0, 2, 2, 4], [1, 2, 2, 4], [0, 2, 2, 5], [1, 2, 2, 5], [0, 2, 2, 6], [1, 2, 2, 6], [0, 2, 3, 3], [1, 2, 3, 3], [0, 2, 3, 4], [1, 2, 3, 4], [0, 2, 3, 5], [1, 2, 3, 5]]\n",
      "o_lis:[[0, 2, 3, 6], [1, 2, 3, 6]]\n",
      "now rst_list:[[0, 0, 0, 0], [1, 0, 0, 0], [0, 0, 0, 1], [1, 0, 0, 1], [0, 0, 0, 2], [1, 0, 0, 2], [0, 0, 0, 3], [1, 0, 0, 3], [0, 0, 0, 4], [1, 0, 0, 4], [0, 0, 0, 5], [1, 0, 0, 5], [0, 0, 0, 6], [1, 0, 0, 6], [0, 0, 1, 1], [1, 0, 1, 1], [0, 0, 1, 2], [1, 0, 1, 2], [0, 0, 1, 3], [1, 0, 1, 3], [0, 0, 1, 4], [1, 0, 1, 4], [0, 0, 1, 5], [1, 0, 1, 5], [0, 0, 1, 6], [1, 0, 1, 6], [0, 0, 2, 2], [1, 0, 2, 2], [0, 0, 2, 3], [1, 0, 2, 3], [0, 0, 2, 4], [1, 0, 2, 4], [0, 0, 2, 5], [1, 0, 2, 5], [0, 0, 2, 6], [1, 0, 2, 6], [0, 0, 3, 3], [1, 0, 3, 3], [0, 0, 3, 4], [1, 0, 3, 4], [0, 0, 3, 5], [1, 0, 3, 5], [0, 0, 3, 6], [1, 0, 3, 6], [0, 0, 4, 4], [1, 0, 4, 4], [0, 0, 4, 5], [1, 0, 4, 5], [0, 0, 4, 6], [1, 0, 4, 6], [0, 1, 1, 1], [1, 1, 1, 1], [0, 1, 1, 2], [1, 1, 1, 2], [0, 1, 1, 3], [1, 1, 1, 3], [0, 1, 1, 4], [1, 1, 1, 4], [0, 1, 1, 5], [1, 1, 1, 5], [0, 1, 1, 6], [1, 1, 1, 6], [0, 1, 2, 2], [1, 1, 2, 2], [0, 1, 2, 3], [1, 1, 2, 3], [0, 1, 2, 4], [1, 1, 2, 4], [0, 1, 2, 5], [1, 1, 2, 5], [0, 1, 2, 6], [1, 1, 2, 6], [0, 1, 3, 3], [1, 1, 3, 3], [0, 1, 3, 4], [1, 1, 3, 4], [0, 1, 3, 5], [1, 1, 3, 5], [0, 1, 3, 6], [1, 1, 3, 6], [0, 1, 4, 4], [1, 1, 4, 4], [0, 1, 4, 5], [1, 1, 4, 5], [0, 1, 4, 6], [1, 1, 4, 6], [0, 2, 2, 2], [1, 2, 2, 2], [0, 2, 2, 3], [1, 2, 2, 3], [0, 2, 2, 4], [1, 2, 2, 4], [0, 2, 2, 5], [1, 2, 2, 5], [0, 2, 2, 6], [1, 2, 2, 6], [0, 2, 3, 3], [1, 2, 3, 3], [0, 2, 3, 4], [1, 2, 3, 4], [0, 2, 3, 5], [1, 2, 3, 5], [0, 2, 3, 6], [1, 2, 3, 6]]\n",
      "o_lis:[[0, 2, 4, 4], [1, 2, 4, 4]]\n",
      "now rst_list:[[0, 0, 0, 0], [1, 0, 0, 0], [0, 0, 0, 1], [1, 0, 0, 1], [0, 0, 0, 2], [1, 0, 0, 2], [0, 0, 0, 3], [1, 0, 0, 3], [0, 0, 0, 4], [1, 0, 0, 4], [0, 0, 0, 5], [1, 0, 0, 5], [0, 0, 0, 6], [1, 0, 0, 6], [0, 0, 1, 1], [1, 0, 1, 1], [0, 0, 1, 2], [1, 0, 1, 2], [0, 0, 1, 3], [1, 0, 1, 3], [0, 0, 1, 4], [1, 0, 1, 4], [0, 0, 1, 5], [1, 0, 1, 5], [0, 0, 1, 6], [1, 0, 1, 6], [0, 0, 2, 2], [1, 0, 2, 2], [0, 0, 2, 3], [1, 0, 2, 3], [0, 0, 2, 4], [1, 0, 2, 4], [0, 0, 2, 5], [1, 0, 2, 5], [0, 0, 2, 6], [1, 0, 2, 6], [0, 0, 3, 3], [1, 0, 3, 3], [0, 0, 3, 4], [1, 0, 3, 4], [0, 0, 3, 5], [1, 0, 3, 5], [0, 0, 3, 6], [1, 0, 3, 6], [0, 0, 4, 4], [1, 0, 4, 4], [0, 0, 4, 5], [1, 0, 4, 5], [0, 0, 4, 6], [1, 0, 4, 6], [0, 1, 1, 1], [1, 1, 1, 1], [0, 1, 1, 2], [1, 1, 1, 2], [0, 1, 1, 3], [1, 1, 1, 3], [0, 1, 1, 4], [1, 1, 1, 4], [0, 1, 1, 5], [1, 1, 1, 5], [0, 1, 1, 6], [1, 1, 1, 6], [0, 1, 2, 2], [1, 1, 2, 2], [0, 1, 2, 3], [1, 1, 2, 3], [0, 1, 2, 4], [1, 1, 2, 4], [0, 1, 2, 5], [1, 1, 2, 5], [0, 1, 2, 6], [1, 1, 2, 6], [0, 1, 3, 3], [1, 1, 3, 3], [0, 1, 3, 4], [1, 1, 3, 4], [0, 1, 3, 5], [1, 1, 3, 5], [0, 1, 3, 6], [1, 1, 3, 6], [0, 1, 4, 4], [1, 1, 4, 4], [0, 1, 4, 5], [1, 1, 4, 5], [0, 1, 4, 6], [1, 1, 4, 6], [0, 2, 2, 2], [1, 2, 2, 2], [0, 2, 2, 3], [1, 2, 2, 3], [0, 2, 2, 4], [1, 2, 2, 4], [0, 2, 2, 5], [1, 2, 2, 5], [0, 2, 2, 6], [1, 2, 2, 6], [0, 2, 3, 3], [1, 2, 3, 3], [0, 2, 3, 4], [1, 2, 3, 4], [0, 2, 3, 5], [1, 2, 3, 5], [0, 2, 3, 6], [1, 2, 3, 6], [0, 2, 4, 4], [1, 2, 4, 4]]\n",
      "o_lis:[[0, 2, 4, 5], [1, 2, 4, 5]]\n",
      "now rst_list:[[0, 0, 0, 0], [1, 0, 0, 0], [0, 0, 0, 1], [1, 0, 0, 1], [0, 0, 0, 2], [1, 0, 0, 2], [0, 0, 0, 3], [1, 0, 0, 3], [0, 0, 0, 4], [1, 0, 0, 4], [0, 0, 0, 5], [1, 0, 0, 5], [0, 0, 0, 6], [1, 0, 0, 6], [0, 0, 1, 1], [1, 0, 1, 1], [0, 0, 1, 2], [1, 0, 1, 2], [0, 0, 1, 3], [1, 0, 1, 3], [0, 0, 1, 4], [1, 0, 1, 4], [0, 0, 1, 5], [1, 0, 1, 5], [0, 0, 1, 6], [1, 0, 1, 6], [0, 0, 2, 2], [1, 0, 2, 2], [0, 0, 2, 3], [1, 0, 2, 3], [0, 0, 2, 4], [1, 0, 2, 4], [0, 0, 2, 5], [1, 0, 2, 5], [0, 0, 2, 6], [1, 0, 2, 6], [0, 0, 3, 3], [1, 0, 3, 3], [0, 0, 3, 4], [1, 0, 3, 4], [0, 0, 3, 5], [1, 0, 3, 5], [0, 0, 3, 6], [1, 0, 3, 6], [0, 0, 4, 4], [1, 0, 4, 4], [0, 0, 4, 5], [1, 0, 4, 5], [0, 0, 4, 6], [1, 0, 4, 6], [0, 1, 1, 1], [1, 1, 1, 1], [0, 1, 1, 2], [1, 1, 1, 2], [0, 1, 1, 3], [1, 1, 1, 3], [0, 1, 1, 4], [1, 1, 1, 4], [0, 1, 1, 5], [1, 1, 1, 5], [0, 1, 1, 6], [1, 1, 1, 6], [0, 1, 2, 2], [1, 1, 2, 2], [0, 1, 2, 3], [1, 1, 2, 3], [0, 1, 2, 4], [1, 1, 2, 4], [0, 1, 2, 5], [1, 1, 2, 5], [0, 1, 2, 6], [1, 1, 2, 6], [0, 1, 3, 3], [1, 1, 3, 3], [0, 1, 3, 4], [1, 1, 3, 4], [0, 1, 3, 5], [1, 1, 3, 5], [0, 1, 3, 6], [1, 1, 3, 6], [0, 1, 4, 4], [1, 1, 4, 4], [0, 1, 4, 5], [1, 1, 4, 5], [0, 1, 4, 6], [1, 1, 4, 6], [0, 2, 2, 2], [1, 2, 2, 2], [0, 2, 2, 3], [1, 2, 2, 3], [0, 2, 2, 4], [1, 2, 2, 4], [0, 2, 2, 5], [1, 2, 2, 5], [0, 2, 2, 6], [1, 2, 2, 6], [0, 2, 3, 3], [1, 2, 3, 3], [0, 2, 3, 4], [1, 2, 3, 4], [0, 2, 3, 5], [1, 2, 3, 5], [0, 2, 3, 6], [1, 2, 3, 6], [0, 2, 4, 4], [1, 2, 4, 4], [0, 2, 4, 5], [1, 2, 4, 5]]\n",
      "o_lis:[[0, 2, 4, 6], [1, 2, 4, 6]]\n",
      "now rst_list:[[0, 0, 0, 0], [1, 0, 0, 0], [0, 0, 0, 1], [1, 0, 0, 1], [0, 0, 0, 2], [1, 0, 0, 2], [0, 0, 0, 3], [1, 0, 0, 3], [0, 0, 0, 4], [1, 0, 0, 4], [0, 0, 0, 5], [1, 0, 0, 5], [0, 0, 0, 6], [1, 0, 0, 6], [0, 0, 1, 1], [1, 0, 1, 1], [0, 0, 1, 2], [1, 0, 1, 2], [0, 0, 1, 3], [1, 0, 1, 3], [0, 0, 1, 4], [1, 0, 1, 4], [0, 0, 1, 5], [1, 0, 1, 5], [0, 0, 1, 6], [1, 0, 1, 6], [0, 0, 2, 2], [1, 0, 2, 2], [0, 0, 2, 3], [1, 0, 2, 3], [0, 0, 2, 4], [1, 0, 2, 4], [0, 0, 2, 5], [1, 0, 2, 5], [0, 0, 2, 6], [1, 0, 2, 6], [0, 0, 3, 3], [1, 0, 3, 3], [0, 0, 3, 4], [1, 0, 3, 4], [0, 0, 3, 5], [1, 0, 3, 5], [0, 0, 3, 6], [1, 0, 3, 6], [0, 0, 4, 4], [1, 0, 4, 4], [0, 0, 4, 5], [1, 0, 4, 5], [0, 0, 4, 6], [1, 0, 4, 6], [0, 1, 1, 1], [1, 1, 1, 1], [0, 1, 1, 2], [1, 1, 1, 2], [0, 1, 1, 3], [1, 1, 1, 3], [0, 1, 1, 4], [1, 1, 1, 4], [0, 1, 1, 5], [1, 1, 1, 5], [0, 1, 1, 6], [1, 1, 1, 6], [0, 1, 2, 2], [1, 1, 2, 2], [0, 1, 2, 3], [1, 1, 2, 3], [0, 1, 2, 4], [1, 1, 2, 4], [0, 1, 2, 5], [1, 1, 2, 5], [0, 1, 2, 6], [1, 1, 2, 6], [0, 1, 3, 3], [1, 1, 3, 3], [0, 1, 3, 4], [1, 1, 3, 4], [0, 1, 3, 5], [1, 1, 3, 5], [0, 1, 3, 6], [1, 1, 3, 6], [0, 1, 4, 4], [1, 1, 4, 4], [0, 1, 4, 5], [1, 1, 4, 5], [0, 1, 4, 6], [1, 1, 4, 6], [0, 2, 2, 2], [1, 2, 2, 2], [0, 2, 2, 3], [1, 2, 2, 3], [0, 2, 2, 4], [1, 2, 2, 4], [0, 2, 2, 5], [1, 2, 2, 5], [0, 2, 2, 6], [1, 2, 2, 6], [0, 2, 3, 3], [1, 2, 3, 3], [0, 2, 3, 4], [1, 2, 3, 4], [0, 2, 3, 5], [1, 2, 3, 5], [0, 2, 3, 6], [1, 2, 3, 6], [0, 2, 4, 4], [1, 2, 4, 4], [0, 2, 4, 5], [1, 2, 4, 5], [0, 2, 4, 6], [1, 2, 4, 6]]\n",
      "o_lis:[[0, 3, 3, 3], [1, 3, 3, 3]]\n",
      "now rst_list:[[0, 0, 0, 0], [1, 0, 0, 0], [0, 0, 0, 1], [1, 0, 0, 1], [0, 0, 0, 2], [1, 0, 0, 2], [0, 0, 0, 3], [1, 0, 0, 3], [0, 0, 0, 4], [1, 0, 0, 4], [0, 0, 0, 5], [1, 0, 0, 5], [0, 0, 0, 6], [1, 0, 0, 6], [0, 0, 1, 1], [1, 0, 1, 1], [0, 0, 1, 2], [1, 0, 1, 2], [0, 0, 1, 3], [1, 0, 1, 3], [0, 0, 1, 4], [1, 0, 1, 4], [0, 0, 1, 5], [1, 0, 1, 5], [0, 0, 1, 6], [1, 0, 1, 6], [0, 0, 2, 2], [1, 0, 2, 2], [0, 0, 2, 3], [1, 0, 2, 3], [0, 0, 2, 4], [1, 0, 2, 4], [0, 0, 2, 5], [1, 0, 2, 5], [0, 0, 2, 6], [1, 0, 2, 6], [0, 0, 3, 3], [1, 0, 3, 3], [0, 0, 3, 4], [1, 0, 3, 4], [0, 0, 3, 5], [1, 0, 3, 5], [0, 0, 3, 6], [1, 0, 3, 6], [0, 0, 4, 4], [1, 0, 4, 4], [0, 0, 4, 5], [1, 0, 4, 5], [0, 0, 4, 6], [1, 0, 4, 6], [0, 1, 1, 1], [1, 1, 1, 1], [0, 1, 1, 2], [1, 1, 1, 2], [0, 1, 1, 3], [1, 1, 1, 3], [0, 1, 1, 4], [1, 1, 1, 4], [0, 1, 1, 5], [1, 1, 1, 5], [0, 1, 1, 6], [1, 1, 1, 6], [0, 1, 2, 2], [1, 1, 2, 2], [0, 1, 2, 3], [1, 1, 2, 3], [0, 1, 2, 4], [1, 1, 2, 4], [0, 1, 2, 5], [1, 1, 2, 5], [0, 1, 2, 6], [1, 1, 2, 6], [0, 1, 3, 3], [1, 1, 3, 3], [0, 1, 3, 4], [1, 1, 3, 4], [0, 1, 3, 5], [1, 1, 3, 5], [0, 1, 3, 6], [1, 1, 3, 6], [0, 1, 4, 4], [1, 1, 4, 4], [0, 1, 4, 5], [1, 1, 4, 5], [0, 1, 4, 6], [1, 1, 4, 6], [0, 2, 2, 2], [1, 2, 2, 2], [0, 2, 2, 3], [1, 2, 2, 3], [0, 2, 2, 4], [1, 2, 2, 4], [0, 2, 2, 5], [1, 2, 2, 5], [0, 2, 2, 6], [1, 2, 2, 6], [0, 2, 3, 3], [1, 2, 3, 3], [0, 2, 3, 4], [1, 2, 3, 4], [0, 2, 3, 5], [1, 2, 3, 5], [0, 2, 3, 6], [1, 2, 3, 6], [0, 2, 4, 4], [1, 2, 4, 4], [0, 2, 4, 5], [1, 2, 4, 5], [0, 2, 4, 6], [1, 2, 4, 6], [0, 3, 3, 3], [1, 3, 3, 3]]\n",
      "o_lis:[[0, 3, 3, 4], [1, 3, 3, 4]]\n",
      "now rst_list:[[0, 0, 0, 0], [1, 0, 0, 0], [0, 0, 0, 1], [1, 0, 0, 1], [0, 0, 0, 2], [1, 0, 0, 2], [0, 0, 0, 3], [1, 0, 0, 3], [0, 0, 0, 4], [1, 0, 0, 4], [0, 0, 0, 5], [1, 0, 0, 5], [0, 0, 0, 6], [1, 0, 0, 6], [0, 0, 1, 1], [1, 0, 1, 1], [0, 0, 1, 2], [1, 0, 1, 2], [0, 0, 1, 3], [1, 0, 1, 3], [0, 0, 1, 4], [1, 0, 1, 4], [0, 0, 1, 5], [1, 0, 1, 5], [0, 0, 1, 6], [1, 0, 1, 6], [0, 0, 2, 2], [1, 0, 2, 2], [0, 0, 2, 3], [1, 0, 2, 3], [0, 0, 2, 4], [1, 0, 2, 4], [0, 0, 2, 5], [1, 0, 2, 5], [0, 0, 2, 6], [1, 0, 2, 6], [0, 0, 3, 3], [1, 0, 3, 3], [0, 0, 3, 4], [1, 0, 3, 4], [0, 0, 3, 5], [1, 0, 3, 5], [0, 0, 3, 6], [1, 0, 3, 6], [0, 0, 4, 4], [1, 0, 4, 4], [0, 0, 4, 5], [1, 0, 4, 5], [0, 0, 4, 6], [1, 0, 4, 6], [0, 1, 1, 1], [1, 1, 1, 1], [0, 1, 1, 2], [1, 1, 1, 2], [0, 1, 1, 3], [1, 1, 1, 3], [0, 1, 1, 4], [1, 1, 1, 4], [0, 1, 1, 5], [1, 1, 1, 5], [0, 1, 1, 6], [1, 1, 1, 6], [0, 1, 2, 2], [1, 1, 2, 2], [0, 1, 2, 3], [1, 1, 2, 3], [0, 1, 2, 4], [1, 1, 2, 4], [0, 1, 2, 5], [1, 1, 2, 5], [0, 1, 2, 6], [1, 1, 2, 6], [0, 1, 3, 3], [1, 1, 3, 3], [0, 1, 3, 4], [1, 1, 3, 4], [0, 1, 3, 5], [1, 1, 3, 5], [0, 1, 3, 6], [1, 1, 3, 6], [0, 1, 4, 4], [1, 1, 4, 4], [0, 1, 4, 5], [1, 1, 4, 5], [0, 1, 4, 6], [1, 1, 4, 6], [0, 2, 2, 2], [1, 2, 2, 2], [0, 2, 2, 3], [1, 2, 2, 3], [0, 2, 2, 4], [1, 2, 2, 4], [0, 2, 2, 5], [1, 2, 2, 5], [0, 2, 2, 6], [1, 2, 2, 6], [0, 2, 3, 3], [1, 2, 3, 3], [0, 2, 3, 4], [1, 2, 3, 4], [0, 2, 3, 5], [1, 2, 3, 5], [0, 2, 3, 6], [1, 2, 3, 6], [0, 2, 4, 4], [1, 2, 4, 4], [0, 2, 4, 5], [1, 2, 4, 5], [0, 2, 4, 6], [1, 2, 4, 6], [0, 3, 3, 3], [1, 3, 3, 3], [0, 3, 3, 4], [1, 3, 3, 4]]\n",
      "o_lis:[[0, 3, 3, 5], [1, 3, 3, 5]]\n",
      "now rst_list:[[0, 0, 0, 0], [1, 0, 0, 0], [0, 0, 0, 1], [1, 0, 0, 1], [0, 0, 0, 2], [1, 0, 0, 2], [0, 0, 0, 3], [1, 0, 0, 3], [0, 0, 0, 4], [1, 0, 0, 4], [0, 0, 0, 5], [1, 0, 0, 5], [0, 0, 0, 6], [1, 0, 0, 6], [0, 0, 1, 1], [1, 0, 1, 1], [0, 0, 1, 2], [1, 0, 1, 2], [0, 0, 1, 3], [1, 0, 1, 3], [0, 0, 1, 4], [1, 0, 1, 4], [0, 0, 1, 5], [1, 0, 1, 5], [0, 0, 1, 6], [1, 0, 1, 6], [0, 0, 2, 2], [1, 0, 2, 2], [0, 0, 2, 3], [1, 0, 2, 3], [0, 0, 2, 4], [1, 0, 2, 4], [0, 0, 2, 5], [1, 0, 2, 5], [0, 0, 2, 6], [1, 0, 2, 6], [0, 0, 3, 3], [1, 0, 3, 3], [0, 0, 3, 4], [1, 0, 3, 4], [0, 0, 3, 5], [1, 0, 3, 5], [0, 0, 3, 6], [1, 0, 3, 6], [0, 0, 4, 4], [1, 0, 4, 4], [0, 0, 4, 5], [1, 0, 4, 5], [0, 0, 4, 6], [1, 0, 4, 6], [0, 1, 1, 1], [1, 1, 1, 1], [0, 1, 1, 2], [1, 1, 1, 2], [0, 1, 1, 3], [1, 1, 1, 3], [0, 1, 1, 4], [1, 1, 1, 4], [0, 1, 1, 5], [1, 1, 1, 5], [0, 1, 1, 6], [1, 1, 1, 6], [0, 1, 2, 2], [1, 1, 2, 2], [0, 1, 2, 3], [1, 1, 2, 3], [0, 1, 2, 4], [1, 1, 2, 4], [0, 1, 2, 5], [1, 1, 2, 5], [0, 1, 2, 6], [1, 1, 2, 6], [0, 1, 3, 3], [1, 1, 3, 3], [0, 1, 3, 4], [1, 1, 3, 4], [0, 1, 3, 5], [1, 1, 3, 5], [0, 1, 3, 6], [1, 1, 3, 6], [0, 1, 4, 4], [1, 1, 4, 4], [0, 1, 4, 5], [1, 1, 4, 5], [0, 1, 4, 6], [1, 1, 4, 6], [0, 2, 2, 2], [1, 2, 2, 2], [0, 2, 2, 3], [1, 2, 2, 3], [0, 2, 2, 4], [1, 2, 2, 4], [0, 2, 2, 5], [1, 2, 2, 5], [0, 2, 2, 6], [1, 2, 2, 6], [0, 2, 3, 3], [1, 2, 3, 3], [0, 2, 3, 4], [1, 2, 3, 4], [0, 2, 3, 5], [1, 2, 3, 5], [0, 2, 3, 6], [1, 2, 3, 6], [0, 2, 4, 4], [1, 2, 4, 4], [0, 2, 4, 5], [1, 2, 4, 5], [0, 2, 4, 6], [1, 2, 4, 6], [0, 3, 3, 3], [1, 3, 3, 3], [0, 3, 3, 4], [1, 3, 3, 4], [0, 3, 3, 5], [1, 3, 3, 5]]\n",
      "o_lis:[[0, 3, 3, 6], [1, 3, 3, 6]]\n",
      "now rst_list:[[0, 0, 0, 0], [1, 0, 0, 0], [0, 0, 0, 1], [1, 0, 0, 1], [0, 0, 0, 2], [1, 0, 0, 2], [0, 0, 0, 3], [1, 0, 0, 3], [0, 0, 0, 4], [1, 0, 0, 4], [0, 0, 0, 5], [1, 0, 0, 5], [0, 0, 0, 6], [1, 0, 0, 6], [0, 0, 1, 1], [1, 0, 1, 1], [0, 0, 1, 2], [1, 0, 1, 2], [0, 0, 1, 3], [1, 0, 1, 3], [0, 0, 1, 4], [1, 0, 1, 4], [0, 0, 1, 5], [1, 0, 1, 5], [0, 0, 1, 6], [1, 0, 1, 6], [0, 0, 2, 2], [1, 0, 2, 2], [0, 0, 2, 3], [1, 0, 2, 3], [0, 0, 2, 4], [1, 0, 2, 4], [0, 0, 2, 5], [1, 0, 2, 5], [0, 0, 2, 6], [1, 0, 2, 6], [0, 0, 3, 3], [1, 0, 3, 3], [0, 0, 3, 4], [1, 0, 3, 4], [0, 0, 3, 5], [1, 0, 3, 5], [0, 0, 3, 6], [1, 0, 3, 6], [0, 0, 4, 4], [1, 0, 4, 4], [0, 0, 4, 5], [1, 0, 4, 5], [0, 0, 4, 6], [1, 0, 4, 6], [0, 1, 1, 1], [1, 1, 1, 1], [0, 1, 1, 2], [1, 1, 1, 2], [0, 1, 1, 3], [1, 1, 1, 3], [0, 1, 1, 4], [1, 1, 1, 4], [0, 1, 1, 5], [1, 1, 1, 5], [0, 1, 1, 6], [1, 1, 1, 6], [0, 1, 2, 2], [1, 1, 2, 2], [0, 1, 2, 3], [1, 1, 2, 3], [0, 1, 2, 4], [1, 1, 2, 4], [0, 1, 2, 5], [1, 1, 2, 5], [0, 1, 2, 6], [1, 1, 2, 6], [0, 1, 3, 3], [1, 1, 3, 3], [0, 1, 3, 4], [1, 1, 3, 4], [0, 1, 3, 5], [1, 1, 3, 5], [0, 1, 3, 6], [1, 1, 3, 6], [0, 1, 4, 4], [1, 1, 4, 4], [0, 1, 4, 5], [1, 1, 4, 5], [0, 1, 4, 6], [1, 1, 4, 6], [0, 2, 2, 2], [1, 2, 2, 2], [0, 2, 2, 3], [1, 2, 2, 3], [0, 2, 2, 4], [1, 2, 2, 4], [0, 2, 2, 5], [1, 2, 2, 5], [0, 2, 2, 6], [1, 2, 2, 6], [0, 2, 3, 3], [1, 2, 3, 3], [0, 2, 3, 4], [1, 2, 3, 4], [0, 2, 3, 5], [1, 2, 3, 5], [0, 2, 3, 6], [1, 2, 3, 6], [0, 2, 4, 4], [1, 2, 4, 4], [0, 2, 4, 5], [1, 2, 4, 5], [0, 2, 4, 6], [1, 2, 4, 6], [0, 3, 3, 3], [1, 3, 3, 3], [0, 3, 3, 4], [1, 3, 3, 4], [0, 3, 3, 5], [1, 3, 3, 5], [0, 3, 3, 6], [1, 3, 3, 6]]\n",
      "o_lis:[[0, 3, 4, 4], [1, 3, 4, 4]]\n",
      "now rst_list:[[0, 0, 0, 0], [1, 0, 0, 0], [0, 0, 0, 1], [1, 0, 0, 1], [0, 0, 0, 2], [1, 0, 0, 2], [0, 0, 0, 3], [1, 0, 0, 3], [0, 0, 0, 4], [1, 0, 0, 4], [0, 0, 0, 5], [1, 0, 0, 5], [0, 0, 0, 6], [1, 0, 0, 6], [0, 0, 1, 1], [1, 0, 1, 1], [0, 0, 1, 2], [1, 0, 1, 2], [0, 0, 1, 3], [1, 0, 1, 3], [0, 0, 1, 4], [1, 0, 1, 4], [0, 0, 1, 5], [1, 0, 1, 5], [0, 0, 1, 6], [1, 0, 1, 6], [0, 0, 2, 2], [1, 0, 2, 2], [0, 0, 2, 3], [1, 0, 2, 3], [0, 0, 2, 4], [1, 0, 2, 4], [0, 0, 2, 5], [1, 0, 2, 5], [0, 0, 2, 6], [1, 0, 2, 6], [0, 0, 3, 3], [1, 0, 3, 3], [0, 0, 3, 4], [1, 0, 3, 4], [0, 0, 3, 5], [1, 0, 3, 5], [0, 0, 3, 6], [1, 0, 3, 6], [0, 0, 4, 4], [1, 0, 4, 4], [0, 0, 4, 5], [1, 0, 4, 5], [0, 0, 4, 6], [1, 0, 4, 6], [0, 1, 1, 1], [1, 1, 1, 1], [0, 1, 1, 2], [1, 1, 1, 2], [0, 1, 1, 3], [1, 1, 1, 3], [0, 1, 1, 4], [1, 1, 1, 4], [0, 1, 1, 5], [1, 1, 1, 5], [0, 1, 1, 6], [1, 1, 1, 6], [0, 1, 2, 2], [1, 1, 2, 2], [0, 1, 2, 3], [1, 1, 2, 3], [0, 1, 2, 4], [1, 1, 2, 4], [0, 1, 2, 5], [1, 1, 2, 5], [0, 1, 2, 6], [1, 1, 2, 6], [0, 1, 3, 3], [1, 1, 3, 3], [0, 1, 3, 4], [1, 1, 3, 4], [0, 1, 3, 5], [1, 1, 3, 5], [0, 1, 3, 6], [1, 1, 3, 6], [0, 1, 4, 4], [1, 1, 4, 4], [0, 1, 4, 5], [1, 1, 4, 5], [0, 1, 4, 6], [1, 1, 4, 6], [0, 2, 2, 2], [1, 2, 2, 2], [0, 2, 2, 3], [1, 2, 2, 3], [0, 2, 2, 4], [1, 2, 2, 4], [0, 2, 2, 5], [1, 2, 2, 5], [0, 2, 2, 6], [1, 2, 2, 6], [0, 2, 3, 3], [1, 2, 3, 3], [0, 2, 3, 4], [1, 2, 3, 4], [0, 2, 3, 5], [1, 2, 3, 5], [0, 2, 3, 6], [1, 2, 3, 6], [0, 2, 4, 4], [1, 2, 4, 4], [0, 2, 4, 5], [1, 2, 4, 5], [0, 2, 4, 6], [1, 2, 4, 6], [0, 3, 3, 3], [1, 3, 3, 3], [0, 3, 3, 4], [1, 3, 3, 4], [0, 3, 3, 5], [1, 3, 3, 5], [0, 3, 3, 6], [1, 3, 3, 6], [0, 3, 4, 4], [1, 3, 4, 4]]\n",
      "o_lis:[[0, 3, 4, 5], [1, 3, 4, 5]]\n",
      "now rst_list:[[0, 0, 0, 0], [1, 0, 0, 0], [0, 0, 0, 1], [1, 0, 0, 1], [0, 0, 0, 2], [1, 0, 0, 2], [0, 0, 0, 3], [1, 0, 0, 3], [0, 0, 0, 4], [1, 0, 0, 4], [0, 0, 0, 5], [1, 0, 0, 5], [0, 0, 0, 6], [1, 0, 0, 6], [0, 0, 1, 1], [1, 0, 1, 1], [0, 0, 1, 2], [1, 0, 1, 2], [0, 0, 1, 3], [1, 0, 1, 3], [0, 0, 1, 4], [1, 0, 1, 4], [0, 0, 1, 5], [1, 0, 1, 5], [0, 0, 1, 6], [1, 0, 1, 6], [0, 0, 2, 2], [1, 0, 2, 2], [0, 0, 2, 3], [1, 0, 2, 3], [0, 0, 2, 4], [1, 0, 2, 4], [0, 0, 2, 5], [1, 0, 2, 5], [0, 0, 2, 6], [1, 0, 2, 6], [0, 0, 3, 3], [1, 0, 3, 3], [0, 0, 3, 4], [1, 0, 3, 4], [0, 0, 3, 5], [1, 0, 3, 5], [0, 0, 3, 6], [1, 0, 3, 6], [0, 0, 4, 4], [1, 0, 4, 4], [0, 0, 4, 5], [1, 0, 4, 5], [0, 0, 4, 6], [1, 0, 4, 6], [0, 1, 1, 1], [1, 1, 1, 1], [0, 1, 1, 2], [1, 1, 1, 2], [0, 1, 1, 3], [1, 1, 1, 3], [0, 1, 1, 4], [1, 1, 1, 4], [0, 1, 1, 5], [1, 1, 1, 5], [0, 1, 1, 6], [1, 1, 1, 6], [0, 1, 2, 2], [1, 1, 2, 2], [0, 1, 2, 3], [1, 1, 2, 3], [0, 1, 2, 4], [1, 1, 2, 4], [0, 1, 2, 5], [1, 1, 2, 5], [0, 1, 2, 6], [1, 1, 2, 6], [0, 1, 3, 3], [1, 1, 3, 3], [0, 1, 3, 4], [1, 1, 3, 4], [0, 1, 3, 5], [1, 1, 3, 5], [0, 1, 3, 6], [1, 1, 3, 6], [0, 1, 4, 4], [1, 1, 4, 4], [0, 1, 4, 5], [1, 1, 4, 5], [0, 1, 4, 6], [1, 1, 4, 6], [0, 2, 2, 2], [1, 2, 2, 2], [0, 2, 2, 3], [1, 2, 2, 3], [0, 2, 2, 4], [1, 2, 2, 4], [0, 2, 2, 5], [1, 2, 2, 5], [0, 2, 2, 6], [1, 2, 2, 6], [0, 2, 3, 3], [1, 2, 3, 3], [0, 2, 3, 4], [1, 2, 3, 4], [0, 2, 3, 5], [1, 2, 3, 5], [0, 2, 3, 6], [1, 2, 3, 6], [0, 2, 4, 4], [1, 2, 4, 4], [0, 2, 4, 5], [1, 2, 4, 5], [0, 2, 4, 6], [1, 2, 4, 6], [0, 3, 3, 3], [1, 3, 3, 3], [0, 3, 3, 4], [1, 3, 3, 4], [0, 3, 3, 5], [1, 3, 3, 5], [0, 3, 3, 6], [1, 3, 3, 6], [0, 3, 4, 4], [1, 3, 4, 4], [0, 3, 4, 5], [1, 3, 4, 5]]\n",
      "o_lis:[[0, 3, 4, 6], [1, 3, 4, 6]]\n",
      "now rst_list:[[0, 0, 0, 0], [1, 0, 0, 0], [0, 0, 0, 1], [1, 0, 0, 1], [0, 0, 0, 2], [1, 0, 0, 2], [0, 0, 0, 3], [1, 0, 0, 3], [0, 0, 0, 4], [1, 0, 0, 4], [0, 0, 0, 5], [1, 0, 0, 5], [0, 0, 0, 6], [1, 0, 0, 6], [0, 0, 1, 1], [1, 0, 1, 1], [0, 0, 1, 2], [1, 0, 1, 2], [0, 0, 1, 3], [1, 0, 1, 3], [0, 0, 1, 4], [1, 0, 1, 4], [0, 0, 1, 5], [1, 0, 1, 5], [0, 0, 1, 6], [1, 0, 1, 6], [0, 0, 2, 2], [1, 0, 2, 2], [0, 0, 2, 3], [1, 0, 2, 3], [0, 0, 2, 4], [1, 0, 2, 4], [0, 0, 2, 5], [1, 0, 2, 5], [0, 0, 2, 6], [1, 0, 2, 6], [0, 0, 3, 3], [1, 0, 3, 3], [0, 0, 3, 4], [1, 0, 3, 4], [0, 0, 3, 5], [1, 0, 3, 5], [0, 0, 3, 6], [1, 0, 3, 6], [0, 0, 4, 4], [1, 0, 4, 4], [0, 0, 4, 5], [1, 0, 4, 5], [0, 0, 4, 6], [1, 0, 4, 6], [0, 1, 1, 1], [1, 1, 1, 1], [0, 1, 1, 2], [1, 1, 1, 2], [0, 1, 1, 3], [1, 1, 1, 3], [0, 1, 1, 4], [1, 1, 1, 4], [0, 1, 1, 5], [1, 1, 1, 5], [0, 1, 1, 6], [1, 1, 1, 6], [0, 1, 2, 2], [1, 1, 2, 2], [0, 1, 2, 3], [1, 1, 2, 3], [0, 1, 2, 4], [1, 1, 2, 4], [0, 1, 2, 5], [1, 1, 2, 5], [0, 1, 2, 6], [1, 1, 2, 6], [0, 1, 3, 3], [1, 1, 3, 3], [0, 1, 3, 4], [1, 1, 3, 4], [0, 1, 3, 5], [1, 1, 3, 5], [0, 1, 3, 6], [1, 1, 3, 6], [0, 1, 4, 4], [1, 1, 4, 4], [0, 1, 4, 5], [1, 1, 4, 5], [0, 1, 4, 6], [1, 1, 4, 6], [0, 2, 2, 2], [1, 2, 2, 2], [0, 2, 2, 3], [1, 2, 2, 3], [0, 2, 2, 4], [1, 2, 2, 4], [0, 2, 2, 5], [1, 2, 2, 5], [0, 2, 2, 6], [1, 2, 2, 6], [0, 2, 3, 3], [1, 2, 3, 3], [0, 2, 3, 4], [1, 2, 3, 4], [0, 2, 3, 5], [1, 2, 3, 5], [0, 2, 3, 6], [1, 2, 3, 6], [0, 2, 4, 4], [1, 2, 4, 4], [0, 2, 4, 5], [1, 2, 4, 5], [0, 2, 4, 6], [1, 2, 4, 6], [0, 3, 3, 3], [1, 3, 3, 3], [0, 3, 3, 4], [1, 3, 3, 4], [0, 3, 3, 5], [1, 3, 3, 5], [0, 3, 3, 6], [1, 3, 3, 6], [0, 3, 4, 4], [1, 3, 4, 4], [0, 3, 4, 5], [1, 3, 4, 5], [0, 3, 4, 6], [1, 3, 4, 6]]\n",
      "124, del_three_level_lis:[[0, 0, 0, 0], [1, 0, 0, 0], [0, 0, 0, 1], [1, 0, 0, 1], [0, 0, 0, 2], [1, 0, 0, 2], [0, 0, 0, 3], [1, 0, 0, 3], [0, 0, 0, 4], [1, 0, 0, 4], [0, 0, 0, 5], [1, 0, 0, 5], [0, 0, 0, 6], [1, 0, 0, 6], [0, 0, 1, 1], [1, 0, 1, 1], [0, 0, 1, 2], [1, 0, 1, 2], [0, 0, 1, 3], [1, 0, 1, 3], [0, 0, 1, 4], [1, 0, 1, 4], [0, 0, 1, 5], [1, 0, 1, 5], [0, 0, 1, 6], [1, 0, 1, 6], [0, 0, 2, 2], [1, 0, 2, 2], [0, 0, 2, 3], [1, 0, 2, 3], [0, 0, 2, 4], [1, 0, 2, 4], [0, 0, 2, 5], [1, 0, 2, 5], [0, 0, 2, 6], [1, 0, 2, 6], [0, 0, 3, 3], [1, 0, 3, 3], [0, 0, 3, 4], [1, 0, 3, 4], [0, 0, 3, 5], [1, 0, 3, 5], [0, 0, 3, 6], [1, 0, 3, 6], [0, 0, 4, 4], [1, 0, 4, 4], [0, 0, 4, 5], [1, 0, 4, 5], [0, 0, 4, 6], [1, 0, 4, 6], [0, 1, 1, 1], [1, 1, 1, 1], [0, 1, 1, 2], [1, 1, 1, 2], [0, 1, 1, 3], [1, 1, 1, 3], [0, 1, 1, 4], [1, 1, 1, 4], [0, 1, 1, 5], [1, 1, 1, 5], [0, 1, 1, 6], [1, 1, 1, 6], [0, 1, 2, 2], [1, 1, 2, 2], [0, 1, 2, 3], [1, 1, 2, 3], [0, 1, 2, 4], [1, 1, 2, 4], [0, 1, 2, 5], [1, 1, 2, 5], [0, 1, 2, 6], [1, 1, 2, 6], [0, 1, 3, 3], [1, 1, 3, 3], [0, 1, 3, 4], [1, 1, 3, 4], [0, 1, 3, 5], [1, 1, 3, 5], [0, 1, 3, 6], [1, 1, 3, 6], [0, 1, 4, 4], [1, 1, 4, 4], [0, 1, 4, 5], [1, 1, 4, 5], [0, 1, 4, 6], [1, 1, 4, 6], [0, 2, 2, 2], [1, 2, 2, 2], [0, 2, 2, 3], [1, 2, 2, 3], [0, 2, 2, 4], [1, 2, 2, 4], [0, 2, 2, 5], [1, 2, 2, 5], [0, 2, 2, 6], [1, 2, 2, 6], [0, 2, 3, 3], [1, 2, 3, 3], [0, 2, 3, 4], [1, 2, 3, 4], [0, 2, 3, 5], [1, 2, 3, 5], [0, 2, 3, 6], [1, 2, 3, 6], [0, 2, 4, 4], [1, 2, 4, 4], [0, 2, 4, 5], [1, 2, 4, 5], [0, 2, 4, 6], [1, 2, 4, 6], [0, 3, 3, 3], [1, 3, 3, 3], [0, 3, 3, 4], [1, 3, 3, 4], [0, 3, 3, 5], [1, 3, 3, 5], [0, 3, 3, 6], [1, 3, 3, 6], [0, 3, 4, 4], [1, 3, 4, 4], [0, 3, 4, 5], [1, 3, 4, 5], [0, 3, 4, 6], [1, 3, 4, 6]]\n",
      "after change, new_lis:[[0, 0, 0, 0], [0, 0, 0, 1], [0, 0, 1, 1], [0, 0, 0, 2], [0, 0, 1, 2], [0, 0, 0, 3], [0, 0, 1, 3], [0, 0, 0, 4], [0, 0, 1, 4], [0, 0, 0, 5], [0, 0, 1, 5], [0, 0, 0, 6], [0, 0, 1, 6], [0, 1, 1, 1], [0, 1, 1, 2], [0, 1, 1, 3], [0, 1, 1, 4], [0, 1, 1, 5], [0, 1, 1, 6], [0, 0, 2, 2], [0, 1, 2, 2], [0, 0, 2, 3], [0, 1, 2, 3], [0, 0, 2, 4], [0, 1, 2, 4], [0, 0, 2, 5], [0, 1, 2, 5], [0, 0, 2, 6], [0, 1, 2, 6], [0, 0, 3, 3], [0, 1, 3, 3], [0, 0, 3, 4], [0, 1, 3, 4], [0, 0, 3, 5], [0, 1, 3, 5], [0, 0, 3, 6], [0, 1, 3, 6], [0, 0, 4, 4], [0, 1, 4, 4], [0, 0, 4, 5], [0, 1, 4, 5], [0, 0, 4, 6], [0, 1, 4, 6], [1, 1, 1, 1], [1, 1, 1, 2], [1, 1, 1, 3], [1, 1, 1, 4], [1, 1, 1, 5], [1, 1, 1, 6], [1, 1, 2, 2], [1, 1, 2, 3], [1, 1, 2, 4], [1, 1, 2, 5], [1, 1, 2, 6], [1, 1, 3, 3], [1, 1, 3, 4], [1, 1, 3, 5], [1, 1, 3, 6], [1, 1, 4, 4], [1, 1, 4, 5], [1, 1, 4, 6], [0, 2, 2, 2], [1, 2, 2, 2], [0, 2, 2, 3], [1, 2, 2, 3], [0, 2, 2, 4], [1, 2, 2, 4], [0, 2, 2, 5], [1, 2, 2, 5], [0, 2, 2, 6], [1, 2, 2, 6], [0, 2, 3, 3], [1, 2, 3, 3], [0, 2, 3, 4], [1, 2, 3, 4], [0, 2, 3, 5], [1, 2, 3, 5], [0, 2, 3, 6], [1, 2, 3, 6], [0, 2, 4, 4], [1, 2, 4, 4], [0, 2, 4, 5], [1, 2, 4, 5], [0, 2, 4, 6], [1, 2, 4, 6], [0, 3, 3, 3], [1, 3, 3, 3], [0, 3, 3, 4], [1, 3, 3, 4], [0, 3, 3, 5], [1, 3, 3, 5], [0, 3, 3, 6], [1, 3, 3, 6], [0, 3, 4, 4], [1, 3, 4, 4], [0, 3, 4, 5], [1, 3, 4, 5], [0, 3, 4, 6], [1, 3, 4, 6]]\n",
      "非重复的列表元素个数:99, 列表:\n",
      " [[0, 0, 0, 0], [0, 0, 0, 1], [0, 0, 1, 1], [0, 0, 0, 2], [0, 0, 1, 2], [0, 0, 0, 3], [0, 0, 1, 3], [0, 0, 0, 4], [0, 0, 1, 4], [0, 0, 0, 5], [0, 0, 1, 5], [0, 0, 0, 6], [0, 0, 1, 6], [0, 1, 1, 1], [0, 1, 1, 2], [0, 1, 1, 3], [0, 1, 1, 4], [0, 1, 1, 5], [0, 1, 1, 6], [0, 0, 2, 2], [0, 1, 2, 2], [0, 0, 2, 3], [0, 1, 2, 3], [0, 0, 2, 4], [0, 1, 2, 4], [0, 0, 2, 5], [0, 1, 2, 5], [0, 0, 2, 6], [0, 1, 2, 6], [0, 0, 3, 3], [0, 1, 3, 3], [0, 0, 3, 4], [0, 1, 3, 4], [0, 0, 3, 5], [0, 1, 3, 5], [0, 0, 3, 6], [0, 1, 3, 6], [0, 0, 4, 4], [0, 1, 4, 4], [0, 0, 4, 5], [0, 1, 4, 5], [0, 0, 4, 6], [0, 1, 4, 6], [1, 1, 1, 1], [1, 1, 1, 2], [1, 1, 1, 3], [1, 1, 1, 4], [1, 1, 1, 5], [1, 1, 1, 6], [1, 1, 2, 2], [1, 1, 2, 3], [1, 1, 2, 4], [1, 1, 2, 5], [1, 1, 2, 6], [1, 1, 3, 3], [1, 1, 3, 4], [1, 1, 3, 5], [1, 1, 3, 6], [1, 1, 4, 4], [1, 1, 4, 5], [1, 1, 4, 6], [0, 2, 2, 2], [1, 2, 2, 2], [0, 2, 2, 3], [1, 2, 2, 3], [0, 2, 2, 4], [1, 2, 2, 4], [0, 2, 2, 5], [1, 2, 2, 5], [0, 2, 2, 6], [1, 2, 2, 6], [0, 2, 3, 3], [1, 2, 3, 3], [0, 2, 3, 4], [1, 2, 3, 4], [0, 2, 3, 5], [1, 2, 3, 5], [0, 2, 3, 6], [1, 2, 3, 6], [0, 2, 4, 4], [1, 2, 4, 4], [0, 2, 4, 5], [1, 2, 4, 5], [0, 2, 4, 6], [1, 2, 4, 6], [0, 3, 3, 3], [1, 3, 3, 3], [0, 3, 3, 4], [1, 3, 3, 4], [0, 3, 3, 5], [1, 3, 3, 5], [0, 3, 3, 6], [1, 3, 3, 6], [0, 3, 4, 4], [1, 3, 4, 4], [0, 3, 4, 5], [1, 3, 4, 5], [0, 3, 4, 6], [1, 3, 4, 6]]\n"
     ]
    }
   ],
   "source": [
    "three_lis = [0,1]\n",
    "three_level_lis = gen_list(del_two_level_lis, three_lis)  # 把嵌套列表放在参数1位置del_lis ,预期 62 * 2\n",
    "\n",
    "print('{}, del_three_level_lis:{}'.format(len(three_level_lis), three_level_lis))\n",
    "del_three_level_lis = del_sorted_repead(three_level_lis)\n",
    "print('非重复的列表元素个数:{}, 列表:\\n {}'.format(len(del_three_level_lis), del_three_level_lis))"
   ]
  },
  {
   "cell_type": "code",
   "execution_count": 176,
   "metadata": {},
   "outputs": [],
   "source": [
    "from contextlib import contextmanager\n",
    "@contextmanager\n",
    "def timer():\n",
    "    \"\"\" Measure real-time execution of a block of code \"\"\"\n",
    "    \n",
    "    try:\n",
    "        start = time.time()\n",
    "        yield\n",
    "    finally:\n",
    "        end = (time.time() - start)*1000\n",
    "        print('time taken=> %.2f ms' % end)\n",
    "        \n",
    "def max_subarray(sequence):\n",
    "    \"\"\" Maximum subarray - optimized version \"\"\"\n",
    "\n",
    "    max_here = max_far = 0\n",
    "    for x in sequence:\n",
    "        max_here = max(0, max_here + x)\n",
    "        print('max_here:{}'.format(max_here))\n",
    "        max_far = max(max_far, max_here)\n",
    "        print('max_far:{}'.format(max_far))\n",
    "    \n",
    "    return max_far"
   ]
  },
  {
   "cell_type": "code",
   "execution_count": 179,
   "metadata": {},
   "outputs": [
    {
     "name": "stdout",
     "output_type": "stream",
     "text": [
      "max_here:0\n",
      "max_far:0\n",
      "max_here:20\n",
      "max_far:20\n",
      "max_here:10\n",
      "max_far:20\n",
      "max_here:40\n",
      "max_far:40\n",
      "cost time:0.00049591064453125\n"
=======
   "execution_count": 28,
   "metadata": {},
   "outputs": [
    {
     "ename": "TypeError",
     "evalue": "unhashable type: 'list'",
     "output_type": "error",
     "traceback": [
      "\u001b[0;31m---------------------------------------------------------------------------\u001b[0m",
      "\u001b[0;31mTypeError\u001b[0m                                 Traceback (most recent call last)",
      "\u001b[0;32m<ipython-input-28-56093e74bc3b>\u001b[0m in \u001b[0;36m<module>\u001b[0;34m\u001b[0m\n\u001b[0;32m----> 1\u001b[0;31m \u001b[0mset\u001b[0m\u001b[0;34m(\u001b[0m\u001b[0;34m[\u001b[0m\u001b[0;36m1\u001b[0m\u001b[0;34m,\u001b[0m\u001b[0;36m2\u001b[0m\u001b[0;34m,\u001b[0m\u001b[0;36m3\u001b[0m\u001b[0;34m,\u001b[0m\u001b[0;34m[\u001b[0m\u001b[0;36m1\u001b[0m\u001b[0;34m,\u001b[0m\u001b[0;36m2\u001b[0m\u001b[0;34m]\u001b[0m\u001b[0;34m]\u001b[0m\u001b[0;34m)\u001b[0m\u001b[0;34m\u001b[0m\u001b[0;34m\u001b[0m\u001b[0m\n\u001b[0m",
      "\u001b[0;31mTypeError\u001b[0m: unhashable type: 'list'"
>>>>>>> db44f48aa98ad4bc311c002b35c3585a02277c61
     ]
    }
   ],
   "source": [
<<<<<<< HEAD
    "import time\n",
    "start = time.time()\n",
    "max_subarray([-5, 20, -10, 30])\n",
    "print('cost time:{}'.format(time.time() - start))"
=======
    "set([1,2,3,[1,2]])"
>>>>>>> db44f48aa98ad4bc311c002b35c3585a02277c61
   ]
  },
  {
   "cell_type": "code",
   "execution_count": null,
   "metadata": {},
   "outputs": [],
   "source": []
  }
 ],
 "metadata": {
  "kernelspec": {
   "display_name": "Python 3",
   "language": "python",
   "name": "python3"
  },
  "language_info": {
   "codemirror_mode": {
    "name": "ipython",
    "version": 3
   },
   "file_extension": ".py",
   "mimetype": "text/x-python",
   "name": "python",
   "nbconvert_exporter": "python",
   "pygments_lexer": "ipython3",
   "version": "3.6.8"
  }
 },
 "nbformat": 4,
 "nbformat_minor": 2
}
